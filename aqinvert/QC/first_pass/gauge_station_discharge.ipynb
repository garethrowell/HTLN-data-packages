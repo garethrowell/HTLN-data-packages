{
 "cells": [
  {
   "cell_type": "markdown",
   "id": "1b9f9029-f215-45c1-af6f-c94f98281089",
   "metadata": {},
   "source": [
    "Purpose: to QC Aquatic Invertebrate data file - FieldMeasured_DischargeDetail.csv"
   ]
  },
  {
   "cell_type": "code",
   "execution_count": 1,
   "id": "b72034c7-cb39-4e64-92d6-9aa5ef494d9a",
   "metadata": {},
   "outputs": [],
   "source": [
    "import pandas as pd\n",
    "import matplotlib.pyplot as plt"
   ]
  },
  {
   "cell_type": "code",
   "execution_count": 2,
   "id": "176f2ada-7c7b-44ed-b815-6d71e4ec7ec1",
   "metadata": {},
   "outputs": [],
   "source": [
    "df = pd.read_csv(\"gauge_station_discharge.csv\")"
   ]
  },
  {
   "cell_type": "code",
   "execution_count": 3,
   "id": "09a376c8-e74c-4a57-8404-dc00206d6375",
   "metadata": {},
   "outputs": [
    {
     "data": {
      "text/html": [
       "<div>\n",
       "<style scoped>\n",
       "    .dataframe tbody tr th:only-of-type {\n",
       "        vertical-align: middle;\n",
       "    }\n",
       "\n",
       "    .dataframe tbody tr th {\n",
       "        vertical-align: top;\n",
       "    }\n",
       "\n",
       "    .dataframe thead th {\n",
       "        text-align: right;\n",
       "    }\n",
       "</style>\n",
       "<table border=\"1\" class=\"dataframe\">\n",
       "  <thead>\n",
       "    <tr style=\"text-align: right;\">\n",
       "      <th></th>\n",
       "      <th>ParkName</th>\n",
       "      <th>ParkCode</th>\n",
       "      <th>LocationID</th>\n",
       "      <th>PeriodID</th>\n",
       "      <th>EventID</th>\n",
       "      <th>GaugeSiteNo</th>\n",
       "      <th>StreamName</th>\n",
       "      <th>GaugeLocation</th>\n",
       "      <th>Discharge_cms</th>\n",
       "      <th>Comments</th>\n",
       "      <th>Units</th>\n",
       "    </tr>\n",
       "  </thead>\n",
       "  <tbody>\n",
       "    <tr>\n",
       "      <th>0</th>\n",
       "      <td>Buffalo National River</td>\n",
       "      <td>BUFF</td>\n",
       "      <td>BUFFRMINVEBM01</td>\n",
       "      <td>BUFFRMINVE2011Dec01</td>\n",
       "      <td>BUFFRMINVE2012Jan05</td>\n",
       "      <td>7055646</td>\n",
       "      <td>Buffalo River</td>\n",
       "      <td>Buffalo River near Boxley. AR</td>\n",
       "      <td>1.16</td>\n",
       "      <td>cms - Boxley USGS gauge</td>\n",
       "      <td>meters</td>\n",
       "    </tr>\n",
       "    <tr>\n",
       "      <th>1</th>\n",
       "      <td>Buffalo National River</td>\n",
       "      <td>BUFF</td>\n",
       "      <td>BUFFRMINVEBM01</td>\n",
       "      <td>BUFFRMINVE2015Nov23</td>\n",
       "      <td>BUFFRMINVE2015Dec17</td>\n",
       "      <td>7055646</td>\n",
       "      <td>Buffalo River</td>\n",
       "      <td>Buffalo River near Boxley. AR</td>\n",
       "      <td>1.35</td>\n",
       "      <td>NaN</td>\n",
       "      <td>meters</td>\n",
       "    </tr>\n",
       "    <tr>\n",
       "      <th>2</th>\n",
       "      <td>Buffalo National River</td>\n",
       "      <td>BUFF</td>\n",
       "      <td>BUFFRMINVEBM01</td>\n",
       "      <td>BUFFRMINVE2019Nov04</td>\n",
       "      <td>BUFFRMINVE2019Nov18</td>\n",
       "      <td>7055646</td>\n",
       "      <td>Buffalo River</td>\n",
       "      <td>Buffalo River near Boxley. AR</td>\n",
       "      <td>2.37</td>\n",
       "      <td>NaN</td>\n",
       "      <td>meters</td>\n",
       "    </tr>\n",
       "    <tr>\n",
       "      <th>3</th>\n",
       "      <td>Buffalo National River</td>\n",
       "      <td>BUFF</td>\n",
       "      <td>BUFFRMINVEBM01</td>\n",
       "      <td>BUFFRMINVE2021Nov01</td>\n",
       "      <td>BUFFRMINVE2021Nov10</td>\n",
       "      <td>7055646</td>\n",
       "      <td>Buffalo River</td>\n",
       "      <td>Buffalo River near Boxley. AR</td>\n",
       "      <td>0.46</td>\n",
       "      <td>NaN</td>\n",
       "      <td>meters</td>\n",
       "    </tr>\n",
       "    <tr>\n",
       "      <th>4</th>\n",
       "      <td>Buffalo National River</td>\n",
       "      <td>BUFF</td>\n",
       "      <td>BUFFRMINVEBM01</td>\n",
       "      <td>BUFFRMINVE2023Nov01</td>\n",
       "      <td>BUFFRMINVE2023Nov14</td>\n",
       "      <td>7055646</td>\n",
       "      <td>Buffalo River</td>\n",
       "      <td>Buffalo River near Boxley. AR</td>\n",
       "      <td>0.22</td>\n",
       "      <td>NaN</td>\n",
       "      <td>meters</td>\n",
       "    </tr>\n",
       "    <tr>\n",
       "      <th>...</th>\n",
       "      <td>...</td>\n",
       "      <td>...</td>\n",
       "      <td>...</td>\n",
       "      <td>...</td>\n",
       "      <td>...</td>\n",
       "      <td>...</td>\n",
       "      <td>...</td>\n",
       "      <td>...</td>\n",
       "      <td>...</td>\n",
       "      <td>...</td>\n",
       "      <td>...</td>\n",
       "    </tr>\n",
       "    <tr>\n",
       "      <th>116</th>\n",
       "      <td>Ozark National Scenic Riverways</td>\n",
       "      <td>OZAR</td>\n",
       "      <td>OZARRMINVECM06</td>\n",
       "      <td>OZARRMINVE2014Nov05</td>\n",
       "      <td>OZARRMINVE2014Nov18</td>\n",
       "      <td>14134500</td>\n",
       "      <td>Current River + Big Spring</td>\n",
       "      <td>Current River and Big Spring near Van Buren. MO</td>\n",
       "      <td>31.80</td>\n",
       "      <td>Van Buren + Big Spring (cms)</td>\n",
       "      <td>meters</td>\n",
       "    </tr>\n",
       "    <tr>\n",
       "      <th>117</th>\n",
       "      <td>Ozark National Scenic Riverways</td>\n",
       "      <td>OZAR</td>\n",
       "      <td>OZARRMINVECM06</td>\n",
       "      <td>OZARRMINVE2016Nov01</td>\n",
       "      <td>OZARRMINVE2016Nov03</td>\n",
       "      <td>14134500</td>\n",
       "      <td>Current River + Big Spring</td>\n",
       "      <td>Current River and Big Spring near Van Buren. MO</td>\n",
       "      <td>43.32</td>\n",
       "      <td>Van Buren + Big Spring (cms)</td>\n",
       "      <td>meters</td>\n",
       "    </tr>\n",
       "    <tr>\n",
       "      <th>118</th>\n",
       "      <td>Ozark National Scenic Riverways</td>\n",
       "      <td>OZAR</td>\n",
       "      <td>OZARRMINVECM06</td>\n",
       "      <td>OZARRMINVE2018Nov07</td>\n",
       "      <td>OZARRMINVE2018Nov20</td>\n",
       "      <td>14134500</td>\n",
       "      <td>Current River + Big Spring</td>\n",
       "      <td>Current River and Big Spring near Van Buren. MO</td>\n",
       "      <td>39.34</td>\n",
       "      <td>NaN</td>\n",
       "      <td>meters</td>\n",
       "    </tr>\n",
       "    <tr>\n",
       "      <th>119</th>\n",
       "      <td>Ozark National Scenic Riverways</td>\n",
       "      <td>OZAR</td>\n",
       "      <td>OZARRMINVECM06</td>\n",
       "      <td>OZARRMINVE2020Nov17</td>\n",
       "      <td>OZARRMINVE2021Jan08</td>\n",
       "      <td>14134500</td>\n",
       "      <td>Current River + Big Spring</td>\n",
       "      <td>Current River and Big Spring near Van Buren. MO</td>\n",
       "      <td>80.59</td>\n",
       "      <td>NaN</td>\n",
       "      <td>meters</td>\n",
       "    </tr>\n",
       "    <tr>\n",
       "      <th>120</th>\n",
       "      <td>Ozark National Scenic Riverways</td>\n",
       "      <td>OZAR</td>\n",
       "      <td>OZARRMINVECM06</td>\n",
       "      <td>OZARRMINVE2022Oct25</td>\n",
       "      <td>OZARRMINVE2022Nov04</td>\n",
       "      <td>14134500</td>\n",
       "      <td>Current River + Big Spring</td>\n",
       "      <td>Current River and Big Spring near Van Buren. MO</td>\n",
       "      <td>40.38</td>\n",
       "      <td>NaN</td>\n",
       "      <td>meters</td>\n",
       "    </tr>\n",
       "  </tbody>\n",
       "</table>\n",
       "<p>121 rows × 11 columns</p>\n",
       "</div>"
      ],
      "text/plain": [
       "                            ParkName ParkCode      LocationID  \\\n",
       "0             Buffalo National River     BUFF  BUFFRMINVEBM01   \n",
       "1             Buffalo National River     BUFF  BUFFRMINVEBM01   \n",
       "2             Buffalo National River     BUFF  BUFFRMINVEBM01   \n",
       "3             Buffalo National River     BUFF  BUFFRMINVEBM01   \n",
       "4             Buffalo National River     BUFF  BUFFRMINVEBM01   \n",
       "..                               ...      ...             ...   \n",
       "116  Ozark National Scenic Riverways     OZAR  OZARRMINVECM06   \n",
       "117  Ozark National Scenic Riverways     OZAR  OZARRMINVECM06   \n",
       "118  Ozark National Scenic Riverways     OZAR  OZARRMINVECM06   \n",
       "119  Ozark National Scenic Riverways     OZAR  OZARRMINVECM06   \n",
       "120  Ozark National Scenic Riverways     OZAR  OZARRMINVECM06   \n",
       "\n",
       "                PeriodID              EventID  GaugeSiteNo  \\\n",
       "0    BUFFRMINVE2011Dec01  BUFFRMINVE2012Jan05      7055646   \n",
       "1    BUFFRMINVE2015Nov23  BUFFRMINVE2015Dec17      7055646   \n",
       "2    BUFFRMINVE2019Nov04  BUFFRMINVE2019Nov18      7055646   \n",
       "3    BUFFRMINVE2021Nov01  BUFFRMINVE2021Nov10      7055646   \n",
       "4    BUFFRMINVE2023Nov01  BUFFRMINVE2023Nov14      7055646   \n",
       "..                   ...                  ...          ...   \n",
       "116  OZARRMINVE2014Nov05  OZARRMINVE2014Nov18     14134500   \n",
       "117  OZARRMINVE2016Nov01  OZARRMINVE2016Nov03     14134500   \n",
       "118  OZARRMINVE2018Nov07  OZARRMINVE2018Nov20     14134500   \n",
       "119  OZARRMINVE2020Nov17  OZARRMINVE2021Jan08     14134500   \n",
       "120  OZARRMINVE2022Oct25  OZARRMINVE2022Nov04     14134500   \n",
       "\n",
       "                     StreamName  \\\n",
       "0                 Buffalo River   \n",
       "1                 Buffalo River   \n",
       "2                 Buffalo River   \n",
       "3                 Buffalo River   \n",
       "4                 Buffalo River   \n",
       "..                          ...   \n",
       "116  Current River + Big Spring   \n",
       "117  Current River + Big Spring   \n",
       "118  Current River + Big Spring   \n",
       "119  Current River + Big Spring   \n",
       "120  Current River + Big Spring   \n",
       "\n",
       "                                       GaugeLocation  Discharge_cms  \\\n",
       "0                      Buffalo River near Boxley. AR           1.16   \n",
       "1                      Buffalo River near Boxley. AR           1.35   \n",
       "2                      Buffalo River near Boxley. AR           2.37   \n",
       "3                      Buffalo River near Boxley. AR           0.46   \n",
       "4                      Buffalo River near Boxley. AR           0.22   \n",
       "..                                               ...            ...   \n",
       "116  Current River and Big Spring near Van Buren. MO          31.80   \n",
       "117  Current River and Big Spring near Van Buren. MO          43.32   \n",
       "118  Current River and Big Spring near Van Buren. MO          39.34   \n",
       "119  Current River and Big Spring near Van Buren. MO          80.59   \n",
       "120  Current River and Big Spring near Van Buren. MO          40.38   \n",
       "\n",
       "                         Comments   Units  \n",
       "0         cms - Boxley USGS gauge  meters  \n",
       "1                             NaN  meters  \n",
       "2                             NaN  meters  \n",
       "3                             NaN  meters  \n",
       "4                             NaN  meters  \n",
       "..                            ...     ...  \n",
       "116  Van Buren + Big Spring (cms)  meters  \n",
       "117  Van Buren + Big Spring (cms)  meters  \n",
       "118                           NaN  meters  \n",
       "119                           NaN  meters  \n",
       "120                           NaN  meters  \n",
       "\n",
       "[121 rows x 11 columns]"
      ]
     },
     "execution_count": 3,
     "metadata": {},
     "output_type": "execute_result"
    }
   ],
   "source": [
    "df"
   ]
  },
  {
   "cell_type": "code",
   "execution_count": 4,
   "id": "60b00748-e1e6-454d-b762-4ae5fa3ee2c0",
   "metadata": {},
   "outputs": [
    {
     "data": {
      "text/plain": [
       "ParkName          object\n",
       "ParkCode          object\n",
       "LocationID        object\n",
       "PeriodID          object\n",
       "EventID           object\n",
       "GaugeSiteNo        int64\n",
       "StreamName        object\n",
       "GaugeLocation     object\n",
       "Discharge_cms    float64\n",
       "Comments          object\n",
       "Units             object\n",
       "dtype: object"
      ]
     },
     "execution_count": 4,
     "metadata": {},
     "output_type": "execute_result"
    }
   ],
   "source": [
    "df.dtypes"
   ]
  },
  {
   "cell_type": "code",
   "execution_count": 5,
   "id": "cbdc8492-2f84-42de-91f3-1c4d1d910d22",
   "metadata": {},
   "outputs": [
    {
     "data": {
      "text/plain": [
       "array(['Buffalo National River', 'Herbert Hoover National Historic Site',\n",
       "       'Ozark National Scenic Riverways'], dtype=object)"
      ]
     },
     "execution_count": 5,
     "metadata": {},
     "output_type": "execute_result"
    }
   ],
   "source": [
    "df['ParkName'].unique() \n"
   ]
  },
  {
   "cell_type": "code",
   "execution_count": 6,
   "id": "16ae220c-15b7-40c2-b1ea-551400ced649",
   "metadata": {},
   "outputs": [
    {
     "data": {
      "text/plain": [
       "array(['BUFF', 'HEHO', 'OZAR'], dtype=object)"
      ]
     },
     "execution_count": 6,
     "metadata": {},
     "output_type": "execute_result"
    }
   ],
   "source": [
    "df['ParkCode'].unique() \n"
   ]
  },
  {
   "cell_type": "code",
   "execution_count": 7,
   "id": "d7187bb5-b7ec-4dfc-8466-4ec66682b187",
   "metadata": {},
   "outputs": [
    {
     "data": {
      "text/plain": [
       "array(['BUFFRMINVEBM01', 'BUFFRMINVEBM02', 'BUFFRMINVEBM03',\n",
       "       'BUFFRMINVEBT13', 'BUFFRMINVEBM04', 'BUFFRMINVEBM05',\n",
       "       'BUFFRMINVEBT20', 'BUFFRMINVEBM06', 'HEHOAqubug01',\n",
       "       'OZARRMINVECM01', 'OZARRMINVECM02', 'OZARRMINVECM03',\n",
       "       'OZARRMINVEJM01', 'OZARRMINVEJM02', 'OZARRMINVEJM03',\n",
       "       'OZARRMINVECM04', 'OZARRMINVECM05', 'OZARRMINVECM06'], dtype=object)"
      ]
     },
     "execution_count": 7,
     "metadata": {},
     "output_type": "execute_result"
    }
   ],
   "source": [
    "df['LocationID'].unique() "
   ]
  },
  {
   "cell_type": "code",
   "execution_count": 8,
   "id": "8c1f5883-7ffa-4ed6-8f18-4c915a6f8e9c",
   "metadata": {},
   "outputs": [
    {
     "data": {
      "text/plain": [
       "array(['BUFFRMINVE2011Dec01', 'BUFFRMINVE2015Nov23',\n",
       "       'BUFFRMINVE2019Nov04', 'BUFFRMINVE2021Nov01',\n",
       "       'BUFFRMINVE2023Nov01', 'BUFFRMINVE2017Nov15',\n",
       "       'BUFFRMINVE2013Nov21', 'BUFFRMINVE2007JAN04',\n",
       "       'HEHOAqubug2008Jul07', 'HEHOAqubug2011Jul11',\n",
       "       'HEHOAqubug2014Aug01', 'OZARRMINVE2012Nov13',\n",
       "       'OZARRMINVE2014Nov05', 'OZARRMINVE2016Nov01',\n",
       "       'OZARRMINVE2018Nov07', 'OZARRMINVE2020Nov17',\n",
       "       'OZARRMINVE2022Oct25', 'OZARRMINVE2009Nov06',\n",
       "       'OZARRMINVE2006JAN03', 'OZARRMINVE2006NOV14',\n",
       "       'OZARRMINVE2007Nov01', 'OZARRMINVE2008Nov05'], dtype=object)"
      ]
     },
     "execution_count": 8,
     "metadata": {},
     "output_type": "execute_result"
    }
   ],
   "source": [
    "df['PeriodID'].unique() "
   ]
  },
  {
   "cell_type": "code",
   "execution_count": 9,
   "id": "5ea53881-4694-49b9-805f-c71bec1678be",
   "metadata": {},
   "outputs": [
    {
     "data": {
      "text/plain": [
       "array(['BUFFRMINVE2012Jan05', 'BUFFRMINVE2015Dec17',\n",
       "       'BUFFRMINVE2019Nov18', 'BUFFRMINVE2021Nov10',\n",
       "       'BUFFRMINVE2023Nov14', 'BUFFRMINVE2012Jan06',\n",
       "       'BUFFRMINVE2015Dec18', 'BUFFRMINVE2017Nov29',\n",
       "       'BUFFRMINVE2019Nov20', 'BUFFRMINVE2021Nov09',\n",
       "       'BUFFRMINVE2023Nov02', 'BUFFRMINVE2012Jan09',\n",
       "       'BUFFRMINVE2014Feb19', 'BUFFRMINVE2017Dec01',\n",
       "       'BUFFRMINVE2021Nov08', 'BUFFRMINVE2015Nov23',\n",
       "       'BUFFRMINVE2012Jan04', 'BUFFRMINVE2013Dec04',\n",
       "       'BUFFRMINVE2015Nov24', 'BUFFRMINVE2017Nov16',\n",
       "       'BUFFRMINVE2021Nov03', 'BUFFRMINVE2023Nov03',\n",
       "       'BUFFRMINVE2007FEB22', 'BUFFRMINVE2012Jan10',\n",
       "       'BUFFRMINVE2017Nov30', 'BUFFRMINVE2019Nov21',\n",
       "       'BUFFRMINVE2021Nov02', 'BUFFRMINVE2023Nov07',\n",
       "       'BUFFRMINVE2019Nov05', 'BUFFRMINVE2023Nov06',\n",
       "       'BUFFRMINVE2012Jan18', 'BUFFRMINVE2015Dec09',\n",
       "       'BUFFRMINVE2017Dec08', 'BUFFRMINVE2019Nov19',\n",
       "       'BUFFRMINVE2021Nov01', 'BUFFRMINVE2023Nov08',\n",
       "       'HEHOAqubug2008Jul07', 'HEHOAqubug2011Jul11',\n",
       "       'HEHOAquBug2014Aug01', 'OZARRMINVE2012Nov13',\n",
       "       'OZARRMINVE2014Nov13', 'OZARRMINVE2016Nov09',\n",
       "       'OZARRMINVE2018Nov13', 'OZARRMINVE2020Nov17',\n",
       "       'OZARRMINVE2022Oct27', 'OZARRMINVE2009Dec02',\n",
       "       'OZARRMINVE2012Nov28', 'OZARRMINVE2016Nov04',\n",
       "       'OZARRMINVE2018Nov08', 'OZARRMINVE2021Jan11',\n",
       "       'OZARRMINVE2009Nov12', 'OZARRMINVE2014Nov12',\n",
       "       'OZARRMINVE2016Nov03', 'OZARRMINVE2020Dec11',\n",
       "       'OZARRMINVE2012Dec04', 'OZARRMINVE2014Nov05',\n",
       "       'OZARRMINVE2016Nov01', 'OZARRMINVE2018Nov07',\n",
       "       'OZARRMINVE2020Dec08', 'OZARRMINVE2022Oct25',\n",
       "       'OZARRMINVE2020Dec10', 'OZARRMINVE2012Dec05',\n",
       "       'OZARRMINVE2014Nov06', 'OZARRMINVE2016Nov02',\n",
       "       'OZARRMINVE2020Nov30', 'OZARRMINVE2022Oct26',\n",
       "       'OZARRMINVE2006JAN24', 'OZARRMINVE2006NOV14',\n",
       "       'OZARRMINVE2007Nov05', 'OZARRMINVE2008Nov20',\n",
       "       'OZARRMINVE2009Dec03', 'OZARRMINVE2012Nov27',\n",
       "       'OZARRMINVE2014Nov19', 'OZARRMINVE2016Nov10',\n",
       "       'OZARRMINVE2018Nov19', 'OZARRMINVE2021Jan05',\n",
       "       'OZARRMINVE2022Oct28', 'OZARRMINVE2006JAN18',\n",
       "       'OZARRMINVE2006DEC19', 'OZARRMINVE2007Nov02',\n",
       "       'OZARRMINVE2008Nov21', 'OZARRMINVE2020Nov19',\n",
       "       'OZARRMINVE2022Nov03', 'OZARRMINVE2007Nov01',\n",
       "       'OZARRMINVE2006JAN20', 'OZARRMINVE2006DEC18',\n",
       "       'OZARRMINVE2008Nov05', 'OZARRMINVE2012Nov29',\n",
       "       'OZARRMINVE2014Nov18', 'OZARRMINVE2018Nov20',\n",
       "       'OZARRMINVE2021Jan08', 'OZARRMINVE2022Nov04'], dtype=object)"
      ]
     },
     "execution_count": 9,
     "metadata": {},
     "output_type": "execute_result"
    }
   ],
   "source": [
    "df['EventID'].unique()"
   ]
  },
  {
   "cell_type": "code",
   "execution_count": 10,
   "id": "6aeeb17a-b627-40c9-b94e-6a4cd10791b0",
   "metadata": {},
   "outputs": [
    {
     "data": {
      "text/plain": [
       "array([ 7055646,  7055680,  7055790,  7056000,  7056515,  7056700,\n",
       "       14111470,  5464942,  7064440,  7064533,  7065200,  7067000,\n",
       "        7067500, 14134500])"
      ]
     },
     "execution_count": 10,
     "metadata": {},
     "output_type": "execute_result"
    }
   ],
   "source": [
    "df['GaugeSiteNo'].unique()"
   ]
  },
  {
   "cell_type": "code",
   "execution_count": 11,
   "id": "94bac7d1-22ab-48f3-a327-86df2af3ac07",
   "metadata": {},
   "outputs": [
    {
     "data": {
      "text/plain": [
       "array(['Buffalo River', 'Big Creek', 'Bear Creek', 'Hoover Creek ',\n",
       "       'Current River', 'Jacks Fork', 'Big Spring',\n",
       "       'Current River + Big Spring'], dtype=object)"
      ]
     },
     "execution_count": 11,
     "metadata": {},
     "output_type": "execute_result"
    }
   ],
   "source": [
    "df['StreamName'].unique()"
   ]
  },
  {
   "cell_type": "code",
   "execution_count": 12,
   "id": "99086034-e79e-464b-bc1a-95d5d146d639",
   "metadata": {},
   "outputs": [
    {
     "data": {
      "text/plain": [
       "ParkName          object\n",
       "ParkCode          object\n",
       "LocationID        object\n",
       "PeriodID          object\n",
       "EventID           object\n",
       "GaugeSiteNo        int64\n",
       "StreamName        object\n",
       "GaugeLocation     object\n",
       "Discharge_cms    float64\n",
       "Comments          object\n",
       "Units             object\n",
       "dtype: object"
      ]
     },
     "execution_count": 12,
     "metadata": {},
     "output_type": "execute_result"
    }
   ],
   "source": [
    "df.dtypes"
   ]
  },
  {
   "cell_type": "code",
   "execution_count": 13,
   "id": "dff9d5fa-1c79-44f0-b68d-12a79172289e",
   "metadata": {},
   "outputs": [
    {
     "data": {
      "text/plain": [
       "array(['Buffalo River near Boxley. AR', 'Buffalo River at Pruitt. AR',\n",
       "       'Big Creek near Mt. Judea. AR', 'Buffalo River near St. Joe. AR',\n",
       "       'Bear Creek near Silver Hill. AR',\n",
       "       'Buffalo River near Harriet. AR',\n",
       "       'Buffalo River at Pruitt and Big Creek near Mt. Judea AR',\n",
       "       'Hoover Nat Hist Site. West Branch. IA',\n",
       "       'Current River at Montauk State Park. MO',\n",
       "       'Current River above Akers. MO',\n",
       "       'Jacks Fork near Mountain View. MO',\n",
       "       'Current River at Van Buren. MO', 'Big Spring near Van Buren. MO',\n",
       "       'Current River and Big Spring near Van Buren. MO'], dtype=object)"
      ]
     },
     "execution_count": 13,
     "metadata": {},
     "output_type": "execute_result"
    }
   ],
   "source": [
    "df['GaugeLocation'].unique()"
   ]
  },
  {
   "cell_type": "code",
   "execution_count": 14,
   "id": "95e48eec-a5ae-4c0d-a80d-2e7faea61aae",
   "metadata": {},
   "outputs": [
    {
     "data": {
      "text/plain": [
       "array([[<Axes: title={'center': 'Discharge_cms'}>]], dtype=object)"
      ]
     },
     "execution_count": 14,
     "metadata": {},
     "output_type": "execute_result"
    },
    {
     "data": {
      "image/png": "[encoded data removed]",
      "text/plain": [
       "<Figure size 640x480 with 1 Axes>"
      ]
     },
     "metadata": {},
     "output_type": "display_data"
    }
   ],
   "source": [
    "col = ['Discharge_cms']\n",
    "df2 = df[df[col] > 0]\n",
    "df2.hist(column=col)"
   ]
  },
  {
   "cell_type": "code",
   "execution_count": 15,
   "id": "68e85426-5bff-44b3-a893-4f11076a3fe8",
   "metadata": {},
   "outputs": [
    {
     "data": {
      "text/plain": [
       "array(['cms - Boxley USGS gauge', nan, 'cms - Pruitt USGS gauge',\n",
       "       'Pruitt USGS gauge. Carver gauge = 6.7ft',\n",
       "       'BM03 2015 also entered as Pruitt (11.92) gauge + Big Cr (0.17) gauge',\n",
       "       'Pruitt only; Big Cr gauge no longer taking discharge',\n",
       "       'Pruitt only; Big Cr gauge no longer taking data',\n",
       "       'Pruitt gauge only; Big Cr gauge no longer collecting data',\n",
       "       'cms - St. Joe USGS gauge', 'St. Joe USGS gauge',\n",
       "       'cms - Bear Creek USGS gauge', 'Bear Creek USGS gauge',\n",
       "       'cms - Harriett USGS gauge', '11.92 (Pruitt) + 0.17 (Big Creek)',\n",
       "       'Hoover Creek (cms)', 'Montauk', 'Montauk (cms)',\n",
       "       'm3/sec; extrapolated based on Akers gage and acutal discharge in 2008',\n",
       "       'Akers', 'Akers (cms)',\n",
       "       'Extrapolated; based on akers gage and actual discharge in 2008.',\n",
       "       'Mtn. View (cms)', 'cms', 'Van Buren Gage', 'VanBuren Gage=25.32',\n",
       "       'm3/sec; Van Buren gage', 'Van Buren', 'Van Buren (cms)',\n",
       "       'VanBuren Gage=25.03', 'm3/sec; Van Buren Gage', 'cms - BS only',\n",
       "       'cms - VB + Big Spring', 'VB=25.94 BS=9.99',\n",
       "       'm3/sec; Van Buren+Big Spring',\n",
       "       'Van Buren (22.09) + Big Spring (8.61)',\n",
       "       'Van Buren + Big Spring (cms)'], dtype=object)"
      ]
     },
     "execution_count": 15,
     "metadata": {},
     "output_type": "execute_result"
    }
   ],
   "source": [
    "df['Comments'].unique()"
   ]
  },
  {
   "cell_type": "code",
   "execution_count": 16,
   "id": "d5eca26e-f99c-450f-b578-7eb3b62c8c35",
   "metadata": {},
   "outputs": [
    {
     "data": {
      "text/plain": [
       "array(['meters'], dtype=object)"
      ]
     },
     "execution_count": 16,
     "metadata": {},
     "output_type": "execute_result"
    }
   ],
   "source": [
    "df['Units'].unique()"
   ]
  },
  {
   "cell_type": "code",
   "execution_count": null,
   "id": "fae32634-60fd-4161-a43c-e25fe5ff5559",
   "metadata": {},
   "outputs": [],
   "source": []
  }
 ],
 "metadata": {
  "kernelspec": {
   "display_name": "Python 3 (ipykernel)",
   "language": "python",
   "name": "python3"
  },
  "language_info": {
   "codemirror_mode": {
    "name": "ipython",
    "version": 3
   },
   "file_extension": ".py",
   "mimetype": "text/x-python",
   "name": "python",
   "nbconvert_exporter": "python",
   "pygments_lexer": "ipython3",
   "version": "3.10.14"
  }
 },
 "nbformat": 4,
 "nbformat_minor": 5
}
