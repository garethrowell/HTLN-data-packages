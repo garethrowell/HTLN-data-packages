{
 "cells": [
  {
   "cell_type": "code",
   "execution_count": 1,
   "id": "b72034c7-cb39-4e64-92d6-9aa5ef494d9a",
   "metadata": {},
   "outputs": [],
   "source": [
    "import pandas as pd\n",
    "import matplotlib.pyplot as plt"
   ]
  },
  {
   "cell_type": "code",
   "execution_count": 2,
   "id": "176f2ada-7c7b-44ed-b815-6d71e4ec7ec1",
   "metadata": {},
   "outputs": [],
   "source": [
    "df = pd.read_csv(\"riffle_water_quality.csv\")"
   ]
  },
  {
   "cell_type": "code",
   "execution_count": 3,
   "id": "09a376c8-e74c-4a57-8404-dc00206d6375",
   "metadata": {},
   "outputs": [
    {
     "data": {
      "text/html": [
       "<div>\n",
       "<style scoped>\n",
       "    .dataframe tbody tr th:only-of-type {\n",
       "        vertical-align: middle;\n",
       "    }\n",
       "\n",
       "    .dataframe tbody tr th {\n",
       "        vertical-align: top;\n",
       "    }\n",
       "\n",
       "    .dataframe thead th {\n",
       "        text-align: right;\n",
       "    }\n",
       "</style>\n",
       "<table border=\"1\" class=\"dataframe\">\n",
       "  <thead>\n",
       "    <tr style=\"text-align: right;\">\n",
       "      <th></th>\n",
       "      <th>ParkName</th>\n",
       "      <th>ParkCode</th>\n",
       "      <th>LocationID</th>\n",
       "      <th>PeriodID</th>\n",
       "      <th>EventID</th>\n",
       "      <th>RiffleNo</th>\n",
       "      <th>RiffleLength</th>\n",
       "      <th>Temperature</th>\n",
       "      <th>SpecificConductance</th>\n",
       "      <th>pH</th>\n",
       "      <th>DO</th>\n",
       "      <th>Turbidity</th>\n",
       "      <th>Note</th>\n",
       "    </tr>\n",
       "  </thead>\n",
       "  <tbody>\n",
       "    <tr>\n",
       "      <th>0</th>\n",
       "      <td>Buffalo National River</td>\n",
       "      <td>BUFF</td>\n",
       "      <td>BUFFRMINVEBM01</td>\n",
       "      <td>BUFFRMINVE2007Nov26</td>\n",
       "      <td>BUFFRMINVE2007Dec04</td>\n",
       "      <td>1</td>\n",
       "      <td>9.3</td>\n",
       "      <td>11.4</td>\n",
       "      <td>126.6</td>\n",
       "      <td>7.37</td>\n",
       "      <td>8.07</td>\n",
       "      <td>-999.0</td>\n",
       "      <td>NaN</td>\n",
       "    </tr>\n",
       "    <tr>\n",
       "      <th>1</th>\n",
       "      <td>Buffalo National River</td>\n",
       "      <td>BUFF</td>\n",
       "      <td>BUFFRMINVEBM01</td>\n",
       "      <td>BUFFRMINVE2007Nov26</td>\n",
       "      <td>BUFFRMINVE2007Dec04</td>\n",
       "      <td>2</td>\n",
       "      <td>12.3</td>\n",
       "      <td>11.1</td>\n",
       "      <td>126.7</td>\n",
       "      <td>7.27</td>\n",
       "      <td>8.74</td>\n",
       "      <td>-999.0</td>\n",
       "      <td>NaN</td>\n",
       "    </tr>\n",
       "    <tr>\n",
       "      <th>2</th>\n",
       "      <td>Buffalo National River</td>\n",
       "      <td>BUFF</td>\n",
       "      <td>BUFFRMINVEBM01</td>\n",
       "      <td>BUFFRMINVE2007Nov26</td>\n",
       "      <td>BUFFRMINVE2007Dec04</td>\n",
       "      <td>3</td>\n",
       "      <td>17.5</td>\n",
       "      <td>10.4</td>\n",
       "      <td>126.7</td>\n",
       "      <td>7.16</td>\n",
       "      <td>8.47</td>\n",
       "      <td>-999.0</td>\n",
       "      <td>NaN</td>\n",
       "    </tr>\n",
       "    <tr>\n",
       "      <th>3</th>\n",
       "      <td>Buffalo National River</td>\n",
       "      <td>BUFF</td>\n",
       "      <td>BUFFRMINVEBM01</td>\n",
       "      <td>BUFFRMINVE2007JAN04</td>\n",
       "      <td>BUFFRMINVE2007JAN08</td>\n",
       "      <td>1</td>\n",
       "      <td>21.0</td>\n",
       "      <td>8.9</td>\n",
       "      <td>47.9</td>\n",
       "      <td>7.70</td>\n",
       "      <td>10.28</td>\n",
       "      <td>-999.0</td>\n",
       "      <td>NaN</td>\n",
       "    </tr>\n",
       "    <tr>\n",
       "      <th>4</th>\n",
       "      <td>Buffalo National River</td>\n",
       "      <td>BUFF</td>\n",
       "      <td>BUFFRMINVEBM01</td>\n",
       "      <td>BUFFRMINVE2007JAN04</td>\n",
       "      <td>BUFFRMINVE2007JAN08</td>\n",
       "      <td>2</td>\n",
       "      <td>19.0</td>\n",
       "      <td>8.0</td>\n",
       "      <td>48.7</td>\n",
       "      <td>7.81</td>\n",
       "      <td>11.34</td>\n",
       "      <td>-999.0</td>\n",
       "      <td>NaN</td>\n",
       "    </tr>\n",
       "    <tr>\n",
       "      <th>...</th>\n",
       "      <td>...</td>\n",
       "      <td>...</td>\n",
       "      <td>...</td>\n",
       "      <td>...</td>\n",
       "      <td>...</td>\n",
       "      <td>...</td>\n",
       "      <td>...</td>\n",
       "      <td>...</td>\n",
       "      <td>...</td>\n",
       "      <td>...</td>\n",
       "      <td>...</td>\n",
       "      <td>...</td>\n",
       "      <td>...</td>\n",
       "    </tr>\n",
       "    <tr>\n",
       "      <th>872</th>\n",
       "      <td>Wilson's Creek National Battlefield</td>\n",
       "      <td>WICR</td>\n",
       "      <td>WICRAQUBUG04</td>\n",
       "      <td>WICRAqubug2006Jun14</td>\n",
       "      <td>WICRAqubug2006Jun14</td>\n",
       "      <td>2</td>\n",
       "      <td>-999.0</td>\n",
       "      <td>16.0</td>\n",
       "      <td>394.8</td>\n",
       "      <td>7.19</td>\n",
       "      <td>8.76</td>\n",
       "      <td>120.0</td>\n",
       "      <td>NaN</td>\n",
       "    </tr>\n",
       "    <tr>\n",
       "      <th>873</th>\n",
       "      <td>Wilson's Creek National Battlefield</td>\n",
       "      <td>WICR</td>\n",
       "      <td>WICRAQUBUG04</td>\n",
       "      <td>WICRAqubug2006Jun14</td>\n",
       "      <td>WICRAqubug2006Jun14</td>\n",
       "      <td>3</td>\n",
       "      <td>-999.0</td>\n",
       "      <td>16.0</td>\n",
       "      <td>395.5</td>\n",
       "      <td>7.10</td>\n",
       "      <td>8.30</td>\n",
       "      <td>120.0</td>\n",
       "      <td>NaN</td>\n",
       "    </tr>\n",
       "    <tr>\n",
       "      <th>874</th>\n",
       "      <td>Wilson's Creek National Battlefield</td>\n",
       "      <td>WICR</td>\n",
       "      <td>WICRAQUBUG04</td>\n",
       "      <td>WICRAqubug2007Jun22</td>\n",
       "      <td>WICRAqubug2007Jun22</td>\n",
       "      <td>1</td>\n",
       "      <td>-999.0</td>\n",
       "      <td>18.7</td>\n",
       "      <td>425.2</td>\n",
       "      <td>6.97</td>\n",
       "      <td>9.79</td>\n",
       "      <td>-999.0</td>\n",
       "      <td>NaN</td>\n",
       "    </tr>\n",
       "    <tr>\n",
       "      <th>875</th>\n",
       "      <td>Wilson's Creek National Battlefield</td>\n",
       "      <td>WICR</td>\n",
       "      <td>WICRAQUBUG04</td>\n",
       "      <td>WICRAqubug2007Jun22</td>\n",
       "      <td>WICRAqubug2007Jun22</td>\n",
       "      <td>2</td>\n",
       "      <td>-999.0</td>\n",
       "      <td>18.0</td>\n",
       "      <td>433.3</td>\n",
       "      <td>6.94</td>\n",
       "      <td>8.26</td>\n",
       "      <td>-999.0</td>\n",
       "      <td>NaN</td>\n",
       "    </tr>\n",
       "    <tr>\n",
       "      <th>876</th>\n",
       "      <td>Wilson's Creek National Battlefield</td>\n",
       "      <td>WICR</td>\n",
       "      <td>WICRAQUBUG04</td>\n",
       "      <td>WICRAqubug2007Jun22</td>\n",
       "      <td>WICRAqubug2007Jun22</td>\n",
       "      <td>3</td>\n",
       "      <td>-999.0</td>\n",
       "      <td>17.5</td>\n",
       "      <td>428.1</td>\n",
       "      <td>6.86</td>\n",
       "      <td>7.21</td>\n",
       "      <td>-999.0</td>\n",
       "      <td>NaN</td>\n",
       "    </tr>\n",
       "  </tbody>\n",
       "</table>\n",
       "<p>877 rows × 13 columns</p>\n",
       "</div>"
      ],
      "text/plain": [
       "                                ParkName ParkCode      LocationID  \\\n",
       "0                 Buffalo National River     BUFF  BUFFRMINVEBM01   \n",
       "1                 Buffalo National River     BUFF  BUFFRMINVEBM01   \n",
       "2                 Buffalo National River     BUFF  BUFFRMINVEBM01   \n",
       "3                 Buffalo National River     BUFF  BUFFRMINVEBM01   \n",
       "4                 Buffalo National River     BUFF  BUFFRMINVEBM01   \n",
       "..                                   ...      ...             ...   \n",
       "872  Wilson's Creek National Battlefield     WICR    WICRAQUBUG04   \n",
       "873  Wilson's Creek National Battlefield     WICR    WICRAQUBUG04   \n",
       "874  Wilson's Creek National Battlefield     WICR    WICRAQUBUG04   \n",
       "875  Wilson's Creek National Battlefield     WICR    WICRAQUBUG04   \n",
       "876  Wilson's Creek National Battlefield     WICR    WICRAQUBUG04   \n",
       "\n",
       "                PeriodID              EventID  RiffleNo  RiffleLength  \\\n",
       "0    BUFFRMINVE2007Nov26  BUFFRMINVE2007Dec04         1           9.3   \n",
       "1    BUFFRMINVE2007Nov26  BUFFRMINVE2007Dec04         2          12.3   \n",
       "2    BUFFRMINVE2007Nov26  BUFFRMINVE2007Dec04         3          17.5   \n",
       "3    BUFFRMINVE2007JAN04  BUFFRMINVE2007JAN08         1          21.0   \n",
       "4    BUFFRMINVE2007JAN04  BUFFRMINVE2007JAN08         2          19.0   \n",
       "..                   ...                  ...       ...           ...   \n",
       "872  WICRAqubug2006Jun14  WICRAqubug2006Jun14         2        -999.0   \n",
       "873  WICRAqubug2006Jun14  WICRAqubug2006Jun14         3        -999.0   \n",
       "874  WICRAqubug2007Jun22  WICRAqubug2007Jun22         1        -999.0   \n",
       "875  WICRAqubug2007Jun22  WICRAqubug2007Jun22         2        -999.0   \n",
       "876  WICRAqubug2007Jun22  WICRAqubug2007Jun22         3        -999.0   \n",
       "\n",
       "     Temperature  SpecificConductance    pH     DO  Turbidity Note  \n",
       "0           11.4                126.6  7.37   8.07     -999.0  NaN  \n",
       "1           11.1                126.7  7.27   8.74     -999.0  NaN  \n",
       "2           10.4                126.7  7.16   8.47     -999.0  NaN  \n",
       "3            8.9                 47.9  7.70  10.28     -999.0  NaN  \n",
       "4            8.0                 48.7  7.81  11.34     -999.0  NaN  \n",
       "..           ...                  ...   ...    ...        ...  ...  \n",
       "872         16.0                394.8  7.19   8.76      120.0  NaN  \n",
       "873         16.0                395.5  7.10   8.30      120.0  NaN  \n",
       "874         18.7                425.2  6.97   9.79     -999.0  NaN  \n",
       "875         18.0                433.3  6.94   8.26     -999.0  NaN  \n",
       "876         17.5                428.1  6.86   7.21     -999.0  NaN  \n",
       "\n",
       "[877 rows x 13 columns]"
      ]
     },
     "execution_count": 3,
     "metadata": {},
     "output_type": "execute_result"
    }
   ],
   "source": [
    "df"
   ]
  },
  {
   "cell_type": "code",
   "execution_count": 4,
   "id": "60b00748-e1e6-454d-b762-4ae5fa3ee2c0",
   "metadata": {},
   "outputs": [
    {
     "data": {
      "text/plain": [
       "ParkName                object\n",
       "ParkCode                object\n",
       "LocationID              object\n",
       "PeriodID                object\n",
       "EventID                 object\n",
       "RiffleNo                 int64\n",
       "RiffleLength           float64\n",
       "Temperature            float64\n",
       "SpecificConductance    float64\n",
       "pH                     float64\n",
       "DO                     float64\n",
       "Turbidity              float64\n",
       "Note                    object\n",
       "dtype: object"
      ]
     },
     "execution_count": 4,
     "metadata": {},
     "output_type": "execute_result"
    }
   ],
   "source": [
    "df.dtypes"
   ]
  },
  {
   "cell_type": "code",
   "execution_count": 5,
   "id": "cbdc8492-2f84-42de-91f3-1c4d1d910d22",
   "metadata": {},
   "outputs": [
    {
     "data": {
      "text/plain": [
       "array(['Buffalo National River',\n",
       "       'George Washington Carver National Monument',\n",
       "       'Herbert Hoover National Historic Site',\n",
       "       'Ozark National Scenic Riverways',\n",
       "       'Pea Ridge National Military Park', 'Pipestone National Monument',\n",
       "       \"Wilson's Creek National Battlefield\"], dtype=object)"
      ]
     },
     "execution_count": 5,
     "metadata": {},
     "output_type": "execute_result"
    }
   ],
   "source": [
    "df['ParkName'].unique() "
   ]
  },
  {
   "cell_type": "code",
   "execution_count": 6,
   "id": "efbd30e6-13fa-455b-a596-2f0eb7164900",
   "metadata": {},
   "outputs": [
    {
     "data": {
      "text/plain": [
       "array(['BUFF', 'GWCA', 'HEHO', 'OZAR', 'PERI', 'PIPE', 'WICR'],\n",
       "      dtype=object)"
      ]
     },
     "execution_count": 6,
     "metadata": {},
     "output_type": "execute_result"
    }
   ],
   "source": [
    "df['ParkCode'].unique()"
   ]
  },
  {
   "cell_type": "code",
   "execution_count": 7,
   "id": "8774df89-f995-4d96-96c7-17b778c06d1a",
   "metadata": {},
   "outputs": [
    {
     "data": {
      "text/plain": [
       "array(['BUFFRMINVEBM01', 'BUFFRMINVEBM02', 'BUFFRMINVEBM03',\n",
       "       'BUFFRMINVEBM04', 'BUFFRMINVEBM05', 'BUFFRMINVEBM06',\n",
       "       'BUFFRMINVEBT01', 'BUFFRMINVEBT03', 'BUFFRMINVEBT04',\n",
       "       'BUFFRMINVEBT05', 'BUFFRMINVEBT06', 'BUFFRMINVEBT07',\n",
       "       'BUFFRMINVEBT08', 'BUFFRMINVEBT09', 'BUFFRMINVEBT10',\n",
       "       'BUFFRMINVEBT11', 'BUFFRMINVEBT13', 'BUFFRMINVEBT14',\n",
       "       'BUFFRMINVEBT15', 'BUFFRMINVEBT16', 'BUFFRMINVEBT17',\n",
       "       'BUFFRMINVEBT19', 'BUFFRMINVEBT20', 'BUFFRMINVEBT22',\n",
       "       'BUFFRMINVEBT23', 'BUFFRMINVEBT24', 'BUFFRMINVEBT25',\n",
       "       'BUFFRMINVEBT27', 'BUFFRMINVEBT30', 'BUFFRMINVEBT31',\n",
       "       'BUFFRMINVEBT33', 'GWCAAquBug01', 'GWCAAquBug02', 'GWCAAquBug03',\n",
       "       'HEHOAqubug01', 'OZARRMINVECM01', 'OZARRMINVECM02',\n",
       "       'OZARRMINVECM03', 'OZARRMINVECM04', 'OZARRMINVECM05',\n",
       "       'OZARRMINVECM06', 'OZARRMINVECT01', 'OZARRMINVECT02',\n",
       "       'OZARRMINVECT03', 'OZARRMINVECT04', 'OZARRMINVECT06',\n",
       "       'OZARRMINVECT07', 'OZARRMINVECT08', 'OZARRMINVECT09',\n",
       "       'OZARRMINVECT12', 'OZARRMINVECT13', 'OZARRMINVECT14',\n",
       "       'OZARRMINVECT15', 'OZARRMINVECT16', 'OZARRMINVEJM01',\n",
       "       'OZARRMINVEJM02', 'OZARRMINVEJM03', 'OZARRMINVEJT01',\n",
       "       'OZARRMINVEJT02', 'OZARRMINVEJT03', 'PERIAqubug03', 'PIPEAquBug01',\n",
       "       'WICRAquBug01', 'WICRAquBug02', 'WICRAquBug03', 'WICRAQUBUG04'],\n",
       "      dtype=object)"
      ]
     },
     "execution_count": 7,
     "metadata": {},
     "output_type": "execute_result"
    }
   ],
   "source": [
    "df['LocationID'].unique() "
   ]
  },
  {
   "cell_type": "code",
   "execution_count": 8,
   "id": "9b933f98-55b6-42bc-99f0-98cfede3b30d",
   "metadata": {},
   "outputs": [
    {
     "data": {
      "text/plain": [
       "array(['BUFFRMINVE2007Nov26', 'BUFFRMINVE2007JAN04',\n",
       "       'BUFFRMINVE2008Dec02', 'BUFFRMINVE2009Dec07',\n",
       "       'BUFFRMINVE2011Dec01', 'BUFFRMINVE2013Nov21',\n",
       "       'BUFFRMINVE2015Nov23', 'BUFFRMINVE2019Nov04',\n",
       "       'BUFFRMINVE2021Nov01', 'BUFFRMINVE2023Nov01',\n",
       "       'BUFFRMINVE2005NOV29', 'BUFFRMINVE2017Nov15',\n",
       "       'BUFFRMINVE2010Nov29', 'GWCAAqubug2006Jun27',\n",
       "       'GWCAAqubug2007Jun26', 'HEHOAquBug2021Jul26',\n",
       "       'OZARRMINVE2006NOV14', 'OZARRMINVE2006JAN03',\n",
       "       'OZARRMINVE2007Nov01', 'OZARRMINVE2008Nov05',\n",
       "       'OZARRMINVE2009Nov06', 'OZARRMINVE2012Nov13',\n",
       "       'OZARRMINVE2014Nov05', 'OZARRMINVE2016Nov01',\n",
       "       'OZARRMINVE2018Nov07', 'OZARRMINVE2020Nov17',\n",
       "       'OZARRMINVE2022Oct25', 'OZARRMINVE2010Nov03',\n",
       "       'PERIAquBug2018May07', 'PIPEAquBug2021Aug26',\n",
       "       'PIPEAquBug2022Aug18', 'WICRAqubug2006Jun13',\n",
       "       'WICRAqubug2007Jul15', 'WICRAqubug2007Jun22',\n",
       "       'WICRAqubug2006Jun14'], dtype=object)"
      ]
     },
     "execution_count": 8,
     "metadata": {},
     "output_type": "execute_result"
    }
   ],
   "source": [
    "df['PeriodID'].unique() "
   ]
  },
  {
   "cell_type": "code",
   "execution_count": 9,
   "id": "424fbdd5-11dc-4b0d-a4a5-caafe3951c16",
   "metadata": {},
   "outputs": [
    {
     "data": {
      "text/plain": [
       "array(['BUFFRMINVE2007Dec04', 'BUFFRMINVE2007JAN08',\n",
       "       'BUFFRMINVE2008Dec04', 'BUFFRMINVE2009Dec08',\n",
       "       'BUFFRMINVE2012Jan05', 'BUFFRMINVE2014Jan29',\n",
       "       'BUFFRMINVE2015Dec17', 'BUFFRMINVE2019Nov18',\n",
       "       'BUFFRMINVE2021Nov10', 'BUFFRMINVE2023Nov14',\n",
       "       'BUFFRMINVE2005NOV29', 'BUFFRMINVE2007JAN09',\n",
       "       'BUFFRMINVE2007Nov27', 'BUFFRMINVE2008Dec03',\n",
       "       'BUFFRMINVE2010Jan14', 'BUFFRMINVE2012Jan06',\n",
       "       'BUFFRMINVE2014Jan23', 'BUFFRMINVE2015Dec18',\n",
       "       'BUFFRMINVE2017Nov29', 'BUFFRMINVE2019Nov20',\n",
       "       'BUFFRMINVE2021Nov09', 'BUFFRMINVE2023Nov02',\n",
       "       'BUFFRMINVE2005NOV30', 'BUFFRMINVE2007FEB21',\n",
       "       'BUFFRMINVE2007Nov28', 'BUFFRMINVE2008Dec02',\n",
       "       'BUFFRMINVE2010Jan15', 'BUFFRMINVE2012Jan09',\n",
       "       'BUFFRMINVE2014Feb19', 'BUFFRMINVE2017Dec01',\n",
       "       'BUFFRMINVE2021Nov08', 'BUFFRMINVE2005DEC01',\n",
       "       'BUFFRMINVE2007FEB09', 'BUFFRMINVE2007Nov30',\n",
       "       'BUFFRMINVE2008Dec05', 'BUFFRMINVE2010Jan11',\n",
       "       'BUFFRMINVE2012Jan04', 'BUFFRMINVE2013Dec04',\n",
       "       'BUFFRMINVE2015Nov24', 'BUFFRMINVE2017Nov16',\n",
       "       'BUFFRMINVE2021Nov03', 'BUFFRMINVE2023Nov03',\n",
       "       'BUFFRMINVE2005DEC20', 'BUFFRMINVE2007FEB22',\n",
       "       'BUFFRMINVE2007Nov29', 'BUFFRMINVE2008Dec11',\n",
       "       'BUFFRMINVE2010Jan12', 'BUFFRMINVE2012Jan10',\n",
       "       'BUFFRMINVE2014Jan30', 'BUFFRMINVE2017Nov30',\n",
       "       'BUFFRMINVE2019Nov21', 'BUFFRMINVE2021Nov02',\n",
       "       'BUFFRMINVE2023Nov07', 'BUFFRMINVE2005DEC14',\n",
       "       'BUFFRMINVE2008Jan22', 'BUFFRMINVE2009Jan08',\n",
       "       'BUFFRMINVE2010Jan21', 'BUFFRMINVE2012Jan18',\n",
       "       'BUFFRMINVE2014Jan31', 'BUFFRMINVE2015Dec09',\n",
       "       'BUFFRMINVE2017Dec08', 'BUFFRMINVE2019Nov19',\n",
       "       'BUFFRMINVE2021Nov01', 'BUFFRMINVE2023Nov08',\n",
       "       'BUFFRMINVE2007JAN04', 'BUFFRMINVE2009Feb18',\n",
       "       'BUFFRMINVE2014Jan24', 'BUFFRMINVE2017Dec04',\n",
       "       'BUFFRMINVE2021Nov04', 'BUFFRMINVE2009Dec14',\n",
       "       'BUFFRMINVE2007Nov26', 'BUFFRMINVE2011Dec01',\n",
       "       'BUFFRMINVE2013Nov21', 'BUFFRMINVE2015Nov23',\n",
       "       'BUFFRMINVE2017Nov15', 'BUFFRMINVE2019Nov04',\n",
       "       'BUFFRMINVE2023Nov01', 'BUFFRMINVE2010Nov29',\n",
       "       'BUFFRMINVE2009Dec15', 'BUFFRMINVE2010Dec01',\n",
       "       'BUFFRMINVE2008Dec10', 'BUFFRMINVE2019Nov06',\n",
       "       'BUFFRMINVE2010Nov30', 'BUFFRMINVE2015Dec07',\n",
       "       'BUFFRMINVE2009Dec16', 'BUFFRMINVE2019Nov05',\n",
       "       'BUFFRMINVE2023Nov06', 'BUFFRMINVE2007JAN05',\n",
       "       'BUFFRMINVE2009Dec07', 'BUFFRMINVE2007Dec03',\n",
       "       'BUFFRMINVE2011Dec07', 'BUFFRMINVE2007FEB20',\n",
       "       'BUFFRMINVE2011Dec28', 'BUFFRMINVE2015Dec08',\n",
       "       'BUFFRMINVE2008Jan23', 'GWCAAqubug2006Jun27',\n",
       "       'GWCAAqubug2007Jun26', 'HEHOAquBug2021Jul26',\n",
       "       'OZARRMINVE2006DEC12', 'OZARRMINVE2006JAN03',\n",
       "       'OZARRMINVE2007Nov09', 'OZARRMINVE2008Nov06',\n",
       "       'OZARRMINVE2009Nov06', 'OZARRMINVE2012Nov13',\n",
       "       'OZARRMINVE2014Nov13', 'OZARRMINVE2016Nov09',\n",
       "       'OZARRMINVE2018Nov13', 'OZARRMINVE2020Nov17',\n",
       "       'OZARRMINVE2022Oct27', 'OZARRMINVE2006DEC22',\n",
       "       'OZARRMINVE2006JAN04', 'OZARRMINVE2007Nov07',\n",
       "       'OZARRMINVE2008Nov13', 'OZARRMINVE2009Dec02',\n",
       "       'OZARRMINVE2012Nov28', 'OZARRMINVE2016Nov04',\n",
       "       'OZARRMINVE2018Nov08', 'OZARRMINVE2021Jan11',\n",
       "       'OZARRMINVE2006DEC19', 'OZARRMINVE2006JAN05',\n",
       "       'OZARRMINVE2007Nov06', 'OZARRMINVE2009Nov12',\n",
       "       'OZARRMINVE2014Nov12', 'OZARRMINVE2016Nov03',\n",
       "       'OZARRMINVE2020Dec11', 'OZARRMINVE2006JAN24',\n",
       "       'OZARRMINVE2006NOV14', 'OZARRMINVE2007Nov05',\n",
       "       'OZARRMINVE2008Nov20', 'OZARRMINVE2009Dec03',\n",
       "       'OZARRMINVE2012Nov27', 'OZARRMINVE2014Nov19',\n",
       "       'OZARRMINVE2016Nov10', 'OZARRMINVE2018Nov19',\n",
       "       'OZARRMINVE2021Jan05', 'OZARRMINVE2022Oct28',\n",
       "       'OZARRMINVE2006JAN18', 'OZARRMINVE2007Nov02',\n",
       "       'OZARRMINVE2008Nov21', 'OZARRMINVE2020Nov19',\n",
       "       'OZARRMINVE2022Nov03', 'OZARRMINVE2006DEC18',\n",
       "       'OZARRMINVE2006JAN20', 'OZARRMINVE2007Nov01',\n",
       "       'OZARRMINVE2008Nov05', 'OZARRMINVE2012Nov29',\n",
       "       'OZARRMINVE2014Nov18', 'OZARRMINVE2018Nov20',\n",
       "       'OZARRMINVE2021Jan08', 'OZARRMINVE2022Nov04',\n",
       "       'OZARRMINVE2010Nov03', 'OZARRMINVE2010Nov04',\n",
       "       'OZARRMINVE2012Nov14', 'OZARRMINVE2016Nov02',\n",
       "       'OZARRMINVE2006NOV15', 'OZARRMINVE2014Nov06',\n",
       "       'OZARRMINVE2012Nov15', 'OZARRMINVE2014Nov07',\n",
       "       'OZARRMINVE2021Jan14', 'OZARRMINVE2022Oct26',\n",
       "       'OZARRMINVE2018Nov09', 'OZARRMINVE2006DEC13',\n",
       "       'OZARRMINVE2006JAN11', 'OZARRMINVE2007Nov13',\n",
       "       'OZARRMINVE2008Nov12', 'OZARRMINVE2009Nov10',\n",
       "       'OZARRMINVE2012Dec04', 'OZARRMINVE2014Nov05',\n",
       "       'OZARRMINVE2016Nov01', 'OZARRMINVE2018Nov07',\n",
       "       'OZARRMINVE2020Dec08', 'OZARRMINVE2022Oct25',\n",
       "       'OZARRMINVE2006JAN12', 'OZARRMINVE2007Nov14',\n",
       "       'OZARRMINVE2008Nov07', 'OZARRMINVE2020Dec10',\n",
       "       'OZARRMINVE2006DEC14', 'OZARRMINVE2006JAN10',\n",
       "       'OZARRMINVE2009Nov09', 'OZARRMINVE2012Dec05',\n",
       "       'OZARRMINVE2020Nov30', 'OZARRMINVE2007Nov08',\n",
       "       'OZARRMINVE2009Nov24', 'OZARRMINVE2020Dec01',\n",
       "       'PERIAquBug2018May07', 'PIPEAquBug2021Aug26',\n",
       "       'PIPEAquBug2022Aug18', 'WICRAqubug2006Jun13',\n",
       "       'WICRAqubug2007Jul15', 'WICRAqubug2007Jun22',\n",
       "       'WICRAqubug2006Jun14'], dtype=object)"
      ]
     },
     "execution_count": 9,
     "metadata": {},
     "output_type": "execute_result"
    }
   ],
   "source": [
    "df['EventID'].unique() "
   ]
  },
  {
   "cell_type": "code",
   "execution_count": 10,
   "id": "909d51d7-834d-4bd3-bf06-1bb9ba0cc75e",
   "metadata": {},
   "outputs": [
    {
     "data": {
      "text/plain": [
       "array([1, 2, 3])"
      ]
     },
     "execution_count": 10,
     "metadata": {},
     "output_type": "execute_result"
    }
   ],
   "source": [
    "df['RiffleNo'].unique() "
   ]
  },
  {
   "cell_type": "code",
   "execution_count": 11,
   "id": "42934335-5104-4684-b7e5-8676ffbda972",
   "metadata": {},
   "outputs": [
    {
     "data": {
      "text/plain": [
       "array([   9.3,   12.3,   17.5,   21. ,   19. ,   13. , -999. ,   16.9,\n",
       "         68. ,   14.6,   20. ,   39. ,   43. ,   13.3,   15.5,   18.8,\n",
       "         83. ,   31.4,   33. ,   36. ,   50. ,   16.5,   31. ,   10.1,\n",
       "         24.2,   24.3,   27.8,   20.3,   99. ,   29.5,   14.5,   15. ,\n",
       "          6.4,   62. ,   37. ,   23. ,   16. ,   40. ,   11.8,   25. ,\n",
       "         15.6,   17. ,   11. ,   20.5,   19.5,    7.5,   18.7,    8.8,\n",
       "          8.6,    5. ,    8. ,    7.8,    8.5,    5.3,    5.6,   12.8,\n",
       "          7. ,   19.7,    5.5,   10. ,    3. ,   11.9,   56. ,   32. ,\n",
       "         53. ,   44. ,   48. ,   38. ,   42. ,   49. ,   60. ,   63. ,\n",
       "         34. ,   78. ,  102. ,   75. ,   41. ,   43.8,    9.7,   23.5,\n",
       "         20.7,   14.9,   14. ,   45.9,   10.9,   50.4,   12. ,   26. ,\n",
       "         30.6,   14.8,   29.6,   29. ,   35.1,   47. ,   52. ])"
      ]
     },
     "execution_count": 11,
     "metadata": {},
     "output_type": "execute_result"
    }
   ],
   "source": [
    "df['RiffleLength'].unique() "
   ]
  },
  {
   "cell_type": "code",
   "execution_count": 12,
   "id": "4c510541-fa6f-42d7-9e58-ecb2f77b082f",
   "metadata": {},
   "outputs": [
    {
     "data": {
      "text/plain": [
       "array([[<Axes: title={'center': 'RiffleLength'}>]], dtype=object)"
      ]
     },
     "execution_count": 12,
     "metadata": {},
     "output_type": "execute_result"
    },
    {
     "data": {
      "image/png": "[encoded data removed]",
      "text/plain": [
       "<Figure size 640x480 with 1 Axes>"
      ]
     },
     "metadata": {},
     "output_type": "display_data"
    }
   ],
   "source": [
    "cols = ['RiffleLength']\n",
    "df2 = df[df[cols] > 0]\n",
    "df2.hist(column='RiffleLength')"
   ]
  },
  {
   "cell_type": "code",
   "execution_count": 13,
   "id": "5415f500-0649-4e02-90fd-e9b383c4e976",
   "metadata": {},
   "outputs": [
    {
     "data": {
      "text/plain": [
       "ParkName                object\n",
       "ParkCode                object\n",
       "LocationID              object\n",
       "PeriodID                object\n",
       "EventID                 object\n",
       "RiffleNo                 int64\n",
       "RiffleLength           float64\n",
       "Temperature            float64\n",
       "SpecificConductance    float64\n",
       "pH                     float64\n",
       "DO                     float64\n",
       "Turbidity              float64\n",
       "Note                    object\n",
       "dtype: object"
      ]
     },
     "execution_count": 13,
     "metadata": {},
     "output_type": "execute_result"
    }
   ],
   "source": [
    "df.dtypes"
   ]
  },
  {
   "cell_type": "code",
   "execution_count": 14,
   "id": "d833f12f-dd8a-4f88-9859-d0686d8df870",
   "metadata": {},
   "outputs": [
    {
     "data": {
      "text/plain": [
       "array([  11.4 ,   11.1 ,   10.4 ,    8.9 ,    8.  ,    7.5 ,    9.9 ,\n",
       "         10.  ,    9.7 ,    7.2 ,    6.1 ,    6.8 ,    4.6 ,    5.  ,\n",
       "          5.6 ,   10.2 ,    9.8 ,    9.3 ,    8.7 ,   15.3 ,   15.2 ,\n",
       "         14.2 ,   13.6 ,   13.3 ,    9.2 ,    8.8 ,    8.1 ,    9.  ,\n",
       "          8.4 ,    6.7 ,    6.2 ,    3.2 ,    3.5 ,    6.4 ,    7.3 ,\n",
       "          3.  ,    3.4 ,    8.2 ,    8.3 ,   11.7 ,    9.1 ,   10.6 ,\n",
       "         10.7 ,   10.9 ,    9.6 ,    7.76,    7.1 ,    7.  ,    9.4 ,\n",
       "          4.9 ,    5.8 ,    5.5 ,    5.7 ,    8.5 ,    8.51,    8.61,\n",
       "          8.77,   10.5 ,   11.9 ,   12.5 ,   12.8 ,   11.5 ,    7.7 ,\n",
       "          3.6 ,    2.9 ,   12.9 ,   12.7 ,   12.4 ,   11.  ,   14.6 ,\n",
       "         14.  ,   10.1 ,   14.4 ,   14.9 ,    5.3 ,   10.8 ,   10.3 ,\n",
       "          6.3 ,    6.5 ,    3.3 ,    2.8 ,    3.1 ,   12.  ,   12.1 ,\n",
       "         13.5 ,   16.6 ,   17.1 ,   18.9 ,    6.6 ,    6.  ,    4.7 ,\n",
       "         11.3 ,   11.2 ,    7.6 ,    5.4 ,    5.2 ,   14.5 ,   18.2 ,\n",
       "         17.7 ,   17.2 ,    2.1 ,    2.2 ,    1.5 ,    4.3 ,    7.9 ,\n",
       "         11.8 ,   12.3 ,   12.2 ,   13.4 ,   13.8 ,   10.21,   10.28,\n",
       "         10.14,    4.5 ,    4.1 ,    4.8 ,    5.1 ,    3.8 ,   13.1 ,\n",
       "         14.3 ,    4.38,    3.81,    7.8 ,   13.7 ,   13.  ,   13.45,\n",
       "         13.17,   13.04,   13.9 ,   15.8 ,   15.5 ,   16.8 ,   16.9 ,\n",
       "          4.4 ,   17.9 ,   17.5 ,   13.2 ,    9.14,    8.97,    8.6 ,\n",
       "          2.7 ,   15.6 ,   16.  ,   16.2 ,   18.3 ,   18.4 ,   18.6 ,\n",
       "         21.9 ,   21.6 ,   21.3 ,   19.5 ,   19.9 ,   20.  ,   27.6 ,\n",
       "         27.2 ,   26.9 ,   11.6 ,    9.5 ,   15.9 ,   14.1 ,   16.1 ,\n",
       "         16.4 ,    6.9 ,   14.8 ,   16.7 ,   15.4 , -999.  ,   11.92,\n",
       "         12.73,   11.37,   10.66,   10.36,   18.1 ,   17.8 ,    7.4 ,\n",
       "         13.96,   15.1 ,   17.6 ,   16.5 ,   16.3 ,   18.  ,   18.5 ,\n",
       "         17.39,   17.58,   17.44,   24.  ,   24.3 ,   19.8 ,   20.4 ,\n",
       "         19.4 ,   19.3 ,   19.2 ,   17.4 ,   18.7 ])"
      ]
     },
     "execution_count": 14,
     "metadata": {},
     "output_type": "execute_result"
    }
   ],
   "source": [
    "df['Temperature'].unique() "
   ]
  },
  {
   "cell_type": "code",
   "execution_count": 15,
   "id": "cbcbfa49-a3e2-45d5-856b-b7ba183fc4bb",
   "metadata": {},
   "outputs": [
    {
     "data": {
      "text/plain": [
       "array([[<Axes: title={'center': 'Temperature'}>]], dtype=object)"
      ]
     },
     "execution_count": 15,
     "metadata": {},
     "output_type": "execute_result"
    },
    {
     "data": {
      "image/png": "[encoded data removed]",
      "text/plain": [
       "<Figure size 640x480 with 1 Axes>"
      ]
     },
     "metadata": {},
     "output_type": "display_data"
    }
   ],
   "source": [
    "cols = ['Temperature']\n",
    "df2 = df[df[cols] > 0]\n",
    "df2.hist(column='Temperature')"
   ]
  },
  {
   "cell_type": "code",
   "execution_count": 16,
   "id": "d73d8f3a-c1e4-4d95-8351-de1d676f7726",
   "metadata": {},
   "outputs": [
    {
     "data": {
      "text/plain": [
       "array([ 126.6 ,  126.7 ,   47.9 ,   48.7 ,   49.  ,   88.3 ,   88.9 ,\n",
       "         86.7 ,   89.1 ,   85.6 ,   76.6 ,   77.3 ,   73.01,   72.9 ,\n",
       "         73.2 ,   79.3 ,   79.1 ,   79.7 ,   64.  ,   64.8 ,  121.1 ,\n",
       "        121.  ,  120.8 ,  305.7 ,  304.6 ,  302.7 ,  191.6 ,  189.9 ,\n",
       "        184.7 ,  120.2 ,  118.2 ,   99.8 ,  180.8 ,  178.8 ,  182.2 ,\n",
       "        115.9 ,  157.  ,  157.6 ,  180.4 ,  201.4 ,  198.4 ,  168.7 ,\n",
       "        170.9 ,  171.41,  103.2 ,  137.2 ,  137.3 ,  127.1 ,  127.3 ,\n",
       "        128.5 ,  241.4 ,  244.6 ,  246.1 ,  162.6 ,  163.1 ,  219.2 ,\n",
       "        219.1 ,  234.5 ,  234.4 ,  234.1 , -999.  ,  143.  ,  171.2 ,\n",
       "        131.6 ,  129.3 ,  132.4 ,  196.1 ,  175.2 ,  173.1 ,  104.2 ,\n",
       "        154.9 ,  151.1 ,  205.8 ,  203.6 ,  203.3 ,  188.9 ,  184.6 ,\n",
       "        176.7 ,  177.2 ,  141.  ,  142.  ,  217.3 ,  214.4 ,  215.  ,\n",
       "        169.8 ,  166.2 ,  166.8 ,  228.1 ,  227.7 ,  227.2 ,  191.3 ,\n",
       "        110.5 ,  211.4 ,  173.6 ,  175.  ,  214.5 ,  216.7 ,  221.4 ,\n",
       "        165.4 ,  164.  ,  162.9 ,  121.3 ,  112.5 ,  103.5 ,  193.  ,\n",
       "        194.8 ,  191.7 ,  171.5 ,  173.  ,  189.3 ,  189.6 ,  189.7 ,\n",
       "        202.5 ,  203.9 ,  204.2 ,  230.9 ,  232.1 ,  231.7 ,  169.3 ,\n",
       "        168.9 ,  224.8 ,  218.8 ,  223.3 ,  185.3 ,  171.8 ,  174.4 ,\n",
       "        173.3 ,  163.7 ,  135.1 ,  201.  ,  171.1 ,  177.7 ,  163.8 ,\n",
       "        158.1 ,  215.6 ,  215.9 ,  192.5 ,  198.6 ,  197.7 ,  187.5 ,\n",
       "        189.4 ,  188.6 ,  140.6 ,  141.3 ,  139.9 ,  223.4 ,  222.2 ,\n",
       "        219.7 ,  181.8 ,  181.7 ,  181.9 ,  238.5 ,  238.3 ,  238.1 ,\n",
       "        209.9 ,  209.8 ,  208.1 ,  184.9 ,  186.6 ,  125.7 ,  118.6 ,\n",
       "        128.1 ,  236.  ,  234.6 ,  235.7 ,  197.4 ,  198.8 ,  199.1 ,\n",
       "        211.2 ,  211.5 ,  211.3 ,  207.  ,  207.7 ,  209.1 ,  245.7 ,\n",
       "        245.9 ,  246.4 ,  188.7 ,  242.  ,  241.8 ,  242.1 ,  468.3 ,\n",
       "        459.6 ,  465.3 ,  138.7 ,  139.3 ,  136.3 ,   92.1 ,   92.7 ,\n",
       "        125.1 ,  124.7 ,  123.8 ,  195.5 ,  192.  ,  156.4 ,  163.41,\n",
       "        161.7 ,  163.4 ,  265.9 ,  265.6 ,  267.6 ,  288.8 ,  288.1 ,\n",
       "        287.8 ,  400.  ,  227.6 ,  230.8 ,  356.2 ,  356.  ,  354.6 ,\n",
       "        307.6 ,  318.8 ,  313.6 ,  355.  ,  357.6 ,  357.4 ,  330.9 ,\n",
       "        335.6 ,  336.8 ,  356.9 ,  353.2 ,  337.5 ,  337.1 ,  335.2 ,\n",
       "        320.9 ,  311.6 ,  414.  ,  406.  ,  106.1 ,  105.9 ,  106.6 ,\n",
       "        140.8 ,  242.3 ,  244.7 ,  225.4 ,  225.1 ,  327.  ,  334.6 ,\n",
       "        334.9 ,  264.2 ,  263.9 ,  264.  ,  171.4 ,  163.5 ,  168.6 ,\n",
       "        182.9 ,  183.  ,  183.3 ,  217.7 ,  217.6 ,  254.3 ,  252.  ,\n",
       "        250.8 ,  203.2 ,  202.8 ,  203.1 ,  365.  ,  366.  ,  303.4 ,\n",
       "        297.9 ,  282.2 ,  411.3 ,  411.7 ,  409.2 ,  389.1 ,  392.1 ,\n",
       "        392.6 ,  428.8 ,  428.3 ,  424.  ,  415.8 ,  418.1 ,  416.4 ,\n",
       "        388.1 ,  388.2 ,  387.2 ,  405.8 ,  380.4 ,  404.5 ,  364.9 ,\n",
       "        364.8 ,  340.1 ,  354.1 ,  356.4 ,  144.  ,  237.  ,  236.4 ,\n",
       "        254.8 ,  254.4 ,  255.4 ,  294.3 ,  297.7 ,  521.1 ,  521.  ,\n",
       "        525.6 ,  226.9 ,  228.8 ,  205.  ,  206.2 ,  199.8 ,  238.4 ,\n",
       "        237.2 ,  231.6 ,  231.9 ,  287.7 ,  287.3 ,  286.3 ,  221.9 ,\n",
       "        223.  ,  226.6 ,  263.8 ,  264.3 ,  220.5 ,  220.6 ,  218.5 ,\n",
       "        218.6 ,  322.6 ,  324.  ,  324.2 ,  296.3 ,  297.1 ,  298.  ,\n",
       "        252.3 ,  252.1 ,  302.8 ,  303.9 ,  301.5 ,  202.6 ,  202.9 ,\n",
       "        199.  ,  199.2 ,  431.  ,  426.  ,  411.4 ,  410.2 ,  448.2 ,\n",
       "        447.4 ,  447.6 ,  435.6 ,  384.3 ,  438.1 ,  395.9 ,  396.2 ,\n",
       "        319.  ,  316.4 ,  310.3 ,  336.9 ,  336.61,  404.4 ,  405.3 ,\n",
       "        405.7 ,  366.4 ,  365.2 ,  367.4 ,  295.  ,  292.6 ,  272.9 ,\n",
       "        299.1 ,  299.  ,  298.9 ,  392.  ,  381.2 ,  390.  ,  351.7 ,\n",
       "        351.8 ,  283.7 ,  270.8 ,  285.2 ,  260.5 ,  260.4 ,  260.9 ,\n",
       "        238.8 ,  236.6 ,  223.2 ,  210.4 ,  210.7 ,  206.4 ,  207.4 ,\n",
       "        494.  ,  490.  ,  496.  ,  229.  ,  224.  ,  221.6 ,  222.5 ,\n",
       "        169.  ,  127.7 ,  208.4 ,  217.2 ,  231.3 ,  215.5 ,  208.5 ,\n",
       "        219.5 ,  384.2 ,  384.7 ,  329.1 ,  337.  ,  280.8 ,  280.1 ,\n",
       "        257.9 ,  214.9 ,  215.2 ,  215.3 ,  284.2 ,  283.5 ,  207.9 ,\n",
       "        204.3 ,  205.2 ,  216.6 ,  219.4 ,  245.6 ,  245.  ,  244.3 ,\n",
       "        224.7 ,  246.5 ,  303.7 ,  304.7 ,  304.5 ,  343.5 ,  342.3 ,\n",
       "        313.9 ,  311.4 ,  311.  ,  262.  ,  261.6 ,  261.7 ,  293.8 ,\n",
       "        299.7 ,  299.9 ,  295.8 ,  295.7 ,  170.4 ,  210.  ,  210.1 ,\n",
       "        225.5 ,  226.2 ,  224.5 ,  222.  ,  215.4 ,  250.9 ,  251.1 ,\n",
       "        240.8 ,  228.2 ,  241.9 ,  308.3 ,  307.7 ,  308.2 ,  346.9 ,\n",
       "        345.5 ,  343.2 ,  313.7 ,  313.3 ,  313.  ,  259.2 ,  257.1 ,\n",
       "        258.  ,  190.  ,  190.1 ,  300.  ,  229.2 ,  235.1 ,  226.  ,\n",
       "        250.  ,  249.9 ,  227.4 ,  208.6 ,  175.6 ,  178.6 ,  170.5 ,\n",
       "        190.4 ,  271.5 ,  319.6 ,  318.  ,  314.  ,  299.3 ,  347.6 ,\n",
       "        308.9 ,  312.3 ,  302.4 ,  302.2 ,  302.6 ,  301.8 ,  301.9 ,\n",
       "        306.1 ,  305.8 ,  305.2 ,  208.3 ,  209.2 ,  214.7 ,  220.4 ,\n",
       "        218.2 ,  216.3 ,  217.8 ,  216.4 ,  228.3 ,  213.3 ,  271.8 ,\n",
       "        272.3 ,  271.3 ,  317.8 ,  347.  ,  309.9 ,  300.2 ,  309.1 ,\n",
       "        302.9 ,  302.5 ,  308.5 ,  309.7 ,  212.9 ,  213.7 ,  246.3 ,\n",
       "        243.5 ,  227.8 ,  218.1 ,  231.5 ,  270.5 ,  226.7 ,  269.1 ,\n",
       "        273.2 ,  272.  ,  319.4 ,  320.  ,  319.2 ,  345.3 ,  346.7 ,\n",
       "        338.9 ,  323.9 ,  314.2 ,  323.7 ,  310.9 ,  311.1 ,  308.  ,\n",
       "        308.1 ,  310.  ,  121.9 ,   67.4 ,  321.9 ,  322.5 ,  464.8 ,\n",
       "        464.2 ,  462.  ,  387.  ,  383.  ,  363.  ,  364.  ,  409.  ,\n",
       "        409.8 ,  410.3 ,  335.9 ,  336.5 ,  249.7 ,  249.3 ,  249.6 ,\n",
       "        345.7 ,  347.1 ,  349.  ,  181.  ,  178.4 ,  328.  ,  341.3 ,\n",
       "        339.1 ,  301.3 ,  301.6 ,  326.4 ,  326.9 ,  325.6 ,  267.3 ,\n",
       "        261.8 ,  259.8 ,  333.  ,  335.  ,  232.7 ,  235.2 ,  197.1 ,\n",
       "        419.6 ,  419.5 ,  420.4 ,  369.3 ,  371.4 ,  369.9 ,  336.  ,\n",
       "        323.2 ,  273.1 ,  273.4 ,  319.1 ,  319.14,  322.4 ,  322.3 ,\n",
       "        460.2 ,  457.  ,  462.9 ,  332.8 ,  329.5 ,  332.5 ,  328.1 ,\n",
       "        325.5 ,  259.7 ,  259.4 ,  259.9 ,  291.4 ,  291.5 ,  291.3 ,\n",
       "        222.7 ,  226.4 ,  232.  ,  233.7 ,  236.2 ,  256.6 ,  256.  ,\n",
       "        269.2 ,  269.9 ,  269.6 ,  314.3 ,  312.  ,  313.2 ,  352.4 ,\n",
       "        352.8 ,  352.7 ,  366.8 ,  362.4 ,  357.3 ,  356.5 ,  356.1 ,\n",
       "        275.  ,  278.4 ,  278.3 ,  210.6 ,  209.6 ,  317.9 ,  320.1 ,\n",
       "        319.9 ,  230.6 ,  229.8 ,  230.2 ,  247.2 ,  245.2 ,  281.2 ,\n",
       "        281.6 ,  271.4 ,  284.6 ,  259.1 ,  286.9 ,  342.2 ,  344.  ,\n",
       "        344.3 ,  348.6 ,  344.7 ,  347.7 ,  278.7 ,  278.6 ,  205.3 ,\n",
       "        206.1 ,  206.  ,  307.2 ,  311.9 ,  200.9 ,  200.2 ,  218.4 ,\n",
       "        217.1 ,  240.7 ,  240.4 ,  239.1 ,  270.4 ,  265.5 ,  266.5 ,\n",
       "        279.4 ,  279.8 ,  260.1 ,  332.4 ,  332.1 ,  325.8 ,  334.4 ,\n",
       "        337.4 ,  332.3 ,  337.2 ,  338.2 ,  274.7 ,  274.9 ,  274.8 ,\n",
       "        308.4 ,  151.6 ,  152.8 ,  151.7 ,  271.9 ,  268.3 ,  249.2 ,\n",
       "        410.  ,  604.9 ,  521.7 ,  607.8 ,  520.9 ,  521.2 ,  522.9 ,\n",
       "        487.  ,  486.1 ,  485.9 ,  412.2 ,  272.5 ,  273.3 ,  273.6 ,\n",
       "        438.3 ,  438.6 ,  699.  ,  810.  ,  821.  ,  735.  ,  732.  ,\n",
       "        743.  ,  590.  ,  591.  ,  425.5 ,  431.8 ,  440.9 ,  385.2 ,\n",
       "        394.8 ,  395.5 ,  425.2 ,  433.3 ,  428.1 ])"
      ]
     },
     "execution_count": 16,
     "metadata": {},
     "output_type": "execute_result"
    }
   ],
   "source": [
    "df['SpecificConductance'].unique() "
   ]
  },
  {
   "cell_type": "code",
   "execution_count": 17,
   "id": "632e9da8-7686-4825-a4af-b0daf9bc5a4e",
   "metadata": {},
   "outputs": [
    {
     "data": {
      "text/plain": [
       "array([[<Axes: title={'center': 'SpecificConductance'}>]], dtype=object)"
      ]
     },
     "execution_count": 17,
     "metadata": {},
     "output_type": "execute_result"
    },
    {
     "data": {
      "image/png": "[encoded data removed]",
      "text/plain": [
       "<Figure size 640x480 with 1 Axes>"
      ]
     },
     "metadata": {},
     "output_type": "display_data"
    }
   ],
   "source": [
    "cols = ['SpecificConductance']\n",
    "df2 = df[df[cols] > 0]\n",
    "df2.hist(column='SpecificConductance')"
   ]
  },
  {
   "cell_type": "code",
   "execution_count": 18,
   "id": "7a9c307e-a74b-466d-a513-c5861ae6e124",
   "metadata": {},
   "outputs": [
    {
     "data": {
      "text/plain": [
       "array([   7.37,    7.27,    7.16,    7.7 ,    7.81,    8.11,    8.33,\n",
       "          8.02,    7.21,    6.97,    7.08,    6.79,    7.89,    7.8 ,\n",
       "          8.8 ,    7.44,    7.33,    7.07,    7.03,    8.  ,    8.15,\n",
       "          8.52,    7.06,    7.11,    7.17,    7.63,    7.71,    7.77,\n",
       "          7.51,    8.28,    7.2 ,    7.26,    7.55,    7.3 ,    7.45,\n",
       "          7.62,    8.17,    8.16,    7.49,    8.4 ,    8.46,    8.48,\n",
       "          8.04,    7.82,    7.88,    7.79,    7.78,    7.67,    8.39,\n",
       "          8.1 ,    8.07,    7.74,    7.75,    8.13,    8.14,    7.65,\n",
       "          7.53,    7.22,    7.52,    7.58,    7.61,    8.24,    7.47,\n",
       "          7.46,    8.09,    8.25,    8.26,    8.2 ,    7.93,    7.99,\n",
       "          8.01,    8.05,    7.96,    8.12,    7.94,    8.19,    8.21,\n",
       "          8.23,    7.85,    6.91,    7.66,    7.5 ,    7.76,    7.39,\n",
       "          7.97,    7.9 ,    8.06,    7.87,    7.83,    8.22,    8.27,\n",
       "          8.03,    5.12,    7.32,    7.29,    8.08,    7.98,    8.29,\n",
       "       -999.  ,    7.69,    8.38,    8.3 ,    8.35,    8.41,    6.66,\n",
       "          6.58,    6.68,    7.56,    8.53,    7.23,    7.6 ,    8.43,\n",
       "          8.75,    7.73,    7.91,    7.57,    7.84,    8.5 ,    7.86,\n",
       "          7.64,    7.59,    8.36,    7.72,    8.62,    8.65,    8.58,\n",
       "          8.57,    8.59,    8.55,    8.32,    7.  ,    7.38,    7.35,\n",
       "          7.28,    8.37,    8.34,    6.89,    6.82,    6.7 ,    6.9 ,\n",
       "          6.73,    6.92,    6.77,    6.84,    6.87,    6.95,    8.49,\n",
       "          8.51,    8.42,    8.47,    7.12,    7.34,    7.95,    7.43,\n",
       "          7.42,    7.68,    7.18,    8.18,    7.31,    8.45,    7.92,\n",
       "          8.31,    7.48,    7.4 ,    8.72,    8.6 ,    7.14,    7.1 ,\n",
       "          7.19,    6.94,    6.86])"
      ]
     },
     "execution_count": 18,
     "metadata": {},
     "output_type": "execute_result"
    }
   ],
   "source": [
    "df['pH'].unique() "
   ]
  },
  {
   "cell_type": "code",
   "execution_count": 19,
   "id": "f5d2cf04-eac4-4adc-aa2a-aff2013781c9",
   "metadata": {},
   "outputs": [
    {
     "data": {
      "text/plain": [
       "array([[<Axes: title={'center': 'pH'}>]], dtype=object)"
      ]
     },
     "execution_count": 19,
     "metadata": {},
     "output_type": "execute_result"
    },
    {
     "data": {
      "image/png": "[encoded data removed]",
      "text/plain": [
       "<Figure size 640x480 with 1 Axes>"
      ]
     },
     "metadata": {},
     "output_type": "display_data"
    }
   ],
   "source": [
    "cols = ['pH']\n",
    "df2 = df[df[cols] > 0]\n",
    "df2.hist(column='pH')"
   ]
  },
  {
   "cell_type": "code",
   "execution_count": 20,
   "id": "60192be4-9bc7-4b19-98d7-77f49916405a",
   "metadata": {},
   "outputs": [
    {
     "data": {
      "text/plain": [
       "array([   8.07,    8.74,    8.47,   10.28,   11.34,   11.51,   11.62,\n",
       "         11.86,   10.96,    9.12,    9.6 ,    9.91,   11.81,   12.3 ,\n",
       "         13.7 ,   14.61,   13.6 ,   12.31,   12.29,   12.03,   11.27,\n",
       "         11.04,   11.6 ,    8.2 ,    8.79,    8.85,    9.11,    9.96,\n",
       "         10.09,   11.7 ,   11.41,   10.71,   10.54,   11.58,   11.97,\n",
       "          9.78,    9.34,    9.55,   12.7 ,   13.59,   13.3 ,   14.82,\n",
       "         15.26,   14.7 ,   13.36,   13.4 ,   13.39,   12.66,   12.85,\n",
       "         12.91,   12.45,   12.16,   12.01,   11.44,   11.45,   11.1 ,\n",
       "         12.13,   12.22,   12.15,   11.09,   11.42,   11.84,   11.59,\n",
       "         11.56,   11.26,   11.08,   10.59,    9.64,    7.96,    9.81,\n",
       "          9.82,   13.51,   14.04,   14.08,   12.86,   13.27,   13.28,\n",
       "         12.08,   12.6 ,   11.73,   12.37,   12.54, -999.  ,    9.2 ,\n",
       "          9.19,   10.05,   10.25,   12.84,   13.01,   13.04,   11.93,\n",
       "         12.42,   12.55,   12.93,   12.02,   11.29,   10.86,   10.87,\n",
       "         13.34,    9.85,    8.93,   10.1 ,   14.54,   13.53,   12.65,\n",
       "         16.09,   15.48,   15.86,   12.82,   11.85,   11.65,   11.2 ,\n",
       "         10.04,    9.84,   11.46,   11.36,   11.17,   11.25,   11.48,\n",
       "         10.7 ,   10.61,   12.96,   13.77,   14.6 ,   10.8 ,   10.02,\n",
       "         10.22,    9.37,   10.56,   13.1 ,   13.65,   15.17,   15.41,\n",
       "         15.28,   12.18,   12.1 ,   12.27,   14.65,   14.97,   15.59,\n",
       "         11.05,   11.18,   11.23,   10.45,   12.23,   12.26,   10.43,\n",
       "         10.69,   10.5 ,    9.51,    9.57,   13.52,   13.82,   13.89,\n",
       "         13.06,   13.45,   12.77,   14.29,   14.07,   12.76,   12.72,\n",
       "         15.49,   14.93,   12.07,   12.32,   12.36,   11.33,   10.82,\n",
       "         12.67,   11.98,   11.28,    9.16,    8.72,    8.84,    7.26,\n",
       "          6.7 ,   10.79,   10.74,   11.88,   11.87,    8.28,    9.33,\n",
       "         10.3 ,   13.37,   12.99,    6.44,    7.6 ,    8.37,   10.29,\n",
       "         10.38,   13.79,    9.97,    9.7 ,   11.66,   11.4 ,   10.01,\n",
       "         11.47,   11.91,    8.22,    8.11,    8.12,   11.96,   11.02,\n",
       "          9.69,    9.88,   10.11,   12.17,   12.8 ,   10.98,   11.16,\n",
       "         11.89,   12.11,   14.41,   14.39,   13.78,   14.62,   14.64,\n",
       "         13.94,   14.23,   14.36,   14.15,   14.22,    8.34,    8.69,\n",
       "          8.32,   13.44,   13.64,   13.02,   12.35,   10.08,   10.37,\n",
       "         10.26,    9.75,   10.66,    9.29,    9.27,    9.8 ,    8.08,\n",
       "          7.98,    8.3 ,   10.62,   10.64,   11.83,   10.85,   11.24,\n",
       "         12.69,   12.64,   10.78,   11.13,   10.52,   10.53,   10.34,\n",
       "         14.81,   11.37,   14.77,   13.22,   14.16,    9.35,    8.55,\n",
       "          8.38,   12.34,   16.68,   16.5 ,   16.63,   13.75,   14.11,\n",
       "         11.22,   11.21,    9.39,   12.21,   12.28,   12.2 ,   10.76,\n",
       "          9.36,   10.4 ,    9.99,   13.88,   13.97,   13.83,   16.12,\n",
       "         16.11,   10.47,   10.35,   12.38,    8.88,    9.89,    7.76,\n",
       "          8.35,   11.77,   11.69,   12.53,   12.41,   11.82,   10.94,\n",
       "         10.97,   10.93,   10.  ,   11.55,   11.64,   11.63,   12.63,\n",
       "         11.32,    9.41,   11.57,   11.61,   12.62,   13.31,    5.07,\n",
       "          5.47,    5.99,    6.  ,    6.23,    6.31,    6.64,    7.08,\n",
       "          6.71,    8.26,    8.24,    6.99,    7.3 ,    5.95,    6.85,\n",
       "          7.24,   16.95,   17.7 ,   12.06,   10.48,   10.81,   10.75,\n",
       "         12.4 ,   13.19,   11.68,   12.48,   11.94,   10.2 ,   10.83,\n",
       "         12.14,   10.84,   10.57,   11.11,   11.06,   11.  ,   11.01,\n",
       "         10.9 ,    9.14,    9.68,   11.03,   11.35,   10.91,   11.9 ,\n",
       "         10.92,   11.8 ,   10.18,    7.83,   10.46,   10.99,   11.3 ,\n",
       "          9.87,   12.24,   11.76,   11.74,   11.43,   12.88,   12.58,\n",
       "         12.59,    9.59,   10.17,   12.33,   12.89,   12.9 ,   10.36,\n",
       "         10.21,    8.76,   12.61,   10.6 ,   13.63,   11.67,   11.38,\n",
       "         12.43,   10.03,    9.5 ,    9.66,   10.89,   10.12,    9.48,\n",
       "          9.32,   11.14,   10.88,   10.72,   12.05,   11.92,    8.57,\n",
       "          7.68,    9.01,   11.07,   11.52,    9.58,    9.46,    9.25,\n",
       "          9.92,   10.13,   11.71,   10.77,   10.24,   10.42,    8.9 ,\n",
       "          8.95,   10.07,   10.58,    8.39,    8.87,    8.58,    9.09,\n",
       "         11.53,    9.22,   10.19,   11.31,   13.46,   13.41,   13.74,\n",
       "          9.95,    9.13,    9.26,    8.54,    9.18,    9.56,    9.04,\n",
       "         11.54,    9.73,    9.53,    9.52,    9.98,    9.15,    8.97,\n",
       "         13.16,    8.25,    7.92,    7.4 ,   10.31,    9.45,   10.32,\n",
       "          9.77,   10.23,   10.49,   12.74,    8.48,    8.33,    8.56,\n",
       "          9.  ,   10.51,    8.92,    9.9 ,    7.66,    8.02,    7.06,\n",
       "          8.81,   11.72,   10.33,    9.72,    7.73,    8.01,    7.64,\n",
       "         10.67,    9.31,    6.68,    7.67,    7.85,    7.75,    9.28,\n",
       "          9.02,    9.06,    9.21,    7.02,    9.79,    7.21])"
      ]
     },
     "execution_count": 20,
     "metadata": {},
     "output_type": "execute_result"
    }
   ],
   "source": [
    "df['DO'].unique() "
   ]
  },
  {
   "cell_type": "code",
   "execution_count": 21,
   "id": "106b53f9-6963-43fe-81ce-ef30870c3924",
   "metadata": {},
   "outputs": [
    {
     "data": {
      "text/plain": [
       "array([[<Axes: title={'center': 'DO'}>]], dtype=object)"
      ]
     },
     "execution_count": 21,
     "metadata": {},
     "output_type": "execute_result"
    },
    {
     "data": {
      "image/png": "[encoded data removed]",
      "text/plain": [
       "<Figure size 640x480 with 1 Axes>"
      ]
     },
     "metadata": {},
     "output_type": "display_data"
    }
   ],
   "source": [
    "cols = ['DO']\n",
    "df2 = df[df[cols] > 0]\n",
    "df2.hist(column='DO')"
   ]
  },
  {
   "cell_type": "code",
   "execution_count": 22,
   "id": "aa188c6d-ad66-4d13-9b16-fab16b2b977d",
   "metadata": {},
   "outputs": [
    {
     "data": {
      "text/plain": [
       "array([-999.,  120.,  110.,  115.])"
      ]
     },
     "execution_count": 22,
     "metadata": {},
     "output_type": "execute_result"
    }
   ],
   "source": [
    "df['Turbidity'].unique() ############# is this right?? #############"
   ]
  },
  {
   "cell_type": "code",
   "execution_count": 23,
   "id": "3ba6be09-f3c4-4f10-bdec-b85080656bad",
   "metadata": {},
   "outputs": [
    {
     "data": {
      "text/plain": [
       "array([nan, 'Conductivities not calibrated at 2 week mark',\n",
       "       'conductivities not calibrated at 2 week mark', 'Very low flow',\n",
       "       'Spec Cond lacked data and was originally entered as -999.',\n",
       "       'YSI reads .22 for DO',\n",
       "       'DO collected as 102.3% not mg/L in the field; at 6.3 C temperature DO is 12.64 mg/L',\n",
       "       'SpCond/Cond not calibrated at 2 week mark',\n",
       "       'Specific Conductance calibration was incorrect and therefor readings were incorrect.',\n",
       "       'Specific conductance is questionable.',\n",
       "       'Specific Conductance calibration was incorrect; therefore. Specific Conductance readings are incorrect.',\n",
       "       'Specific Conductance calibration was incorrect. therefore. specific conductance readings are incorrect.',\n",
       "       'Turbidity 3.9. Discrete reading taken with YSI-6920 datasonde.',\n",
       "       'Turbidity 6.9. Discrete reading taken with YSI-6920 datasonde.',\n",
       "       'Turbidity 6.5. Discrete reading taken with YSI-6920 datasonde.'],\n",
       "      dtype=object)"
      ]
     },
     "execution_count": 23,
     "metadata": {},
     "output_type": "execute_result"
    }
   ],
   "source": [
    "df['Note'].unique()"
   ]
  },
  {
   "cell_type": "code",
   "execution_count": null,
   "id": "a26d865a-e43d-43d5-90a3-6131ccbd4a59",
   "metadata": {},
   "outputs": [],
   "source": []
  }
 ],
 "metadata": {
  "kernelspec": {
   "display_name": "Python 3 (ipykernel)",
   "language": "python",
   "name": "python3"
  },
  "language_info": {
   "codemirror_mode": {
    "name": "ipython",
    "version": 3
   },
   "file_extension": ".py",
   "mimetype": "text/x-python",
   "name": "python",
   "nbconvert_exporter": "python",
   "pygments_lexer": "ipython3",
   "version": "3.10.14"
  }
 },
 "nbformat": 4,
 "nbformat_minor": 5
}
