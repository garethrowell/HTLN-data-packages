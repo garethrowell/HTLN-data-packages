{
 "cells": [
  {
   "cell_type": "code",
   "execution_count": 1,
   "id": "b72034c7-cb39-4e64-92d6-9aa5ef494d9a",
   "metadata": {},
   "outputs": [],
   "source": [
    "import pandas as pd\n",
    "import matplotlib.pyplot as plt"
   ]
  },
  {
   "cell_type": "code",
   "execution_count": 2,
   "id": "176f2ada-7c7b-44ed-b815-6d71e4ec7ec1",
   "metadata": {},
   "outputs": [],
   "source": [
    "df = pd.read_csv(\"riffle_sample_details.csv\")"
   ]
  },
  {
   "cell_type": "code",
   "execution_count": 3,
   "id": "09a376c8-e74c-4a57-8404-dc00206d6375",
   "metadata": {},
   "outputs": [
    {
     "data": {
      "text/html": [
       "<div>\n",
       "<style scoped>\n",
       "    .dataframe tbody tr th:only-of-type {\n",
       "        vertical-align: middle;\n",
       "    }\n",
       "\n",
       "    .dataframe tbody tr th {\n",
       "        vertical-align: top;\n",
       "    }\n",
       "\n",
       "    .dataframe thead th {\n",
       "        text-align: right;\n",
       "    }\n",
       "</style>\n",
       "<table border=\"1\" class=\"dataframe\">\n",
       "  <thead>\n",
       "    <tr style=\"text-align: right;\">\n",
       "      <th></th>\n",
       "      <th>ParkName</th>\n",
       "      <th>ParkCode</th>\n",
       "      <th>LocationID</th>\n",
       "      <th>PeriodID</th>\n",
       "      <th>EventID</th>\n",
       "      <th>RiffleNo</th>\n",
       "      <th>Replicate</th>\n",
       "      <th>Width</th>\n",
       "      <th>Depth</th>\n",
       "      <th>Velocity</th>\n",
       "      <th>Substrate</th>\n",
       "      <th>Embeddedness</th>\n",
       "      <th>Vegetation</th>\n",
       "      <th>Algae</th>\n",
       "      <th>Periphyton</th>\n",
       "      <th>Deposition</th>\n",
       "      <th>Organics</th>\n",
       "      <th>Notes</th>\n",
       "    </tr>\n",
       "  </thead>\n",
       "  <tbody>\n",
       "    <tr>\n",
       "      <th>0</th>\n",
       "      <td>Buffalo National River</td>\n",
       "      <td>BUFF</td>\n",
       "      <td>BUFFRMINVEBM01</td>\n",
       "      <td>BUFFRMINVE2007Nov26</td>\n",
       "      <td>BUFFRMINVE2007Dec04</td>\n",
       "      <td>1</td>\n",
       "      <td>L</td>\n",
       "      <td>7.7</td>\n",
       "      <td>15.0</td>\n",
       "      <td>0.13</td>\n",
       "      <td>15.0</td>\n",
       "      <td>2.0</td>\n",
       "      <td>0.0</td>\n",
       "      <td>1.0</td>\n",
       "      <td>2.0</td>\n",
       "      <td>2.0</td>\n",
       "      <td>2.0</td>\n",
       "      <td>NaN</td>\n",
       "    </tr>\n",
       "    <tr>\n",
       "      <th>1</th>\n",
       "      <td>Buffalo National River</td>\n",
       "      <td>BUFF</td>\n",
       "      <td>BUFFRMINVEBM01</td>\n",
       "      <td>BUFFRMINVE2007Nov26</td>\n",
       "      <td>BUFFRMINVE2007Dec04</td>\n",
       "      <td>1</td>\n",
       "      <td>M</td>\n",
       "      <td>13.4</td>\n",
       "      <td>10.0</td>\n",
       "      <td>0.35</td>\n",
       "      <td>15.0</td>\n",
       "      <td>2.0</td>\n",
       "      <td>0.0</td>\n",
       "      <td>0.0</td>\n",
       "      <td>2.0</td>\n",
       "      <td>3.0</td>\n",
       "      <td>3.0</td>\n",
       "      <td>NaN</td>\n",
       "    </tr>\n",
       "    <tr>\n",
       "      <th>2</th>\n",
       "      <td>Buffalo National River</td>\n",
       "      <td>BUFF</td>\n",
       "      <td>BUFFRMINVEBM01</td>\n",
       "      <td>BUFFRMINVE2007Nov26</td>\n",
       "      <td>BUFFRMINVE2007Dec04</td>\n",
       "      <td>1</td>\n",
       "      <td>R</td>\n",
       "      <td>15.9</td>\n",
       "      <td>7.0</td>\n",
       "      <td>0.11</td>\n",
       "      <td>15.0</td>\n",
       "      <td>2.0</td>\n",
       "      <td>0.0</td>\n",
       "      <td>0.0</td>\n",
       "      <td>2.0</td>\n",
       "      <td>3.0</td>\n",
       "      <td>2.0</td>\n",
       "      <td>NaN</td>\n",
       "    </tr>\n",
       "    <tr>\n",
       "      <th>3</th>\n",
       "      <td>Buffalo National River</td>\n",
       "      <td>BUFF</td>\n",
       "      <td>BUFFRMINVEBM01</td>\n",
       "      <td>BUFFRMINVE2007JAN04</td>\n",
       "      <td>BUFFRMINVE2007JAN08</td>\n",
       "      <td>1</td>\n",
       "      <td>L</td>\n",
       "      <td>24.0</td>\n",
       "      <td>42.0</td>\n",
       "      <td>0.77</td>\n",
       "      <td>15.0</td>\n",
       "      <td>3.0</td>\n",
       "      <td>0.0</td>\n",
       "      <td>0.0</td>\n",
       "      <td>2.0</td>\n",
       "      <td>2.0</td>\n",
       "      <td>2.0</td>\n",
       "      <td>NaN</td>\n",
       "    </tr>\n",
       "    <tr>\n",
       "      <th>4</th>\n",
       "      <td>Buffalo National River</td>\n",
       "      <td>BUFF</td>\n",
       "      <td>BUFFRMINVEBM01</td>\n",
       "      <td>BUFFRMINVE2007JAN04</td>\n",
       "      <td>BUFFRMINVE2007JAN08</td>\n",
       "      <td>1</td>\n",
       "      <td>M</td>\n",
       "      <td>20.0</td>\n",
       "      <td>43.0</td>\n",
       "      <td>0.73</td>\n",
       "      <td>14.0</td>\n",
       "      <td>2.0</td>\n",
       "      <td>0.0</td>\n",
       "      <td>1.0</td>\n",
       "      <td>2.0</td>\n",
       "      <td>2.0</td>\n",
       "      <td>2.0</td>\n",
       "      <td>NaN</td>\n",
       "    </tr>\n",
       "    <tr>\n",
       "      <th>...</th>\n",
       "      <td>...</td>\n",
       "      <td>...</td>\n",
       "      <td>...</td>\n",
       "      <td>...</td>\n",
       "      <td>...</td>\n",
       "      <td>...</td>\n",
       "      <td>...</td>\n",
       "      <td>...</td>\n",
       "      <td>...</td>\n",
       "      <td>...</td>\n",
       "      <td>...</td>\n",
       "      <td>...</td>\n",
       "      <td>...</td>\n",
       "      <td>...</td>\n",
       "      <td>...</td>\n",
       "      <td>...</td>\n",
       "      <td>...</td>\n",
       "      <td>...</td>\n",
       "    </tr>\n",
       "    <tr>\n",
       "      <th>3296</th>\n",
       "      <td>Wilson's Creek National Battlefield</td>\n",
       "      <td>WICR</td>\n",
       "      <td>WICRAQUBUG04</td>\n",
       "      <td>WICRAquBug2019Jun03</td>\n",
       "      <td>WICRAquBug2019Jun11</td>\n",
       "      <td>3</td>\n",
       "      <td>M</td>\n",
       "      <td>-999.0</td>\n",
       "      <td>20.0</td>\n",
       "      <td>0.59</td>\n",
       "      <td>14.0</td>\n",
       "      <td>2.0</td>\n",
       "      <td>1.0</td>\n",
       "      <td>0.0</td>\n",
       "      <td>1.0</td>\n",
       "      <td>-999.0</td>\n",
       "      <td>-999.0</td>\n",
       "      <td>NaN</td>\n",
       "    </tr>\n",
       "    <tr>\n",
       "      <th>3297</th>\n",
       "      <td>Wilson's Creek National Battlefield</td>\n",
       "      <td>WICR</td>\n",
       "      <td>WICRAQUBUG04</td>\n",
       "      <td>WICRAquBug2019Jun03</td>\n",
       "      <td>WICRAquBug2019Jun11</td>\n",
       "      <td>3</td>\n",
       "      <td>R</td>\n",
       "      <td>-999.0</td>\n",
       "      <td>27.0</td>\n",
       "      <td>0.61</td>\n",
       "      <td>14.0</td>\n",
       "      <td>2.0</td>\n",
       "      <td>0.0</td>\n",
       "      <td>0.0</td>\n",
       "      <td>2.0</td>\n",
       "      <td>-999.0</td>\n",
       "      <td>-999.0</td>\n",
       "      <td>NaN</td>\n",
       "    </tr>\n",
       "    <tr>\n",
       "      <th>3298</th>\n",
       "      <td>Wilson's Creek National Battlefield</td>\n",
       "      <td>WICR</td>\n",
       "      <td>WICRAQUBUG04</td>\n",
       "      <td>WICRAquBug2022Jun02</td>\n",
       "      <td>WICRAquBug2022Jun02</td>\n",
       "      <td>3</td>\n",
       "      <td>L</td>\n",
       "      <td>-999.0</td>\n",
       "      <td>12.0</td>\n",
       "      <td>0.68</td>\n",
       "      <td>12.0</td>\n",
       "      <td>1.0</td>\n",
       "      <td>1.0</td>\n",
       "      <td>0.0</td>\n",
       "      <td>2.0</td>\n",
       "      <td>-999.0</td>\n",
       "      <td>-999.0</td>\n",
       "      <td>NaN</td>\n",
       "    </tr>\n",
       "    <tr>\n",
       "      <th>3299</th>\n",
       "      <td>Wilson's Creek National Battlefield</td>\n",
       "      <td>WICR</td>\n",
       "      <td>WICRAQUBUG04</td>\n",
       "      <td>WICRAquBug2022Jun02</td>\n",
       "      <td>WICRAquBug2022Jun02</td>\n",
       "      <td>3</td>\n",
       "      <td>M</td>\n",
       "      <td>-999.0</td>\n",
       "      <td>18.0</td>\n",
       "      <td>0.57</td>\n",
       "      <td>13.0</td>\n",
       "      <td>1.0</td>\n",
       "      <td>0.0</td>\n",
       "      <td>0.0</td>\n",
       "      <td>3.0</td>\n",
       "      <td>-999.0</td>\n",
       "      <td>-999.0</td>\n",
       "      <td>NaN</td>\n",
       "    </tr>\n",
       "    <tr>\n",
       "      <th>3300</th>\n",
       "      <td>Wilson's Creek National Battlefield</td>\n",
       "      <td>WICR</td>\n",
       "      <td>WICRAQUBUG04</td>\n",
       "      <td>WICRAquBug2022Jun02</td>\n",
       "      <td>WICRAquBug2022Jun02</td>\n",
       "      <td>3</td>\n",
       "      <td>R</td>\n",
       "      <td>-999.0</td>\n",
       "      <td>22.0</td>\n",
       "      <td>0.84</td>\n",
       "      <td>13.0</td>\n",
       "      <td>2.0</td>\n",
       "      <td>1.0</td>\n",
       "      <td>1.0</td>\n",
       "      <td>3.0</td>\n",
       "      <td>-999.0</td>\n",
       "      <td>-999.0</td>\n",
       "      <td>NaN</td>\n",
       "    </tr>\n",
       "  </tbody>\n",
       "</table>\n",
       "<p>3301 rows × 18 columns</p>\n",
       "</div>"
      ],
      "text/plain": [
       "                                 ParkName ParkCode      LocationID  \\\n",
       "0                  Buffalo National River     BUFF  BUFFRMINVEBM01   \n",
       "1                  Buffalo National River     BUFF  BUFFRMINVEBM01   \n",
       "2                  Buffalo National River     BUFF  BUFFRMINVEBM01   \n",
       "3                  Buffalo National River     BUFF  BUFFRMINVEBM01   \n",
       "4                  Buffalo National River     BUFF  BUFFRMINVEBM01   \n",
       "...                                   ...      ...             ...   \n",
       "3296  Wilson's Creek National Battlefield     WICR    WICRAQUBUG04   \n",
       "3297  Wilson's Creek National Battlefield     WICR    WICRAQUBUG04   \n",
       "3298  Wilson's Creek National Battlefield     WICR    WICRAQUBUG04   \n",
       "3299  Wilson's Creek National Battlefield     WICR    WICRAQUBUG04   \n",
       "3300  Wilson's Creek National Battlefield     WICR    WICRAQUBUG04   \n",
       "\n",
       "                 PeriodID              EventID  RiffleNo Replicate  Width  \\\n",
       "0     BUFFRMINVE2007Nov26  BUFFRMINVE2007Dec04         1         L    7.7   \n",
       "1     BUFFRMINVE2007Nov26  BUFFRMINVE2007Dec04         1         M   13.4   \n",
       "2     BUFFRMINVE2007Nov26  BUFFRMINVE2007Dec04         1         R   15.9   \n",
       "3     BUFFRMINVE2007JAN04  BUFFRMINVE2007JAN08         1         L   24.0   \n",
       "4     BUFFRMINVE2007JAN04  BUFFRMINVE2007JAN08         1         M   20.0   \n",
       "...                   ...                  ...       ...       ...    ...   \n",
       "3296  WICRAquBug2019Jun03  WICRAquBug2019Jun11         3         M -999.0   \n",
       "3297  WICRAquBug2019Jun03  WICRAquBug2019Jun11         3         R -999.0   \n",
       "3298  WICRAquBug2022Jun02  WICRAquBug2022Jun02         3         L -999.0   \n",
       "3299  WICRAquBug2022Jun02  WICRAquBug2022Jun02         3         M -999.0   \n",
       "3300  WICRAquBug2022Jun02  WICRAquBug2022Jun02         3         R -999.0   \n",
       "\n",
       "      Depth  Velocity  Substrate  Embeddedness  Vegetation  Algae  Periphyton  \\\n",
       "0      15.0      0.13       15.0           2.0         0.0    1.0         2.0   \n",
       "1      10.0      0.35       15.0           2.0         0.0    0.0         2.0   \n",
       "2       7.0      0.11       15.0           2.0         0.0    0.0         2.0   \n",
       "3      42.0      0.77       15.0           3.0         0.0    0.0         2.0   \n",
       "4      43.0      0.73       14.0           2.0         0.0    1.0         2.0   \n",
       "...     ...       ...        ...           ...         ...    ...         ...   \n",
       "3296   20.0      0.59       14.0           2.0         1.0    0.0         1.0   \n",
       "3297   27.0      0.61       14.0           2.0         0.0    0.0         2.0   \n",
       "3298   12.0      0.68       12.0           1.0         1.0    0.0         2.0   \n",
       "3299   18.0      0.57       13.0           1.0         0.0    0.0         3.0   \n",
       "3300   22.0      0.84       13.0           2.0         1.0    1.0         3.0   \n",
       "\n",
       "      Deposition  Organics Notes  \n",
       "0            2.0       2.0   NaN  \n",
       "1            3.0       3.0   NaN  \n",
       "2            3.0       2.0   NaN  \n",
       "3            2.0       2.0   NaN  \n",
       "4            2.0       2.0   NaN  \n",
       "...          ...       ...   ...  \n",
       "3296      -999.0    -999.0   NaN  \n",
       "3297      -999.0    -999.0   NaN  \n",
       "3298      -999.0    -999.0   NaN  \n",
       "3299      -999.0    -999.0   NaN  \n",
       "3300      -999.0    -999.0   NaN  \n",
       "\n",
       "[3301 rows x 18 columns]"
      ]
     },
     "execution_count": 3,
     "metadata": {},
     "output_type": "execute_result"
    }
   ],
   "source": [
    "df"
   ]
  },
  {
   "cell_type": "code",
   "execution_count": 4,
   "id": "60b00748-e1e6-454d-b762-4ae5fa3ee2c0",
   "metadata": {},
   "outputs": [
    {
     "data": {
      "text/plain": [
       "ParkName         object\n",
       "ParkCode         object\n",
       "LocationID       object\n",
       "PeriodID         object\n",
       "EventID          object\n",
       "RiffleNo          int64\n",
       "Replicate        object\n",
       "Width           float64\n",
       "Depth           float64\n",
       "Velocity        float64\n",
       "Substrate       float64\n",
       "Embeddedness    float64\n",
       "Vegetation      float64\n",
       "Algae           float64\n",
       "Periphyton      float64\n",
       "Deposition      float64\n",
       "Organics        float64\n",
       "Notes            object\n",
       "dtype: object"
      ]
     },
     "execution_count": 4,
     "metadata": {},
     "output_type": "execute_result"
    }
   ],
   "source": [
    "df.dtypes"
   ]
  },
  {
   "cell_type": "code",
   "execution_count": 5,
   "id": "cbdc8492-2f84-42de-91f3-1c4d1d910d22",
   "metadata": {},
   "outputs": [
    {
     "data": {
      "text/plain": [
       "array(['Buffalo National River', 'Effigy Mounds National Monument',\n",
       "       'George Washington Carver National Monument',\n",
       "       'Herbert Hoover National Historic Site',\n",
       "       'Hot Springs National Park', 'Ozark National Scenic Riverways',\n",
       "       'Pea Ridge National Military Park', 'Pipestone National Monument',\n",
       "       'Tallgrass Prairie National Preserve',\n",
       "       \"Wilson's Creek National Battlefield\"], dtype=object)"
      ]
     },
     "execution_count": 5,
     "metadata": {},
     "output_type": "execute_result"
    }
   ],
   "source": [
    "df['ParkName'].unique() "
   ]
  },
  {
   "cell_type": "code",
   "execution_count": 6,
   "id": "efbd30e6-13fa-455b-a596-2f0eb7164900",
   "metadata": {},
   "outputs": [
    {
     "data": {
      "text/plain": [
       "array(['BUFF', 'EFMO', 'GWCA', 'HEHO', 'HOSP', 'OZAR', 'PERI', 'PIPE',\n",
       "       'TAPR', 'WICR'], dtype=object)"
      ]
     },
     "execution_count": 6,
     "metadata": {},
     "output_type": "execute_result"
    }
   ],
   "source": [
    "df['ParkCode'].unique()"
   ]
  },
  {
   "cell_type": "code",
   "execution_count": 7,
   "id": "8774df89-f995-4d96-96c7-17b778c06d1a",
   "metadata": {},
   "outputs": [
    {
     "data": {
      "text/plain": [
       "array(['BUFFRMINVEBM01', 'BUFFRMINVEBM02', 'BUFFRMINVEBM03',\n",
       "       'BUFFRMINVEBM04', 'BUFFRMINVEBM05', 'BUFFRMINVEBM06',\n",
       "       'BUFFRMINVEBT01', 'BUFFRMINVEBT03', 'BUFFRMINVEBT04',\n",
       "       'BUFFRMINVEBT05', 'BUFFRMINVEBT06', 'BUFFRMINVEBT07',\n",
       "       'BUFFRMINVEBT08', 'BUFFRMINVEBT09', 'BUFFRMINVEBT10',\n",
       "       'BUFFRMINVEBT11', 'BUFFRMINVEBT13', 'BUFFRMINVEBT14',\n",
       "       'BUFFRMINVEBT15', 'BUFFRMINVEBT16', 'BUFFRMINVEBT17',\n",
       "       'BUFFRMINVEBT19', 'BUFFRMINVEBT20', 'BUFFRMINVEBT22',\n",
       "       'BUFFRMINVEBT23', 'BUFFRMINVEBT24', 'BUFFRMINVEBT25',\n",
       "       'BUFFRMINVEBT27', 'BUFFRMINVEBT30', 'BUFFRMINVEBT31',\n",
       "       'BUFFRMINVEBT33', 'EFMOAqubug01', 'GWCAAquBug01', 'GWCAAquBug02',\n",
       "       'GWCAAquBug03', 'HEHOAqubug01', 'HOSPAqubug01', 'HOSPAqubug02',\n",
       "       'OZARRMINVECM01', 'OZARRMINVECM02', 'OZARRMINVECM03',\n",
       "       'OZARRMINVECM04', 'OZARRMINVECM05', 'OZARRMINVECM06',\n",
       "       'OZARRMINVECT01', 'OZARRMINVECT02', 'OZARRMINVECT03',\n",
       "       'OZARRMINVECT04', 'OZARRMINVECT06', 'OZARRMINVECT07',\n",
       "       'OZARRMINVECT08', 'OZARRMINVECT09', 'OZARRMINVECT12',\n",
       "       'OZARRMINVECT13', 'OZARRMINVECT14', 'OZARRMINVECT15',\n",
       "       'OZARRMINVECT16', 'OZARRMINVEJM01', 'OZARRMINVEJM02',\n",
       "       'OZARRMINVEJM03', 'OZARRMINVEJT01', 'OZARRMINVEJT02',\n",
       "       'OZARRMINVEJT03', 'PERIAqubug01', 'PERIAqubug02', 'PERIAqubug03',\n",
       "       'PIPEAquBug01', 'PIPEAquBug02', 'TAPRAqubug01', 'TAPRAqubug02',\n",
       "       'WICRAquBug01', 'WICRAquBug02', 'WICRAquBug03', 'WICRAQUBUG04'],\n",
       "      dtype=object)"
      ]
     },
     "execution_count": 7,
     "metadata": {},
     "output_type": "execute_result"
    }
   ],
   "source": [
    "df['LocationID'].unique() "
   ]
  },
  {
   "cell_type": "code",
   "execution_count": 8,
   "id": "9b933f98-55b6-42bc-99f0-98cfede3b30d",
   "metadata": {},
   "outputs": [
    {
     "data": {
      "text/plain": [
       "array(['BUFFRMINVE2007Nov26', 'BUFFRMINVE2007JAN04',\n",
       "       'BUFFRMINVE2008Dec02', 'BUFFRMINVE2009Dec07',\n",
       "       'BUFFRMINVE2011Dec01', 'BUFFRMINVE2013Nov21',\n",
       "       'BUFFRMINVE2015Nov23', 'BUFFRMINVE2019Nov04',\n",
       "       'BUFFRMINVE2021Nov01', 'BUFFRMINVE2023Nov01',\n",
       "       'BUFFRMINVE2005NOV29', 'BUFFRMINVE2017Nov15',\n",
       "       'BUFFRMINVE2010Nov29', 'EFMOAqubug2008Jul09',\n",
       "       'EFMOAqubug2014Aug13', 'EFMOAquBug2017Jul18',\n",
       "       'EFMOAquBug2023Jul19', 'GWCAAqubug2006Jun27',\n",
       "       'GWCAAqubug2007Jun26', 'GWCAAqubug2010May05',\n",
       "       'GWCAAqubug2013May01', 'GWCAAquBug2016May02',\n",
       "       'GWCAAquBug2019May06', 'GWCAAquBug2022May02',\n",
       "       'HEHOAqubug2008Jul07', 'HEHOAqubug2011Jul11',\n",
       "       'HEHOAqubug2014Aug01', 'HEHOAquBug2017Jul17',\n",
       "       'HEHOAquBug2021Jul26', 'HEHOAquBug2022Jul05',\n",
       "       'HEHOAquBug2023Jul17', 'HOSPAqubug2009Jun16',\n",
       "       'HOSPAqubug2012Jul10', 'HOSPAquabug2015Jul07',\n",
       "       'HOSPAquBug2018Jul09', 'OZARRMINVE2006NOV14',\n",
       "       'OZARRMINVE2006JAN03', 'OZARRMINVE2007Nov01',\n",
       "       'OZARRMINVE2008Nov05', 'OZARRMINVE2009Nov06',\n",
       "       'OZARRMINVE2012Nov13', 'OZARRMINVE2014Nov05',\n",
       "       'OZARRMINVE2016Nov01', 'OZARRMINVE2018Nov07',\n",
       "       'OZARRMINVE2020Nov17', 'OZARRMINVE2022Oct25',\n",
       "       'OZARRMINVE2010Nov03', 'PERIAqubug2009May01',\n",
       "       'PERIAqubug2012May01', 'PERIAqubug2015May05',\n",
       "       'PERIAquBug2018May07', 'PERIAquBug2021May06',\n",
       "       'PERIAqubug2009May04', 'PERIAqubug2010May12',\n",
       "       'PIPEAqubug2006Aug09', 'PIPEAqubug2007Aug28',\n",
       "       'PIPEAqubug2010Aug31', 'PIPEAqubug2013Sep12',\n",
       "       'PIPEAquBug2016Sep09', 'PIPEAquBug2021Aug26',\n",
       "       'PIPEAquBug2022Aug18', 'TAPRAqubug2009Sep01',\n",
       "       'TAPRAqubug2013Apr23', 'TAPRAqubug2015Apr29',\n",
       "       'TAPRAquBug2018May03', 'TAPRAqubug2009Sep02',\n",
       "       'WICRAqubug2006Jun13', 'WICRAqubug2007Jul15',\n",
       "       'WICRAqubug2010May03', 'WICRAqubug2013May06',\n",
       "       'WICRAquBug2016May04', 'WICRAquBug2019Jun03',\n",
       "       'WICRAquBug2022Jun02', 'WICRAqubug2007Jun22',\n",
       "       'WICRAqubug2006Jun14'], dtype=object)"
      ]
     },
     "execution_count": 8,
     "metadata": {},
     "output_type": "execute_result"
    }
   ],
   "source": [
    "df['PeriodID'].unique() "
   ]
  },
  {
   "cell_type": "code",
   "execution_count": 9,
   "id": "424fbdd5-11dc-4b0d-a4a5-caafe3951c16",
   "metadata": {},
   "outputs": [
    {
     "data": {
      "text/plain": [
       "array(['BUFFRMINVE2007Dec04', 'BUFFRMINVE2007JAN08',\n",
       "       'BUFFRMINVE2008Dec04', 'BUFFRMINVE2009Dec08',\n",
       "       'BUFFRMINVE2012Jan05', 'BUFFRMINVE2014Jan29',\n",
       "       'BUFFRMINVE2015Dec17', 'BUFFRMINVE2019Nov18',\n",
       "       'BUFFRMINVE2021Nov10', 'BUFFRMINVE2023Nov14',\n",
       "       'BUFFRMINVE2005NOV29', 'BUFFRMINVE2007JAN09',\n",
       "       'BUFFRMINVE2007Nov27', 'BUFFRMINVE2008Dec03',\n",
       "       'BUFFRMINVE2010Jan14', 'BUFFRMINVE2012Jan06',\n",
       "       'BUFFRMINVE2014Jan23', 'BUFFRMINVE2015Dec18',\n",
       "       'BUFFRMINVE2017Nov29', 'BUFFRMINVE2019Nov20',\n",
       "       'BUFFRMINVE2021Nov09', 'BUFFRMINVE2023Nov02',\n",
       "       'BUFFRMINVE2005NOV30', 'BUFFRMINVE2007FEB21',\n",
       "       'BUFFRMINVE2007Nov28', 'BUFFRMINVE2008Dec02',\n",
       "       'BUFFRMINVE2010Jan15', 'BUFFRMINVE2012Jan09',\n",
       "       'BUFFRMINVE2014Feb19', 'BUFFRMINVE2017Dec01',\n",
       "       'BUFFRMINVE2021Nov08', 'BUFFRMINVE2005DEC01',\n",
       "       'BUFFRMINVE2007FEB09', 'BUFFRMINVE2007Nov30',\n",
       "       'BUFFRMINVE2008Dec05', 'BUFFRMINVE2010Jan11',\n",
       "       'BUFFRMINVE2012Jan04', 'BUFFRMINVE2013Dec04',\n",
       "       'BUFFRMINVE2015Nov24', 'BUFFRMINVE2017Nov16',\n",
       "       'BUFFRMINVE2021Nov03', 'BUFFRMINVE2023Nov03',\n",
       "       'BUFFRMINVE2005DEC20', 'BUFFRMINVE2007FEB22',\n",
       "       'BUFFRMINVE2007Nov29', 'BUFFRMINVE2008Dec11',\n",
       "       'BUFFRMINVE2010Jan12', 'BUFFRMINVE2012Jan10',\n",
       "       'BUFFRMINVE2014Jan30', 'BUFFRMINVE2017Nov30',\n",
       "       'BUFFRMINVE2019Nov21', 'BUFFRMINVE2021Nov02',\n",
       "       'BUFFRMINVE2023Nov07', 'BUFFRMINVE2005DEC14',\n",
       "       'BUFFRMINVE2008Jan22', 'BUFFRMINVE2009Jan08',\n",
       "       'BUFFRMINVE2010Jan21', 'BUFFRMINVE2012Jan18',\n",
       "       'BUFFRMINVE2014Jan31', 'BUFFRMINVE2015Dec09',\n",
       "       'BUFFRMINVE2017Dec08', 'BUFFRMINVE2019Nov19',\n",
       "       'BUFFRMINVE2021Nov01', 'BUFFRMINVE2023Nov08',\n",
       "       'BUFFRMINVE2007JAN04', 'BUFFRMINVE2009Feb18',\n",
       "       'BUFFRMINVE2014Jan24', 'BUFFRMINVE2017Dec04',\n",
       "       'BUFFRMINVE2021Nov04', 'BUFFRMINVE2009Dec14',\n",
       "       'BUFFRMINVE2007Nov26', 'BUFFRMINVE2011Dec01',\n",
       "       'BUFFRMINVE2013Nov21', 'BUFFRMINVE2015Nov23',\n",
       "       'BUFFRMINVE2017Nov15', 'BUFFRMINVE2019Nov04',\n",
       "       'BUFFRMINVE2023Nov01', 'BUFFRMINVE2010Nov29',\n",
       "       'BUFFRMINVE2009Dec15', 'BUFFRMINVE2010Dec01',\n",
       "       'BUFFRMINVE2008Dec10', 'BUFFRMINVE2019Nov06',\n",
       "       'BUFFRMINVE2010Nov30', 'BUFFRMINVE2015Dec07',\n",
       "       'BUFFRMINVE2009Dec16', 'BUFFRMINVE2019Nov05',\n",
       "       'BUFFRMINVE2023Nov06', 'BUFFRMINVE2007JAN05',\n",
       "       'BUFFRMINVE2009Dec07', 'BUFFRMINVE2007Dec03',\n",
       "       'BUFFRMINVE2011Dec07', 'BUFFRMINVE2007FEB20',\n",
       "       'BUFFRMINVE2011Dec28', 'BUFFRMINVE2015Dec08',\n",
       "       'BUFFRMINVE2008Jan23', 'EFMOAqubug2008Jul09',\n",
       "       'EFMOAquBug2014Aug13', 'EFMOAquBug2017Jul18',\n",
       "       'EFMOAquBug2023Jul19', 'GWCAAqubug2006Jun27',\n",
       "       'GWCAAqubug2007Jun26', 'GWCAAqubug2010May05',\n",
       "       'GWCAAqubug2013May01', 'GWCAAquBug2016May02',\n",
       "       'GWCAAquBug2019May06', 'GWCAAquBug2022May02',\n",
       "       'HEHOAqubug2008Jul07', 'HEHOAqubug2011Jul11',\n",
       "       'HEHOAquBug2014Aug01', 'HEHOAquBug2017Jul17',\n",
       "       'HEHOAquBug2021Jul26', 'HEHOAquBug2022Jul05',\n",
       "       'HEHOAquBug2023Jul17', 'HOSPAqubug2009Jun16',\n",
       "       'HOSPAqubug2012Jul10', 'HOSPAquBug2015Jul07',\n",
       "       'HOSPAquBug2018Jul09', 'OZARRMINVE2006DEC12',\n",
       "       'OZARRMINVE2006JAN03', 'OZARRMINVE2007Nov09',\n",
       "       'OZARRMINVE2008Nov06', 'OZARRMINVE2009Nov06',\n",
       "       'OZARRMINVE2012Nov13', 'OZARRMINVE2014Nov13',\n",
       "       'OZARRMINVE2016Nov09', 'OZARRMINVE2018Nov13',\n",
       "       'OZARRMINVE2020Nov17', 'OZARRMINVE2022Oct27',\n",
       "       'OZARRMINVE2006DEC22', 'OZARRMINVE2006JAN04',\n",
       "       'OZARRMINVE2007Nov07', 'OZARRMINVE2008Nov13',\n",
       "       'OZARRMINVE2009Dec02', 'OZARRMINVE2012Nov28',\n",
       "       'OZARRMINVE2016Nov04', 'OZARRMINVE2018Nov08',\n",
       "       'OZARRMINVE2021Jan11', 'OZARRMINVE2006DEC19',\n",
       "       'OZARRMINVE2006JAN05', 'OZARRMINVE2007Nov06',\n",
       "       'OZARRMINVE2009Nov12', 'OZARRMINVE2014Nov12',\n",
       "       'OZARRMINVE2016Nov03', 'OZARRMINVE2020Dec11',\n",
       "       'OZARRMINVE2006JAN24', 'OZARRMINVE2006NOV14',\n",
       "       'OZARRMINVE2007Nov05', 'OZARRMINVE2008Nov20',\n",
       "       'OZARRMINVE2009Dec03', 'OZARRMINVE2012Nov27',\n",
       "       'OZARRMINVE2014Nov19', 'OZARRMINVE2016Nov10',\n",
       "       'OZARRMINVE2018Nov19', 'OZARRMINVE2021Jan05',\n",
       "       'OZARRMINVE2022Oct28', 'OZARRMINVE2006JAN18',\n",
       "       'OZARRMINVE2007Nov02', 'OZARRMINVE2008Nov21',\n",
       "       'OZARRMINVE2020Nov19', 'OZARRMINVE2022Nov03',\n",
       "       'OZARRMINVE2006JAN20', 'OZARRMINVE2007Nov01',\n",
       "       'OZARRMINVE2008Nov05', 'OZARRMINVE2012Nov29',\n",
       "       'OZARRMINVE2014Nov18', 'OZARRMINVE2018Nov20',\n",
       "       'OZARRMINVE2021Jan08', 'OZARRMINVE2022Nov04',\n",
       "       'OZARRMINVE2006DEC18', 'OZARRMINVE2010Nov03',\n",
       "       'OZARRMINVE2010Nov04', 'OZARRMINVE2012Nov14',\n",
       "       'OZARRMINVE2016Nov02', 'OZARRMINVE2006NOV15',\n",
       "       'OZARRMINVE2014Nov06', 'OZARRMINVE2012Nov15',\n",
       "       'OZARRMINVE2014Nov07', 'OZARRMINVE2021Jan14',\n",
       "       'OZARRMINVE2022Oct26', 'OZARRMINVE2018Nov09',\n",
       "       'OZARRMINVE2006DEC13', 'OZARRMINVE2006JAN11',\n",
       "       'OZARRMINVE2007Nov13', 'OZARRMINVE2008Nov12',\n",
       "       'OZARRMINVE2009Nov10', 'OZARRMINVE2012Dec04',\n",
       "       'OZARRMINVE2014Nov05', 'OZARRMINVE2016Nov01',\n",
       "       'OZARRMINVE2018Nov07', 'OZARRMINVE2020Dec08',\n",
       "       'OZARRMINVE2022Oct25', 'OZARRMINVE2006JAN12',\n",
       "       'OZARRMINVE2007Nov14', 'OZARRMINVE2008Nov07',\n",
       "       'OZARRMINVE2020Dec10', 'OZARRMINVE2006DEC14',\n",
       "       'OZARRMINVE2006JAN10', 'OZARRMINVE2009Nov09',\n",
       "       'OZARRMINVE2012Dec05', 'OZARRMINVE2020Nov30',\n",
       "       'OZARRMINVE2007Nov08', 'OZARRMINVE2009Nov24',\n",
       "       'OZARRMINVE2020Dec01', 'PERIAqubug2009May01',\n",
       "       'PERIAqubug2012May01', 'PERIAquBug2015May05',\n",
       "       'PERIAquBug2018May07', 'PERIAquBug2021May06',\n",
       "       'PERIAqubug2009May04', 'PERIAquBug2021May10',\n",
       "       'PERIAqubug2010May12', 'PIPEAqubug2006Aug09',\n",
       "       'PIPEAqubug2007Aug28', 'PIPEAqubug2010Aug31',\n",
       "       'PIPEAquBug2013Sep12', 'PIPEAquBug2016Sep09',\n",
       "       'PIPEAquBug2021Aug26', 'PIPEAquBug2022Aug18',\n",
       "       'TAPRAqubug2009Sep01', 'TAPRAqubug2013Apr23',\n",
       "       'TAPRAquBug2015Apr29', 'TAPRAquBug2018May04',\n",
       "       'TAPRAqubug2009Sep02', 'WICRAqubug2006Jun13',\n",
       "       'WICRAqubug2007Jul15', 'WICRAqubug2010May03',\n",
       "       'WICRAqubug2013May06', 'WICRAquBug2016May04',\n",
       "       'WICRAquBug2019Jun11', 'WICRAquBug2022Jun14',\n",
       "       'WICRAqubug2007Jun22', 'WICRAquBug2022Jun09',\n",
       "       'WICRAqubug2006Jun14', 'WICRAquBug2022Jun02'], dtype=object)"
      ]
     },
     "execution_count": 9,
     "metadata": {},
     "output_type": "execute_result"
    }
   ],
   "source": [
    "df['EventID'].unique() "
   ]
  },
  {
   "cell_type": "code",
   "execution_count": 10,
   "id": "909d51d7-834d-4bd3-bf06-1bb9ba0cc75e",
   "metadata": {},
   "outputs": [
    {
     "data": {
      "text/plain": [
       "array([1, 2, 3])"
      ]
     },
     "execution_count": 10,
     "metadata": {},
     "output_type": "execute_result"
    }
   ],
   "source": [
    "df['RiffleNo'].unique() "
   ]
  },
  {
   "cell_type": "code",
   "execution_count": 11,
   "id": "42934335-5104-4684-b7e5-8676ffbda972",
   "metadata": {},
   "outputs": [
    {
     "data": {
      "text/plain": [
       "ParkName         object\n",
       "ParkCode         object\n",
       "LocationID       object\n",
       "PeriodID         object\n",
       "EventID          object\n",
       "RiffleNo          int64\n",
       "Replicate        object\n",
       "Width           float64\n",
       "Depth           float64\n",
       "Velocity        float64\n",
       "Substrate       float64\n",
       "Embeddedness    float64\n",
       "Vegetation      float64\n",
       "Algae           float64\n",
       "Periphyton      float64\n",
       "Deposition      float64\n",
       "Organics        float64\n",
       "Notes            object\n",
       "dtype: object"
      ]
     },
     "execution_count": 11,
     "metadata": {},
     "output_type": "execute_result"
    }
   ],
   "source": [
    "df.dtypes"
   ]
  },
  {
   "cell_type": "code",
   "execution_count": 12,
   "id": "8a714bed-9641-4e3b-897f-58fd9b9a7b89",
   "metadata": {},
   "outputs": [
    {
     "data": {
      "text/plain": [
       "array(['L', 'M', 'R'], dtype=object)"
      ]
     },
     "execution_count": 12,
     "metadata": {},
     "output_type": "execute_result"
    }
   ],
   "source": [
    "df['Replicate'].unique() "
   ]
  },
  {
   "cell_type": "code",
   "execution_count": 13,
   "id": "9d1bed67-a532-4f7d-8367-0c62ba5c7587",
   "metadata": {},
   "outputs": [
    {
     "data": {
      "text/plain": [
       "array([   7.7 ,   13.4 ,   15.9 ,   24.  ,   20.  , -999.  ,    8.3 ,\n",
       "          8.7 ,   11.3 ,   28.  ,   36.  ,   32.  ,    5.9 ,    6.4 ,\n",
       "         10.1 ,   16.2 ,   11.2 ,    9.1 ,    7.6 ,    7.8 ,   10.8 ,\n",
       "         18.  ,   38.  ,    8.  ,    6.  ,   11.6 ,   12.5 ,    9.6 ,\n",
       "         37.  ,   41.  ,   14.4 ,   24.5 ,    9.2 ,    7.5 ,   42.  ,\n",
       "          4.7 ,    5.8 ,   10.3 ,   13.  ,   10.6 ,   30.1 ,   32.5 ,\n",
       "          6.6 ,   11.9 ,   12.8 ,   17.2 ,    6.2 ,   33.  ,   31.  ,\n",
       "         10.  ,    9.4 ,    9.7 ,   10.65,    5.4 ,    6.5 ,   23.2 ,\n",
       "         26.6 ,   35.5 ,    6.3 ,   12.3 ,   27.5 ,   76.8 ,   32.4 ,\n",
       "         45.3 ,   43.  ,   22.3 ,   20.4 ,   21.6 ,   54.8 ,   55.6 ,\n",
       "         58.  ,   21.  ,   21.2 ,   19.2 ,   17.3 ,   17.8 ,   30.2 ,\n",
       "         28.2 ,   26.8 ,   17.5 ,   15.2 ,   19.1 ,   23.  ,   25.  ,\n",
       "         18.6 ,   14.6 ,   60.  ,   19.  ,   23.5 ,   30.  ,   17.  ,\n",
       "         80.  ,   39.  ,   53.  ,   45.  ,   27.  ,   29.  ,    7.3 ,\n",
       "          6.9 ,   10.2 ,   10.4 ,    4.  ,    5.2 ,    4.2 ,    9.5 ,\n",
       "          3.6 ,    5.7 ,    3.2 ,    4.8 ,   14.1 ,    5.1 ,    5.3 ,\n",
       "          4.6 ,    6.1 ,   34.  ,   22.  ,   10.7 ,   10.5 ,   14.  ,\n",
       "          5.5 ,    9.3 ,    4.5 ,    8.5 ,    3.7 ,    5.  ,    2.8 ,\n",
       "          1.6 ,    2.1 ,    6.7 ,    2.7 ,    4.4 ,   12.2 ,    3.8 ,\n",
       "          7.  ,    7.9 ,    8.2 ,    3.  ,    2.  ,    1.  ,   16.3 ,\n",
       "         15.4 ,   16.9 ,   16.  ,   15.5 ,   17.6 ,   26.  ,   35.6 ,\n",
       "         35.7 ,   24.4 ,   28.7 ,   29.4 ,   13.5 ,   26.1 ,   29.5 ,\n",
       "         15.  ,   11.  ,   47.  ,   57.  ,   71.  ,   21.9 ,   72.  ,\n",
       "         73.  ,   76.  ,   78.  ,   56.  ,   75.  ,   40.  ,   54.  ,\n",
       "         55.  ,   28.5 ,   34.5 ,   35.  ,   11.1 ,    8.8 ,    9.9 ,\n",
       "          9.8 ,   13.2 ,   12.7 ,   11.4 ,   12.4 ,   15.7 ,   14.3 ,\n",
       "         15.1 ,   16.8 ,   14.8 ,   21.8 ,   19.8 ,   16.6 ,    9.  ,\n",
       "         17.7 ,   25.3 ,   27.4 ,   15.6 ,    8.1 ,   22.4 ,   21.3 ,\n",
       "          3.9 ,    3.4 ,    3.3 ,    4.1 ])"
      ]
     },
     "execution_count": 13,
     "metadata": {},
     "output_type": "execute_result"
    }
   ],
   "source": [
    "df['Width'].unique() "
   ]
  },
  {
   "cell_type": "code",
   "execution_count": 14,
   "id": "4c510541-fa6f-42d7-9e58-ecb2f77b082f",
   "metadata": {},
   "outputs": [
    {
     "data": {
      "text/plain": [
       "array([[<Axes: title={'center': 'Width'}>]], dtype=object)"
      ]
     },
     "execution_count": 14,
     "metadata": {},
     "output_type": "execute_result"
    },
    {
     "data": {
      "image/png": "[encoded data removed]",
      "text/plain": [
       "<Figure size 640x480 with 1 Axes>"
      ]
     },
     "metadata": {},
     "output_type": "display_data"
    }
   ],
   "source": [
    "cols = ['Width']\n",
    "df2 = df[df[cols] > 0]\n",
    "df2.hist(column='Width')"
   ]
  },
  {
   "cell_type": "code",
   "execution_count": 15,
   "id": "b621013a-9e61-49c5-83d9-67cf7029ebd0",
   "metadata": {},
   "outputs": [
    {
     "data": {
      "text/plain": [
       "array([  15.,   10.,    7.,   42.,   43.,   52.,   21.,    6.,    9.,\n",
       "         30.,   28.,   38.,   26.,   14.,   34.,   40.,   44.,   35.,\n",
       "         22.,   24.,   12.,   13.,    4.,   16.,   27.,   50.,   36.,\n",
       "         20.,   18.,   32.,   37.,   19.,   25.,   17.,   46.,   33.,\n",
       "         48.,   31.,   29.,   41.,   11.,    8.,   23.,   45.,   56.,\n",
       "         54.,   62.,   61.,   80.,   86.,   76.,   58.,   47.,   53.,\n",
       "         64.,   66.,   72.,   49.,   39.,   63.,   60.,   51.,   68.,\n",
       "          5.,    0.,    3.,    2.,    1.,   55.,   57., -999.])"
      ]
     },
     "execution_count": 15,
     "metadata": {},
     "output_type": "execute_result"
    }
   ],
   "source": [
    "df['Depth'].unique() "
   ]
  },
  {
   "cell_type": "code",
   "execution_count": 16,
   "id": "4918beb1-1948-481e-b0c7-8ac3d9e8b8b9",
   "metadata": {},
   "outputs": [
    {
     "data": {
      "text/plain": [
       "array([[<Axes: title={'center': 'Depth'}>]], dtype=object)"
      ]
     },
     "execution_count": 16,
     "metadata": {},
     "output_type": "execute_result"
    },
    {
     "data": {
      "image/png": "[encoded data removed]",
      "text/plain": [
       "<Figure size 640x480 with 1 Axes>"
      ]
     },
     "metadata": {},
     "output_type": "display_data"
    }
   ],
   "source": [
    "cols = ['Depth']\n",
    "df2 = df[df[cols] > 0]\n",
    "df2.hist(column='Depth')"
   ]
  },
  {
   "cell_type": "code",
   "execution_count": 17,
   "id": "d249293a-1417-48ca-a6b6-302ef9608a30",
   "metadata": {},
   "outputs": [
    {
     "data": {
      "text/plain": [
       "array([ 1.30e-01,  3.50e-01,  1.10e-01,  7.70e-01,  7.30e-01,  7.80e-01,\n",
       "        2.70e-01,  6.80e-01,  3.80e-01,  5.10e-01,  6.50e-01,  4.70e-01,\n",
       "        2.80e-01,  7.10e-01,  6.00e-01,  5.70e-01,  3.10e-01,  3.00e-01,\n",
       "        4.40e-01,  4.20e-01,  5.40e-01,  2.40e-01,  3.30e-01,  1.90e-01,\n",
       "        2.50e-01,  4.00e-01,  3.60e-01,  6.30e-01,  1.10e+00,  5.00e-01,\n",
       "        1.70e-01,  6.20e-01,  2.20e-01,  3.40e-01,  3.70e-01,  6.60e-01,\n",
       "        4.50e-01,  2.60e-01,  7.00e-01,  6.90e-01,  7.40e-01,  4.90e-01,\n",
       "        4.30e-01,  3.20e-01,  1.80e-01,  1.60e-01,  7.60e-01,  1.15e+00,\n",
       "        7.50e-01,  5.20e-01,  1.71e+00,  5.50e-01,  4.10e-01,  2.90e-01,\n",
       "        1.30e+00,  1.53e+00,  6.40e-01,  9.10e-01,  1.16e+00,  5.60e-01,\n",
       "        9.30e-01,  5.90e-01,  1.20e-01,  4.60e-01,  7.90e-01,  9.70e-01,\n",
       "        6.70e-01, -9.99e+02,  9.20e-01,  1.07e+00,  8.20e-01,  1.00e-01,\n",
       "        8.30e-01,  9.90e-01,  9.80e-01,  8.00e-01,  8.50e-01,  6.10e-01,\n",
       "        9.60e-01,  8.90e-01,  1.22e+00,  1.02e+00,  9.50e-01,  8.70e-01,\n",
       "        5.30e-01,  5.80e-01,  1.45e+00,  1.13e+00,  9.00e-01,  8.80e-01,\n",
       "        1.14e+00,  7.20e-01,  1.11e+00,  1.17e+00,  1.41e+00,  1.33e+00,\n",
       "        1.40e+00,  8.60e-01,  1.20e+00,  1.37e+00,  1.21e+00,  1.06e+00,\n",
       "        1.01e+00,  1.03e+00,  8.40e-01,  1.19e+00,  1.08e+00,  1.09e+00,\n",
       "        9.40e-01,  1.26e+00,  1.46e+00,  2.30e-01,  2.00e-01,  1.05e+00,\n",
       "        3.90e-01,  8.10e-01,  1.25e+00,  4.80e-01,  1.24e+00,  1.29e+00,\n",
       "        1.12e+00,  1.04e+00,  1.42e+00,  1.43e+00,  1.56e+00,  1.38e+00,\n",
       "        1.00e+00,  1.65e+00,  1.82e+00,  1.36e+00,  2.10e-01,  1.50e-01,\n",
       "        1.40e-01,  6.00e-02,  2.00e-02,  9.00e-02,  8.00e-02,  4.00e-02,\n",
       "        7.00e-02,  1.28e+00,  3.00e-02,  1.18e+00,  1.23e+00,  1.54e+00,\n",
       "        5.00e-02,  1.00e-02,  1.60e+00,  1.50e+00,  1.63e+00,  1.35e+00,\n",
       "        1.31e+00,  1.32e+00,  1.58e+00,  1.48e+00,  1.34e+00,  2.00e+00,\n",
       "        1.27e+00,  3.00e+00])"
      ]
     },
     "execution_count": 17,
     "metadata": {},
     "output_type": "execute_result"
    }
   ],
   "source": [
    "df['Velocity'].unique() "
   ]
  },
  {
   "cell_type": "code",
   "execution_count": 18,
   "id": "a528ddfb-30cc-41cc-9a99-b8a1a3df6637",
   "metadata": {},
   "outputs": [
    {
     "data": {
      "text/plain": [
       "array([[<Axes: title={'center': 'Velocity'}>]], dtype=object)"
      ]
     },
     "execution_count": 18,
     "metadata": {},
     "output_type": "execute_result"
    },
    {
     "data": {
      "image/png": "[encoded data removed]",
      "text/plain": [
       "<Figure size 640x480 with 1 Axes>"
      ]
     },
     "metadata": {},
     "output_type": "display_data"
    }
   ],
   "source": [
    "cols = ['Velocity']\n",
    "df2 = df[df[cols] > 0]\n",
    "df2.hist(column='Velocity')"
   ]
  },
  {
   "cell_type": "code",
   "execution_count": 19,
   "id": "3fbd02b6-0f18-4aa9-851f-ac9eab3f79ec",
   "metadata": {},
   "outputs": [
    {
     "data": {
      "text/plain": [
       "array([15., 14., 16., 17., 18., 12., 13., 10., 19., 11.,  9.,  8., 21.,\n",
       "        1., 20.,  5.,  7., 24.,  3.])"
      ]
     },
     "execution_count": 19,
     "metadata": {},
     "output_type": "execute_result"
    }
   ],
   "source": [
    "df['Substrate'].unique() "
   ]
  },
  {
   "cell_type": "code",
   "execution_count": 20,
   "id": "73805d59-53fd-47d2-8884-ebf274980a05",
   "metadata": {},
   "outputs": [
    {
     "data": {
      "text/plain": [
       "array([[<Axes: title={'center': 'Substrate'}>]], dtype=object)"
      ]
     },
     "execution_count": 20,
     "metadata": {},
     "output_type": "execute_result"
    },
    {
     "data": {
      "image/png": "[encoded data removed]",
      "text/plain": [
       "<Figure size 640x480 with 1 Axes>"
      ]
     },
     "metadata": {},
     "output_type": "display_data"
    }
   ],
   "source": [
    "cols = ['Substrate']\n",
    "df2 = df[df[cols] > 0]\n",
    "df2.hist(column='Substrate')"
   ]
  },
  {
   "cell_type": "code",
   "execution_count": 21,
   "id": "1e0e5053-4cf7-4c3a-9bce-3b4914be0239",
   "metadata": {},
   "outputs": [
    {
     "data": {
      "text/plain": [
       "array([2., 3., 1., 4., 0.])"
      ]
     },
     "execution_count": 21,
     "metadata": {},
     "output_type": "execute_result"
    }
   ],
   "source": [
    "df['Embeddedness'].unique() "
   ]
  },
  {
   "cell_type": "code",
   "execution_count": 22,
   "id": "a0523657-564f-4486-9075-de939905b4b2",
   "metadata": {},
   "outputs": [
    {
     "data": {
      "text/plain": [
       "array([[<Axes: title={'center': 'Embeddedness'}>]], dtype=object)"
      ]
     },
     "execution_count": 22,
     "metadata": {},
     "output_type": "execute_result"
    },
    {
     "data": {
      "image/png": "[encoded data removed]",
      "text/plain": [
       "<Figure size 640x480 with 1 Axes>"
      ]
     },
     "metadata": {},
     "output_type": "display_data"
    }
   ],
   "source": [
    "cols = ['Embeddedness']\n",
    "df2 = df[df[cols] > 0]\n",
    "df2.hist(column='Embeddedness')"
   ]
  },
  {
   "cell_type": "code",
   "execution_count": 23,
   "id": "7d8e31e5-3599-4829-b334-50245d349c87",
   "metadata": {},
   "outputs": [
    {
     "data": {
      "text/plain": [
       "array([0., 2., 1., 3., 4.])"
      ]
     },
     "execution_count": 23,
     "metadata": {},
     "output_type": "execute_result"
    }
   ],
   "source": [
    "df['Vegetation'].unique() "
   ]
  },
  {
   "cell_type": "code",
   "execution_count": 24,
   "id": "cb813a14-b0f3-4b08-9da4-e5219af78c43",
   "metadata": {},
   "outputs": [
    {
     "data": {
      "text/plain": [
       "array([[<Axes: title={'center': 'Vegetation'}>]], dtype=object)"
      ]
     },
     "execution_count": 24,
     "metadata": {},
     "output_type": "execute_result"
    },
    {
     "data": {
      "image/png": "[encoded data removed]",
      "text/plain": [
       "<Figure size 640x480 with 1 Axes>"
      ]
     },
     "metadata": {},
     "output_type": "display_data"
    }
   ],
   "source": [
    "cols = ['Vegetation']\n",
    "df2 = df[df[cols] > 0]\n",
    "df2.hist(column='Vegetation')"
   ]
  },
  {
   "cell_type": "code",
   "execution_count": 25,
   "id": "1e05cb39-22b0-4817-8dc4-d46aacdbfff0",
   "metadata": {},
   "outputs": [
    {
     "data": {
      "text/plain": [
       "array([1., 0., 2., 3., 4.])"
      ]
     },
     "execution_count": 25,
     "metadata": {},
     "output_type": "execute_result"
    }
   ],
   "source": [
    "df['Algae'].unique() "
   ]
  },
  {
   "cell_type": "code",
   "execution_count": 26,
   "id": "6d2b9583-178f-4c42-9a62-533dc7303499",
   "metadata": {},
   "outputs": [
    {
     "data": {
      "text/plain": [
       "array([[<Axes: title={'center': 'Algae'}>]], dtype=object)"
      ]
     },
     "execution_count": 26,
     "metadata": {},
     "output_type": "execute_result"
    },
    {
     "data": {
      "image/png": "[encoded data removed]",
      "text/plain": [
       "<Figure size 640x480 with 1 Axes>"
      ]
     },
     "metadata": {},
     "output_type": "display_data"
    }
   ],
   "source": [
    "cols = ['Algae']\n",
    "df2 = df[df[cols] > 0]\n",
    "df2.hist(column='Algae')"
   ]
  },
  {
   "cell_type": "code",
   "execution_count": 27,
   "id": "ac9ded78-edbc-49f8-b1f7-71cb9f456531",
   "metadata": {},
   "outputs": [
    {
     "data": {
      "text/plain": [
       "ParkName         object\n",
       "ParkCode         object\n",
       "LocationID       object\n",
       "PeriodID         object\n",
       "EventID          object\n",
       "RiffleNo          int64\n",
       "Replicate        object\n",
       "Width           float64\n",
       "Depth           float64\n",
       "Velocity        float64\n",
       "Substrate       float64\n",
       "Embeddedness    float64\n",
       "Vegetation      float64\n",
       "Algae           float64\n",
       "Periphyton      float64\n",
       "Deposition      float64\n",
       "Organics        float64\n",
       "Notes            object\n",
       "dtype: object"
      ]
     },
     "execution_count": 27,
     "metadata": {},
     "output_type": "execute_result"
    }
   ],
   "source": [
    "df.dtypes"
   ]
  },
  {
   "cell_type": "code",
   "execution_count": 28,
   "id": "a88b24cf-7aa5-4cfa-8d14-4da45fbab683",
   "metadata": {},
   "outputs": [
    {
     "data": {
      "text/plain": [
       "array([2., 3., 4., 1., 0.])"
      ]
     },
     "execution_count": 28,
     "metadata": {},
     "output_type": "execute_result"
    }
   ],
   "source": [
    "df['Periphyton'].unique() "
   ]
  },
  {
   "cell_type": "code",
   "execution_count": 29,
   "id": "42520f1a-3f38-4fc3-82fa-6b8466a5bd03",
   "metadata": {},
   "outputs": [
    {
     "data": {
      "text/plain": [
       "array([[<Axes: title={'center': 'Periphyton'}>]], dtype=object)"
      ]
     },
     "execution_count": 29,
     "metadata": {},
     "output_type": "execute_result"
    },
    {
     "data": {
      "image/png": "[encoded data removed]",
      "text/plain": [
       "<Figure size 640x480 with 1 Axes>"
      ]
     },
     "metadata": {},
     "output_type": "display_data"
    }
   ],
   "source": [
    "cols = ['Periphyton']\n",
    "df2 = df[df[cols] > 0]\n",
    "df2.hist(column='Periphyton')"
   ]
  },
  {
   "cell_type": "code",
   "execution_count": 30,
   "id": "14ab9263-def5-478c-b832-3fbb742ed035",
   "metadata": {},
   "outputs": [
    {
     "data": {
      "text/plain": [
       "array([   2.,    3., -999.,    1.,    4.,    0.])"
      ]
     },
     "execution_count": 30,
     "metadata": {},
     "output_type": "execute_result"
    }
   ],
   "source": [
    "df['Deposition'].unique() "
   ]
  },
  {
   "cell_type": "code",
   "execution_count": 31,
   "id": "fedd6149-048d-484f-abac-f4f0e22a86c9",
   "metadata": {},
   "outputs": [
    {
     "data": {
      "text/plain": [
       "array([[<Axes: title={'center': 'Deposition'}>]], dtype=object)"
      ]
     },
     "execution_count": 31,
     "metadata": {},
     "output_type": "execute_result"
    },
    {
     "data": {
      "image/png": "[encoded data removed]",
      "text/plain": [
       "<Figure size 640x480 with 1 Axes>"
      ]
     },
     "metadata": {},
     "output_type": "display_data"
    }
   ],
   "source": [
    "cols = ['Deposition']\n",
    "df2 = df[df[cols] > 0]\n",
    "df2.hist(column='Deposition')"
   ]
  },
  {
   "cell_type": "code",
   "execution_count": 32,
   "id": "ee1f060b-98e0-4d9e-a160-c6b5ebef5feb",
   "metadata": {},
   "outputs": [
    {
     "data": {
      "text/plain": [
       "array([   2.,    3., -999.,    1.,    4.,    0.])"
      ]
     },
     "execution_count": 32,
     "metadata": {},
     "output_type": "execute_result"
    }
   ],
   "source": [
    "df['Organics'].unique() "
   ]
  },
  {
   "cell_type": "code",
   "execution_count": 33,
   "id": "3ec27212-83d0-417f-a793-93bf32bc5803",
   "metadata": {},
   "outputs": [
    {
     "data": {
      "text/plain": [
       "array([[<Axes: title={'center': 'Organics'}>]], dtype=object)"
      ]
     },
     "execution_count": 33,
     "metadata": {},
     "output_type": "execute_result"
    },
    {
     "data": {
      "image/png": "[encoded data removed]",
      "text/plain": [
       "<Figure size 640x480 with 1 Axes>"
      ]
     },
     "metadata": {},
     "output_type": "display_data"
    }
   ],
   "source": [
    "cols = ['Organics']\n",
    "df2 = df[df[cols] > 0]\n",
    "df2.hist(column='Organics')"
   ]
  },
  {
   "cell_type": "code",
   "execution_count": 34,
   "id": "64f8f509-609b-4b3d-80af-c18198f325a8",
   "metadata": {},
   "outputs": [
    {
     "data": {
      "text/plain": [
       "array([nan, 'Dead flow meter', 'flow meter only one digit',\n",
       "       'freshwater mussel released', 'Freshwater sponge present',\n",
       "       'very low flow'], dtype=object)"
      ]
     },
     "execution_count": 34,
     "metadata": {},
     "output_type": "execute_result"
    }
   ],
   "source": [
    "df['Notes'].unique() "
   ]
  },
  {
   "cell_type": "code",
   "execution_count": null,
   "id": "0a783402-cec7-4d01-b69a-1b9d44475c33",
   "metadata": {},
   "outputs": [],
   "source": []
  }
 ],
 "metadata": {
  "kernelspec": {
   "display_name": "Python 3 (ipykernel)",
   "language": "python",
   "name": "python3"
  },
  "language_info": {
   "codemirror_mode": {
    "name": "ipython",
    "version": 3
   },
   "file_extension": ".py",
   "mimetype": "text/x-python",
   "name": "python",
   "nbconvert_exporter": "python",
   "pygments_lexer": "ipython3",
   "version": "3.10.14"
  }
 },
 "nbformat": 4,
 "nbformat_minor": 5
}
