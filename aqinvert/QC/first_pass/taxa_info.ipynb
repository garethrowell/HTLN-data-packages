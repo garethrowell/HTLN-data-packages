{
 "cells": [
  {
   "cell_type": "code",
   "execution_count": 1,
   "id": "b72034c7-cb39-4e64-92d6-9aa5ef494d9a",
   "metadata": {},
   "outputs": [],
   "source": [
    "import pandas as pd\n",
    "import matplotlib.pyplot as plt"
   ]
  },
  {
   "cell_type": "code",
   "execution_count": 2,
   "id": "176f2ada-7c7b-44ed-b815-6d71e4ec7ec1",
   "metadata": {},
   "outputs": [],
   "source": [
    "df = pd.read_csv(\"taxa_info.csv\")"
   ]
  },
  {
   "cell_type": "code",
   "execution_count": 3,
   "id": "09a376c8-e74c-4a57-8404-dc00206d6375",
   "metadata": {},
   "outputs": [
    {
     "data": {
      "text/html": [
       "<div>\n",
       "<style scoped>\n",
       "    .dataframe tbody tr th:only-of-type {\n",
       "        vertical-align: middle;\n",
       "    }\n",
       "\n",
       "    .dataframe tbody tr th {\n",
       "        vertical-align: top;\n",
       "    }\n",
       "\n",
       "    .dataframe thead th {\n",
       "        text-align: right;\n",
       "    }\n",
       "</style>\n",
       "<table border=\"1\" class=\"dataframe\">\n",
       "  <thead>\n",
       "    <tr style=\"text-align: right;\">\n",
       "      <th></th>\n",
       "      <th>TaxonCode</th>\n",
       "      <th>TSN</th>\n",
       "      <th>Phylum</th>\n",
       "      <th>Class</th>\n",
       "      <th>Order</th>\n",
       "      <th>Family</th>\n",
       "      <th>Subfamily</th>\n",
       "      <th>Genus</th>\n",
       "      <th>ToleranceValue</th>\n",
       "      <th>FunctionalFeedingGroupCode</th>\n",
       "      <th>FunctionalFeedingGroupDesc</th>\n",
       "    </tr>\n",
       "  </thead>\n",
       "  <tbody>\n",
       "    <tr>\n",
       "      <th>0</th>\n",
       "      <td>BAETAN</td>\n",
       "      <td>-999</td>\n",
       "      <td>Arthropoda</td>\n",
       "      <td>Insecta</td>\n",
       "      <td>Ephemeroptera</td>\n",
       "      <td>Baetidae</td>\n",
       "      <td>NaN</td>\n",
       "      <td>Anafroptilum</td>\n",
       "      <td>6.3</td>\n",
       "      <td>C</td>\n",
       "      <td>Collectors</td>\n",
       "    </tr>\n",
       "    <tr>\n",
       "      <th>1</th>\n",
       "      <td>BAETAN</td>\n",
       "      <td>-999</td>\n",
       "      <td>Arthropoda</td>\n",
       "      <td>Insecta</td>\n",
       "      <td>Ephemeroptera</td>\n",
       "      <td>Baetidae</td>\n",
       "      <td>NaN</td>\n",
       "      <td>Anafroptilum</td>\n",
       "      <td>6.3</td>\n",
       "      <td>Sc</td>\n",
       "      <td>Scrapers</td>\n",
       "    </tr>\n",
       "    <tr>\n",
       "      <th>2</th>\n",
       "      <td>CRANBS</td>\n",
       "      <td>-999</td>\n",
       "      <td>Arthropoda</td>\n",
       "      <td>Malacostraca</td>\n",
       "      <td>Amphipoda</td>\n",
       "      <td>Crangonyctidae</td>\n",
       "      <td>NaN</td>\n",
       "      <td>(Stygobromus/Bactrurus)</td>\n",
       "      <td>NaN</td>\n",
       "      <td>C</td>\n",
       "      <td>Collectors</td>\n",
       "    </tr>\n",
       "    <tr>\n",
       "      <th>3</th>\n",
       "      <td>GOMPPH</td>\n",
       "      <td>-999</td>\n",
       "      <td>Arthropoda</td>\n",
       "      <td>Insecta</td>\n",
       "      <td>Odonata</td>\n",
       "      <td>Gomphidae</td>\n",
       "      <td>NaN</td>\n",
       "      <td>Phanogomphus</td>\n",
       "      <td>NaN</td>\n",
       "      <td>Pr</td>\n",
       "      <td>Predators</td>\n",
       "    </tr>\n",
       "    <tr>\n",
       "      <th>4</th>\n",
       "      <td>HYDPHL</td>\n",
       "      <td>-999</td>\n",
       "      <td>Arthropoda</td>\n",
       "      <td>Insecta</td>\n",
       "      <td>Coleoptera</td>\n",
       "      <td>Hydrophilidae</td>\n",
       "      <td>NaN</td>\n",
       "      <td>Hydrobius/Limnohydrobius</td>\n",
       "      <td>NaN</td>\n",
       "      <td>C</td>\n",
       "      <td>Collectors</td>\n",
       "    </tr>\n",
       "    <tr>\n",
       "      <th>...</th>\n",
       "      <td>...</td>\n",
       "      <td>...</td>\n",
       "      <td>...</td>\n",
       "      <td>...</td>\n",
       "      <td>...</td>\n",
       "      <td>...</td>\n",
       "      <td>...</td>\n",
       "      <td>...</td>\n",
       "      <td>...</td>\n",
       "      <td>...</td>\n",
       "      <td>...</td>\n",
       "    </tr>\n",
       "    <tr>\n",
       "      <th>335</th>\n",
       "      <td>EPHETE</td>\n",
       "      <td>776926</td>\n",
       "      <td>Arthropoda</td>\n",
       "      <td>Insecta</td>\n",
       "      <td>Ephemeroptera</td>\n",
       "      <td>Ephemerellidae</td>\n",
       "      <td>NaN</td>\n",
       "      <td>Teloganopsis</td>\n",
       "      <td>2.7</td>\n",
       "      <td>C</td>\n",
       "      <td>Collectors</td>\n",
       "    </tr>\n",
       "    <tr>\n",
       "      <th>336</th>\n",
       "      <td>BAETIS</td>\n",
       "      <td>776928</td>\n",
       "      <td>Arthropoda</td>\n",
       "      <td>Insecta</td>\n",
       "      <td>Ephemeroptera</td>\n",
       "      <td>Baetidae</td>\n",
       "      <td>NaN</td>\n",
       "      <td>Iswaeon</td>\n",
       "      <td>NaN</td>\n",
       "      <td>C</td>\n",
       "      <td>Collectors</td>\n",
       "    </tr>\n",
       "    <tr>\n",
       "      <th>337</th>\n",
       "      <td>DUGEGI</td>\n",
       "      <td>1037592</td>\n",
       "      <td>Platyhelminthes</td>\n",
       "      <td>Rhabditophora</td>\n",
       "      <td>Tricladida</td>\n",
       "      <td>Dugesiidae</td>\n",
       "      <td>NaN</td>\n",
       "      <td>Girardia</td>\n",
       "      <td>5.5</td>\n",
       "      <td>C</td>\n",
       "      <td>Collectors</td>\n",
       "    </tr>\n",
       "    <tr>\n",
       "      <th>338</th>\n",
       "      <td>DUGEGI</td>\n",
       "      <td>1037592</td>\n",
       "      <td>Platyhelminthes</td>\n",
       "      <td>Rhabditophora</td>\n",
       "      <td>Tricladida</td>\n",
       "      <td>Dugesiidae</td>\n",
       "      <td>NaN</td>\n",
       "      <td>Girardia</td>\n",
       "      <td>5.5</td>\n",
       "      <td>Pr</td>\n",
       "      <td>Predators</td>\n",
       "    </tr>\n",
       "    <tr>\n",
       "      <th>339</th>\n",
       "      <td>CAMBFA</td>\n",
       "      <td>1133539</td>\n",
       "      <td>Arthropoda</td>\n",
       "      <td>Malacostraca</td>\n",
       "      <td>Decapoda</td>\n",
       "      <td>Cambaridae</td>\n",
       "      <td>NaN</td>\n",
       "      <td>Faxonius</td>\n",
       "      <td>2.7</td>\n",
       "      <td>C</td>\n",
       "      <td>Collectors</td>\n",
       "    </tr>\n",
       "  </tbody>\n",
       "</table>\n",
       "<p>340 rows × 11 columns</p>\n",
       "</div>"
      ],
      "text/plain": [
       "    TaxonCode      TSN           Phylum          Class          Order  \\\n",
       "0      BAETAN     -999       Arthropoda        Insecta  Ephemeroptera   \n",
       "1      BAETAN     -999       Arthropoda        Insecta  Ephemeroptera   \n",
       "2      CRANBS     -999       Arthropoda   Malacostraca      Amphipoda   \n",
       "3      GOMPPH     -999       Arthropoda        Insecta        Odonata   \n",
       "4      HYDPHL     -999       Arthropoda        Insecta     Coleoptera   \n",
       "..        ...      ...              ...            ...            ...   \n",
       "335    EPHETE   776926       Arthropoda        Insecta  Ephemeroptera   \n",
       "336    BAETIS   776928       Arthropoda        Insecta  Ephemeroptera   \n",
       "337    DUGEGI  1037592  Platyhelminthes  Rhabditophora     Tricladida   \n",
       "338    DUGEGI  1037592  Platyhelminthes  Rhabditophora     Tricladida   \n",
       "339    CAMBFA  1133539       Arthropoda   Malacostraca       Decapoda   \n",
       "\n",
       "             Family Subfamily                     Genus  ToleranceValue  \\\n",
       "0          Baetidae       NaN              Anafroptilum             6.3   \n",
       "1          Baetidae       NaN              Anafroptilum             6.3   \n",
       "2    Crangonyctidae       NaN   (Stygobromus/Bactrurus)             NaN   \n",
       "3         Gomphidae       NaN              Phanogomphus             NaN   \n",
       "4     Hydrophilidae       NaN  Hydrobius/Limnohydrobius             NaN   \n",
       "..              ...       ...                       ...             ...   \n",
       "335  Ephemerellidae       NaN              Teloganopsis             2.7   \n",
       "336        Baetidae       NaN                   Iswaeon             NaN   \n",
       "337      Dugesiidae       NaN                  Girardia             5.5   \n",
       "338      Dugesiidae       NaN                  Girardia             5.5   \n",
       "339      Cambaridae       NaN                  Faxonius             2.7   \n",
       "\n",
       "    FunctionalFeedingGroupCode FunctionalFeedingGroupDesc  \n",
       "0                            C                 Collectors  \n",
       "1                           Sc                   Scrapers  \n",
       "2                            C                 Collectors  \n",
       "3                           Pr                  Predators  \n",
       "4                            C                 Collectors  \n",
       "..                         ...                        ...  \n",
       "335                          C                 Collectors  \n",
       "336                          C                 Collectors  \n",
       "337                          C                 Collectors  \n",
       "338                         Pr                  Predators  \n",
       "339                          C                 Collectors  \n",
       "\n",
       "[340 rows x 11 columns]"
      ]
     },
     "execution_count": 3,
     "metadata": {},
     "output_type": "execute_result"
    }
   ],
   "source": [
    "df"
   ]
  },
  {
   "cell_type": "code",
   "execution_count": 4,
   "id": "60b00748-e1e6-454d-b762-4ae5fa3ee2c0",
   "metadata": {},
   "outputs": [
    {
     "data": {
      "text/plain": [
       "TaxonCode                      object\n",
       "TSN                             int64\n",
       "Phylum                         object\n",
       "Class                          object\n",
       "Order                          object\n",
       "Family                         object\n",
       "Subfamily                      object\n",
       "Genus                          object\n",
       "ToleranceValue                float64\n",
       "FunctionalFeedingGroupCode     object\n",
       "FunctionalFeedingGroupDesc     object\n",
       "dtype: object"
      ]
     },
     "execution_count": 4,
     "metadata": {},
     "output_type": "execute_result"
    }
   ],
   "source": [
    "df.dtypes"
   ]
  },
  {
   "cell_type": "code",
   "execution_count": 5,
   "id": "cbdc8492-2f84-42de-91f3-1c4d1d910d22",
   "metadata": {},
   "outputs": [
    {
     "data": {
      "text/plain": [
       "array(['BAETAN', 'CRANBS', 'GOMPPH', 'HYDPHL', 'LIMO', 'LIMOGIE',\n",
       "       'PLAOHP', 'PSYCPE', 'PSYCPS', 'STRAOH', 'HYDD', 'HYDDHY', 'PLANPH',\n",
       "       'BRAN', 'HIR', 'GLSS', 'ERPO', 'VIVI', 'HYDR', 'HYDRPR', 'EMMEFO',\n",
       "       'AMNIAM', 'PLEU', 'PLEUPL', 'PLEUEL', 'LYMN', 'LYMNGA', 'LYMNPS',\n",
       "       'PLAOFE', 'PLAO', 'PLAOGY', 'PLAOHE', 'PLAOME', 'PHYSPY', 'BIVAL',\n",
       "       'UNIO', 'UNIOLA', 'UNIOCY', 'UNIOST', 'CYRECO', 'SPHA', 'SPHASP',\n",
       "       'SPHAPI', 'TROM', 'CLAD', 'ASELLI', 'ASELCA', 'GAMMGA', 'CRANST',\n",
       "       'HYALHY', 'CRANCR', 'PODUPO', 'ENTO', 'SMIN', 'HEPT', 'HEPTSE',\n",
       "       'HEPTRH', 'HEPTHE', 'HEPTEP', 'HEPTLE', 'HEPTST', 'HEPTMC', 'BAET',\n",
       "       'BAETHE', 'BAETBA', 'BAETAC', 'BAETPA', 'BAETCA', 'SIPHSI',\n",
       "       'AMELAM', 'ISONIS', 'LEPTHA', 'LEPTLE', 'LEPTPA', 'EPHE', 'EPHEEP',\n",
       "       'EPHEEU', 'EPHEAT', 'EPHESE', 'LEPTTR', 'CAENCA', 'BATCBA',\n",
       "       'EPHEEH', 'EPHEHE', 'ODON', 'AESHBO', 'GOMP', 'GOMPDR', 'GOMPHA',\n",
       "       'GOMPOP', 'GOMPST', 'GOMPGM', 'LIBE', 'LIBELI', 'MACRMA', 'CALOHE',\n",
       "       'CALOCA', 'LESTLE', 'COEN', 'COENIS', 'COENEN', 'COENAR', 'PTERPT',\n",
       "       'NEMO', 'NEMOAM', 'NEMOPR', 'CAPNAL', 'TAEN', 'TAENTA', 'CAPNPA',\n",
       "       'TAENST', 'LEUC', 'LEUCLE', 'LEUCZE', 'PERL', 'PERLAC', 'PERLNE',\n",
       "       'PERLPA', 'PERLAG', 'PERO', 'PEROIS', 'PEROHE', 'PEROHY', 'PEROCL',\n",
       "       'CHLO', 'CHLOAL', 'PERLPR', 'PERLPE', 'CHLOHA', 'HEMI', 'CORI',\n",
       "       'CORISI', 'CORITR', 'CORIPA', 'GERR', 'GERRRH', 'GERRGE', 'VELI',\n",
       "       'VELIRH', 'VELIMI', 'HEBRHE', 'HEBRME', 'HEBRLI', 'HALIPE',\n",
       "       'DYTIAG', 'DYTIHG', 'GYRIDI', 'HYDNHY', 'HYDPBE', 'HYDPTR',\n",
       "       'HYDPEN', 'HYDPHY', 'SCIR', 'SCIRSC', 'DRYOHE', 'PSEPPS', 'PSEPEC',\n",
       "       'ELMI', 'ELMIST', 'ELMIDU', 'ELMIMI', 'ELMIOP', 'ELMIAN', 'ELMIMA',\n",
       "       'MEGA', 'SIALSI', 'CORYCH', 'CORYNI', 'CORYCO', 'SISYCL', 'SISYSI',\n",
       "       'RHYARH', 'GLOSPR', 'PHILWO', 'PHILCH', 'PSYHPS', 'POLYCE',\n",
       "       'PSYHPA', 'PSYHLYD', 'HYDSDI', 'HYDSCH', 'HYDSHY', 'HYDSPO',\n",
       "       'HYDTHY', 'HYDTOC', 'HYDTOX', 'HYDTST', 'HYDTIT', 'HYDTDI',\n",
       "       'HYDTNE', 'PHRYAG', 'THRENE', 'LIMNIR', 'LIMNPY', 'MOLAMO',\n",
       "       'ODONMA', 'LEPCSE', 'LEPCTR', 'LEPCMY', 'LEPCOE', 'LEPCNE',\n",
       "       'LEPCCE', 'LEPILE', 'BRACHBR', 'BRACHMI', 'HELIHE', 'POLYPO',\n",
       "       'POLYCY', 'POLYNE', 'POLYNY', 'GLOSAG', 'GLOSGL', 'CRAMPE',\n",
       "       'CRAMPA', 'TIPU', 'TIPUTI', 'LIMOAN', 'LIMOHE', 'LIMOLM', 'LIMOPS',\n",
       "       'LIMOCR', 'LIMOMO', 'PEDIDI', 'DIXIDI', 'DIXIDE', 'CULICU',\n",
       "       'SIMUPR', 'SIMUSI', 'CERAFO', 'CERAAT', 'CERADA', 'CERA', 'STRACA',\n",
       "       'STRAMY', 'STRANE', 'ATHEAT', 'TABA', 'TABCHR', 'TABCHL', 'TABAHY',\n",
       "       'TABATA', 'EMPICL', 'EMPITR', 'EMPICH', 'EMPIHE', 'EMPIOR', 'DOLI',\n",
       "       'EPHY', 'MUSC', 'MUSCLI', 'BAETPR', 'BAETAP', 'BAETFA', 'BAETLA',\n",
       "       'BAETPL', 'POTAAN', 'POLYPL', 'TRIDEL', 'CRAM', 'GERRAQ', 'DYTIA',\n",
       "       'DYTIIO', 'EPHETE', 'BAETIS', 'DUGEGI', 'CAMBFA'], dtype=object)"
      ]
     },
     "execution_count": 5,
     "metadata": {},
     "output_type": "execute_result"
    }
   ],
   "source": [
    "df['TaxonCode'].unique() "
   ]
  },
  {
   "cell_type": "code",
   "execution_count": 6,
   "id": "38b60091-2bfd-4229-b5b9-b536eaebcce0",
   "metadata": {},
   "outputs": [
    {
     "data": {
      "text/plain": [
       "array([   -999,   50844,   50845,   54535,   69169,   69290,   69380,\n",
       "         69438,   70304,   70493,   70505,   70605,   70747,   71541,\n",
       "         71549,   71654,   76483,   76497,   76528,   76569,   76591,\n",
       "         76592,   76599,   76626,   76698,   79118,   79913,   79986,\n",
       "         80084,   80150,   81385,   81389,   81391,   81400,   82769,\n",
       "         83832,   92666,   92686,   93773,   93861,   94025,   95081,\n",
       "         99240,   99643,  100258,  100504,  100507,  100572,  100602,\n",
       "        100626,  100676,  100713,  100744,  100775,  100794,  100800,\n",
       "        100801,  100899,  100903,  100953,  100996,  101041,  101122,\n",
       "        101148,  101187,  101232,  101233,  101324,  101338,  101395,\n",
       "        101405,  101478,  101494,  101526,  101537,  101593,  101645,\n",
       "        101664,  101730,  101734,  101738,  101761,  101777,  101797,\n",
       "        101893,  101918,  102048,  102052,  102061,  102077,  102078,\n",
       "        102102,  102139,  102471,  102517,  102540,  102584,  102644,\n",
       "        102788,  102789,  102804,  102808,  102840,  102844,  102900,\n",
       "        102914,  102917,  102942,  102962,  102975,  102994,  102995,\n",
       "        103084,  103106,  103118,  103202,  103203,  103244,  103251,\n",
       "        103260,  103359,  103364,  103369,  103423,  103491,  103801,\n",
       "        103802,  103829,  103885,  103886,  103900,  103965,  103983,\n",
       "        103986,  111923,  111966,  112200,  112711,  112757,  112812,\n",
       "        112938,  112973,  113196,  113924,  113929,  114006,  114070,\n",
       "        114087,  114093,  114095,  114126,  114146,  114177,  114193,\n",
       "        114212,  115000,  115002,  115024,  115028,  115033,  115086,\n",
       "        115090,  115097,  115221,  115258,  115273,  115335,  115373,\n",
       "        115388,  115391,  115399,  115408,  115453,  115551,  115641,\n",
       "        115714,  115779,  115817,  115823,  115826,  115833,  115882,\n",
       "        116046,  116382,  116409,  116474,  116514,  116548,  116565,\n",
       "        116598,  116607,  116651,  116684,  116794,  116906,  116958,\n",
       "        117016,  117044,  117091,  117095,  117104,  117121,  117159,\n",
       "        117682,  117714,  118840,  119037,  119656,  120094,  120164,\n",
       "        120365,  120488,  120758,  121027,  125810,  125854,  126455,\n",
       "        126703,  126774,  127112,  127113,  127278,  127338,  130409,\n",
       "        130473,  130694,  130929,  130934,  131078,  131250,  131321,\n",
       "        131527,  135849,  135903,  136305,  136327,  136377,  136824,\n",
       "        146893,  150025,  150730,  206622,  568546,  568551,  568552,\n",
       "        568553,  568559,  568776,  650541,  693963,  717547,  728216,\n",
       "        728239,  776926,  776928, 1037592, 1133539])"
      ]
     },
     "execution_count": 6,
     "metadata": {},
     "output_type": "execute_result"
    }
   ],
   "source": [
    "df['TSN'].unique() "
   ]
  },
  {
   "cell_type": "code",
   "execution_count": 7,
   "id": "1d7e00de-6a9c-49a7-981f-07c987fe46d8",
   "metadata": {},
   "outputs": [
    {
     "data": {
      "text/plain": [
       "array(['Arthropoda', 'Mollusca', 'Cnidaria', 'Platyhelminthes',\n",
       "       'Annelida'], dtype=object)"
      ]
     },
     "execution_count": 7,
     "metadata": {},
     "output_type": "execute_result"
    }
   ],
   "source": [
    "df['Phylum'].unique() "
   ]
  },
  {
   "cell_type": "code",
   "execution_count": 8,
   "id": "81684302-d1dc-47a1-99ad-b59bdc88418d",
   "metadata": {},
   "outputs": [
    {
     "data": {
      "text/plain": [
       "array(['Insecta', 'Malacostraca', 'Gastropoda', 'Hydrozoa',\n",
       "       'Rhabditophora', 'Clitellata', 'Bivalvia', 'Arachnida',\n",
       "       'Branchiopoda', 'Collembola'], dtype=object)"
      ]
     },
     "execution_count": 8,
     "metadata": {},
     "output_type": "execute_result"
    }
   ],
   "source": [
    "df['Class'].unique() "
   ]
  },
  {
   "cell_type": "code",
   "execution_count": 9,
   "id": "b7213540-edee-418d-9a5b-d95398264d7d",
   "metadata": {},
   "outputs": [
    {
     "data": {
      "text/plain": [
       "array(['Ephemeroptera', 'Amphipoda', 'Odonata', 'Coleoptera', 'Diptera',\n",
       "       nan, 'Anthoathecata', 'Tricladida', 'Branchiobdellida',\n",
       "       'Hirudinida', 'Rhynchobdellida', 'Arhynchobdellida',\n",
       "       'Architaenioglossa', 'Littorinimorpha', 'Neotaenioglossa',\n",
       "       'Unionida', 'Venerida', 'Veneroida', 'Trombidiformes',\n",
       "       'Diplostraca', 'Isopoda', 'Poduromorpha', 'Entomobryomorpha',\n",
       "       'Symphypleona', 'Plecoptera', 'Hemiptera', 'Megaloptera',\n",
       "       'Neuroptera', 'Trichoptera', 'Lepidoptera', 'Orthoptera',\n",
       "       'Decapoda'], dtype=object)"
      ]
     },
     "execution_count": 9,
     "metadata": {},
     "output_type": "execute_result"
    }
   ],
   "source": [
    "df['Order'].unique() "
   ]
  },
  {
   "cell_type": "code",
   "execution_count": 10,
   "id": "4fe2533f-6dd1-49cb-9812-6906658a65e1",
   "metadata": {},
   "outputs": [
    {
     "data": {
      "text/plain": [
       "array(['Baetidae', 'Crangonyctidae', 'Gomphidae', 'Hydrophilidae',\n",
       "       'Limoniidae', 'Planorbidae', 'Psychodidae', 'Stratiomyidae',\n",
       "       'Hydridae', 'Planariidae', 'Branchiobdellidae', nan,\n",
       "       'Glossiphoniidae', 'Erpobdellidae', 'Viviparidae', 'Hydrobiidae',\n",
       "       'Emmericiidae', 'Amnicolidae', 'Pleuroceridae', 'Lymnaeidae',\n",
       "       'Physidae', 'Unionidae', 'Cyrenidae', 'Sphaeriidae',\n",
       "       'Hydrachnidiae', 'Cladocera', 'Asellidae', 'Gammaridae',\n",
       "       'Hyalellidae', 'Poduridae', 'Entomobryidae', 'Sminthuridae',\n",
       "       'Heptageniidae', 'Siphlonuridae', 'Ameletidae', 'Isonychiidae',\n",
       "       'Leptophlebiidae', 'Ephemerellidae', 'Leptohyphidae', 'Caenidae',\n",
       "       'Baetiscidae', 'Ephemeridae', 'Aeshnidae', 'Libellulidae',\n",
       "       'Macromiidae', 'Calopterygidae', 'Lestidae', 'Coenagrionidae',\n",
       "       'Pteronarcyidae', 'Nemouridae', 'Capniidae', 'Taeniopterygidae',\n",
       "       'Leuctridae', 'Perlidae', 'Perlodidae', 'Chloroperlidae',\n",
       "       'Corixidae', 'Gerridae', 'Veliidae', 'Hebridae', 'Haliplidae',\n",
       "       'Dytiscidae', 'Gyrinidae', 'Hydraenidae', 'Scirtidae', 'Dryopidae',\n",
       "       'Psephenidae', 'Elmidae', 'Sialidae', 'Corydalidae', 'Sisyridae',\n",
       "       'Rhyacophilidae', 'Glossosomatidae', 'Philopotamidae',\n",
       "       'Psychomyiidae', 'Polycentropodidae', 'Hydropsychidae',\n",
       "       'Hydroptilidae', 'Phryganeidae', 'Thremmatidae', 'Limnephilidae',\n",
       "       'Molannidae', 'Odontoceridae', 'Leptoceridae', 'Lepidostomatidae',\n",
       "       'Brachycentridae', 'Helicopsychidae', 'Crambidae', 'Tipulidae',\n",
       "       'Pediciidae', 'Dixidae', 'Culicidae', 'Simuliidae',\n",
       "       'Ceratopogonidae', 'Athericidae', 'Tabanidae', 'Empididae',\n",
       "       'Dolichopodidae', 'Ephydridae', 'Muscidae', 'Potamanthidae',\n",
       "       'Tridactylidae', 'Dugesiidae', 'Cambaridae'], dtype=object)"
      ]
     },
     "execution_count": 10,
     "metadata": {},
     "output_type": "execute_result"
    }
   ],
   "source": [
    "df['Family'].unique() "
   ]
  },
  {
   "cell_type": "code",
   "execution_count": 11,
   "id": "8b93e98a-80aa-4c4d-8678-f475ae5d7f63",
   "metadata": {},
   "outputs": [
    {
     "data": {
      "text/plain": [
       "array([nan, 'Forcipomyiinae', 'Ceratopogoninae', 'Agabinae'], dtype=object)"
      ]
     },
     "execution_count": 11,
     "metadata": {},
     "output_type": "execute_result"
    }
   ],
   "source": [
    "df['Subfamily'].unique() "
   ]
  },
  {
   "cell_type": "code",
   "execution_count": 12,
   "id": "84257296-26c6-46db-be6a-2be814ec2611",
   "metadata": {},
   "outputs": [
    {
     "data": {
      "text/plain": [
       "array(['Anafroptilum', '(Stygobromus/Bactrurus)', 'Phanogomphus',\n",
       "       'Hydrobius/Limnohydrobius', nan, 'Gonomyia/Idiocera/Ellipteroides',\n",
       "       'Helisoma/Planorbella', 'Pericomaini', 'Psychodini',\n",
       "       'Odontomyia/Hedriodiscus', 'Hydra', 'Phagocata', 'Probythinella',\n",
       "       'Fontigens', 'Amnicola', 'Pleurocera', 'Elimia', 'Galba',\n",
       "       'Pseudosuccinea', 'Ferrissia', 'Gyraulus', 'Helisoma', 'Menetus',\n",
       "       'Physella', 'Lampsilis', 'Cyclonaias', 'Strophitus', 'Corbicula',\n",
       "       'Sphaerium', 'Pisidium', 'Lirceus', 'Caecidotea', 'Gammarus',\n",
       "       'Stygobromus', 'Hyalella', 'Crangonyx', 'Podura', 'Stenonema',\n",
       "       'Rhithrogena', 'Heptagenia', 'Epeorus', 'Leucrocuta', 'Stenacron',\n",
       "       'Macdunnoa', 'Heterocloeon', 'Baetis', 'Acentrella',\n",
       "       'Paracloeodes', 'Callibaetis', 'Siphlonurus', 'Ameletus',\n",
       "       'Isonychia', 'Habrophlebiodes', 'Leptophlebia', 'Paraleptophlebia',\n",
       "       'Ephemerella', 'Eurylophella', 'Attenella', 'Serratella',\n",
       "       'Tricorythodes', 'Caenis', 'Baetisca', 'Ephemera', 'Hexagenia',\n",
       "       'Boyeria', 'Dromogomphus', 'Hagenius', 'Ophiogomphus',\n",
       "       'Stylogomphus', 'Gomphurus', 'Libellula', 'Macromia', 'Hetaerina',\n",
       "       'Calopteryx', 'Lestes', 'Ischnura', 'Enallagma', 'Argia',\n",
       "       'Pteronarcys', 'Amphinemura', 'Prostoia', 'Allocapnia',\n",
       "       'Taeniopteryx', 'Paracapnia', 'Strophopteryx', 'Leuctra',\n",
       "       'Zealeuctra', 'Acroneuria', 'Neoperla', 'Paragnetina', 'Agnetina',\n",
       "       'Isoperla', 'Helopicus', 'Hydroperla', 'Clioperla', 'Alloperla',\n",
       "       'Perlinella', 'Perlesta', 'Haploperla', 'Sigara', 'Trichocorixa',\n",
       "       'Palmacorixa', 'Rheumatobates', 'Gerris', 'Rhagovelia',\n",
       "       'Microvelia', 'Hebrus', 'Merragata', 'Lipogomphus', 'Peltodytes',\n",
       "       'Agabus', 'Hygrotus', 'Dineutus', 'Hydraena', 'Berosus',\n",
       "       'Tropisternus', 'Enochrus', 'Hydrobius', 'Scirtes', 'Helichus',\n",
       "       'Psephenus', 'Ectopria', 'Stenelmis', 'Dubiraphia',\n",
       "       'Microcylloepus', 'Optioservus', 'Ancyronyx', 'Macronychus',\n",
       "       'Sialis', 'Chauliodes', 'Nigronia', 'Corydalus', 'Climacia',\n",
       "       'Sisyra', 'Rhyacophila', 'Protoptila', 'Wormaldia', 'Chimarra',\n",
       "       'Psychomyia', 'Cernotina', 'Paduniella', 'Lype', 'Diplectrona',\n",
       "       'Cheumatopsyche', 'Hydropsyche', 'Potamyia', 'Hydroptila',\n",
       "       'Ochrotrichia', 'Oxyethira', 'Stactobiella', 'Ithytrichia',\n",
       "       'Dibusa', 'Neotrichia', 'Agrypnia', 'Neophylax', 'Ironoquia',\n",
       "       'Pycnopsyche', 'Molanna', 'Marilia', 'Setodes', 'Triaenodes',\n",
       "       'Mystacides', 'Oecetis', 'Nectopsyche', 'Ceraclea', 'Lepidostoma',\n",
       "       'Brachycentrus', 'Micrasema', 'Helicopsyche', 'Polycentropus',\n",
       "       'Cyrnellus', 'Neureclipsis', 'Nyctiophylax', 'Agapetus',\n",
       "       'Glossosoma', 'Petrophila', 'Parapoynx', 'Tipula', 'Antocha',\n",
       "       'Hexatoma', 'Limnophila', 'Pseudolimnophila', 'Cryptolabis',\n",
       "       'Molophilus', 'Dicranota', 'Dixa', 'Dixella', 'Culex',\n",
       "       'Prosimulium', 'Simulium', 'Atrichopogon', 'Dasyhelea',\n",
       "       'Caloparyphus', 'Myxosargus', 'Nemotelus', 'Atherix', 'Chrysops',\n",
       "       'Chlorotabanus', 'Hybomitra', 'Tabanus (Atylotus)', 'Clinocera',\n",
       "       'Trichoclinocera', 'Chelifera (Metachela)', 'Hemerodromia',\n",
       "       'Oreogeton', 'Limnophora', 'Procloeon', 'Acerpenna', 'Fallceon',\n",
       "       'Labiobaetis', 'Plauditus', 'Anthopotamus', 'Plectrocnemia',\n",
       "       'Ellipes', 'Aquarius', 'Agabini', 'Ilybiosoma', 'Teloganopsis',\n",
       "       'Iswaeon', 'Girardia', 'Faxonius'], dtype=object)"
      ]
     },
     "execution_count": 12,
     "metadata": {},
     "output_type": "execute_result"
    }
   ],
   "source": [
    "df['Genus'].unique() "
   ]
  },
  {
   "cell_type": "code",
   "execution_count": 13,
   "id": "4774b531-113c-48db-928f-b89b6d42c7a3",
   "metadata": {},
   "outputs": [
    {
     "data": {
      "text/plain": [
       "array([ 6.3 ,   nan,  9.9 ,  5.  ,  6.  , 10.  ,  7.  ,  7.8 ,  4.8 ,\n",
       "        3.7 ,  2.5 ,  7.2 ,  6.9 ,  8.  ,  8.4 ,  9.1 ,  0.  ,  7.7 ,\n",
       "        6.8 ,  5.7 ,  4.  ,  2.3 ,  2.4 ,  1.3 ,  1.2 ,  7.1 ,  3.6 ,\n",
       "        2.8 ,  8.7 ,  5.6 ,  2.6 ,  2.1 ,  3.8 ,  6.4 ,  1.  ,  2.9 ,\n",
       "        5.4 ,  7.6 ,  1.4 ,  1.1 ,  4.7 ,  5.3 ,  6.2 ,  9.  ,  9.8 ,\n",
       "        6.7 ,  8.3 ,  6.1 ,  9.4 ,  5.1 ,  1.7 ,  2.  ,  3.4 ,  0.2 ,\n",
       "        0.7 ,  1.5 ,  1.6 ,  1.8 ,  3.2 ,  0.4 ,  2.75,  8.5 ,  5.5 ,\n",
       "        8.6 ,  4.3 ,  2.7 ,  7.4 ,  5.8 ,  6.5 ,  2.2 ,  6.6 ,  8.1 ,\n",
       "        5.2 ,  4.6 ,  7.3 ,  3.9 ,  0.9 ,  3.5 ,  4.2 ,  4.4 ,  3.  ,\n",
       "        9.7 ])"
      ]
     },
     "execution_count": 13,
     "metadata": {},
     "output_type": "execute_result"
    }
   ],
   "source": [
    "df['ToleranceValue'].unique()  # missing values and 0's -- replace with -999??"
   ]
  },
  {
   "cell_type": "code",
   "execution_count": 14,
   "id": "71ba984e-c6fb-4cd1-8d87-ad6200187978",
   "metadata": {},
   "outputs": [
    {
     "data": {
      "text/plain": [
       "array([[<Axes: title={'center': 'ToleranceValue'}>]], dtype=object)"
      ]
     },
     "execution_count": 14,
     "metadata": {},
     "output_type": "execute_result"
    },
    {
     "data": {
      "image/png": "[encoded data removed]",
      "text/plain": [
       "<Figure size 640x480 with 1 Axes>"
      ]
     },
     "metadata": {},
     "output_type": "display_data"
    }
   ],
   "source": [
    "col = ['ToleranceValue']\n",
    "df2 = df[df[col] > 0]\n",
    "df2.hist(column=col)"
   ]
  },
  {
   "cell_type": "code",
   "execution_count": 15,
   "id": "a789a55e-9c62-4fa3-8242-d501b3210241",
   "metadata": {},
   "outputs": [
    {
     "data": {
      "text/plain": [
       "array(['C', 'Sc', 'Pr', 'Sh', 'Pa', 'F', 'He'], dtype=object)"
      ]
     },
     "execution_count": 15,
     "metadata": {},
     "output_type": "execute_result"
    }
   ],
   "source": [
    "df['FunctionalFeedingGroupCode'].unique()"
   ]
  },
  {
   "cell_type": "code",
   "execution_count": 16,
   "id": "1e33b4de-018a-4604-9bf5-50e4a498904d",
   "metadata": {},
   "outputs": [
    {
     "data": {
      "text/plain": [
       "array(['Collectors', 'Scrapers', 'Predators', 'Shredders', 'Parasites',\n",
       "       'Filterers', 'Herbivores'], dtype=object)"
      ]
     },
     "execution_count": 16,
     "metadata": {},
     "output_type": "execute_result"
    }
   ],
   "source": [
    "df['FunctionalFeedingGroupDesc'].unique()"
   ]
  },
  {
   "cell_type": "code",
   "execution_count": null,
   "id": "18ac6150-6e50-4660-b572-80428a54a689",
   "metadata": {},
   "outputs": [],
   "source": []
  }
 ],
 "metadata": {
  "kernelspec": {
   "display_name": "Python 3 (ipykernel)",
   "language": "python",
   "name": "python3"
  },
  "language_info": {
   "codemirror_mode": {
    "name": "ipython",
    "version": 3
   },
   "file_extension": ".py",
   "mimetype": "text/x-python",
   "name": "python",
   "nbconvert_exporter": "python",
   "pygments_lexer": "ipython3",
   "version": "3.10.14"
  }
 },
 "nbformat": 4,
 "nbformat_minor": 5
}
