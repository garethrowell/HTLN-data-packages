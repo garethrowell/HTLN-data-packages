{
 "cells": [
  {
   "cell_type": "code",
   "execution_count": 1,
   "id": "b72034c7-cb39-4e64-92d6-9aa5ef494d9a",
   "metadata": {},
   "outputs": [],
   "source": [
    "import pandas as pd\n",
    "import matplotlib.pyplot as plt"
   ]
  },
  {
   "cell_type": "code",
   "execution_count": 2,
   "id": "176f2ada-7c7b-44ed-b815-6d71e4ec7ec1",
   "metadata": {},
   "outputs": [],
   "source": [
    "df = pd.read_csv(\"reach_coordinates.csv\")"
   ]
  },
  {
   "cell_type": "code",
   "execution_count": 3,
   "id": "09a376c8-e74c-4a57-8404-dc00206d6375",
   "metadata": {},
   "outputs": [
    {
     "data": {
      "text/html": [
       "<div>\n",
       "<style scoped>\n",
       "    .dataframe tbody tr th:only-of-type {\n",
       "        vertical-align: middle;\n",
       "    }\n",
       "\n",
       "    .dataframe tbody tr th {\n",
       "        vertical-align: top;\n",
       "    }\n",
       "\n",
       "    .dataframe thead th {\n",
       "        text-align: right;\n",
       "    }\n",
       "</style>\n",
       "<table border=\"1\" class=\"dataframe\">\n",
       "  <thead>\n",
       "    <tr style=\"text-align: right;\">\n",
       "      <th></th>\n",
       "      <th>Status</th>\n",
       "      <th>ReachID</th>\n",
       "      <th>ActiveDates</th>\n",
       "      <th>startUTMZone</th>\n",
       "      <th>XstartUTM</th>\n",
       "      <th>YstartUTM</th>\n",
       "      <th>startUTMDatum</th>\n",
       "      <th>XstartDD</th>\n",
       "      <th>YstartDD</th>\n",
       "      <th>startDDDatum</th>\n",
       "      <th>dwcType</th>\n",
       "      <th>dwcBasisOfRecord</th>\n",
       "    </tr>\n",
       "  </thead>\n",
       "  <tbody>\n",
       "    <tr>\n",
       "      <th>0</th>\n",
       "      <td>Active</td>\n",
       "      <td>HOMELOW01</td>\n",
       "      <td>2004 - Present</td>\n",
       "      <td>14N</td>\n",
       "      <td>684033.9984</td>\n",
       "      <td>4462184.586</td>\n",
       "      <td>EPSG:32614</td>\n",
       "      <td>-96.835</td>\n",
       "      <td>40.290</td>\n",
       "      <td>EPSG:4326</td>\n",
       "      <td>Event</td>\n",
       "      <td>MachineObservation</td>\n",
       "    </tr>\n",
       "    <tr>\n",
       "      <th>1</th>\n",
       "      <td>Retired</td>\n",
       "      <td>HOMEUPP01</td>\n",
       "      <td>2004</td>\n",
       "      <td>14N</td>\n",
       "      <td>683556.2183</td>\n",
       "      <td>4461639.216</td>\n",
       "      <td>EPSG:32614</td>\n",
       "      <td>-96.841</td>\n",
       "      <td>40.285</td>\n",
       "      <td>EPSG:4326</td>\n",
       "      <td>Event</td>\n",
       "      <td>MachineObservation</td>\n",
       "    </tr>\n",
       "    <tr>\n",
       "      <th>2</th>\n",
       "      <td>Active</td>\n",
       "      <td>PIPELOW01</td>\n",
       "      <td>2001 - Present</td>\n",
       "      <td>14N</td>\n",
       "      <td>714317.9134</td>\n",
       "      <td>4877116.472</td>\n",
       "      <td>EPSG:32614</td>\n",
       "      <td>-96.326</td>\n",
       "      <td>44.016</td>\n",
       "      <td>EPSG:4326</td>\n",
       "      <td>Event</td>\n",
       "      <td>MachineObservation</td>\n",
       "    </tr>\n",
       "    <tr>\n",
       "      <th>3</th>\n",
       "      <td>Retired</td>\n",
       "      <td>PIPEMID01</td>\n",
       "      <td>2001 - 2006</td>\n",
       "      <td>14N</td>\n",
       "      <td>714488.4427</td>\n",
       "      <td>4876962.659</td>\n",
       "      <td>EPSG:32614</td>\n",
       "      <td>-96.324</td>\n",
       "      <td>44.014</td>\n",
       "      <td>EPSG:4326</td>\n",
       "      <td>Event</td>\n",
       "      <td>MachineObservation</td>\n",
       "    </tr>\n",
       "    <tr>\n",
       "      <th>4</th>\n",
       "      <td>Retired</td>\n",
       "      <td>PIPEUPP01</td>\n",
       "      <td>2001 - 2006</td>\n",
       "      <td>14N</td>\n",
       "      <td>714726.4025</td>\n",
       "      <td>4877069.000</td>\n",
       "      <td>EPSG:32614</td>\n",
       "      <td>-96.321</td>\n",
       "      <td>44.015</td>\n",
       "      <td>EPSG:4326</td>\n",
       "      <td>Event</td>\n",
       "      <td>MachineObservation</td>\n",
       "    </tr>\n",
       "    <tr>\n",
       "      <th>...</th>\n",
       "      <td>...</td>\n",
       "      <td>...</td>\n",
       "      <td>...</td>\n",
       "      <td>...</td>\n",
       "      <td>...</td>\n",
       "      <td>...</td>\n",
       "      <td>...</td>\n",
       "      <td>...</td>\n",
       "      <td>...</td>\n",
       "      <td>...</td>\n",
       "      <td>...</td>\n",
       "      <td>...</td>\n",
       "    </tr>\n",
       "    <tr>\n",
       "      <th>105</th>\n",
       "      <td>Active</td>\n",
       "      <td>BUFFT20</td>\n",
       "      <td>2009 - Present</td>\n",
       "      <td>15N</td>\n",
       "      <td>527094.5304</td>\n",
       "      <td>3982824.761</td>\n",
       "      <td>EPSG:32615</td>\n",
       "      <td>-92.699</td>\n",
       "      <td>35.989</td>\n",
       "      <td>EPSG:4326</td>\n",
       "      <td>Event</td>\n",
       "      <td>MachineObservation</td>\n",
       "    </tr>\n",
       "    <tr>\n",
       "      <th>106</th>\n",
       "      <td>Active</td>\n",
       "      <td>BUFFT23</td>\n",
       "      <td>2009 - Present</td>\n",
       "      <td>15N</td>\n",
       "      <td>537818.3262</td>\n",
       "      <td>3989678.235</td>\n",
       "      <td>EPSG:32615</td>\n",
       "      <td>-92.580</td>\n",
       "      <td>36.051</td>\n",
       "      <td>EPSG:4326</td>\n",
       "      <td>Event</td>\n",
       "      <td>MachineObservation</td>\n",
       "    </tr>\n",
       "    <tr>\n",
       "      <th>107</th>\n",
       "      <td>Active</td>\n",
       "      <td>BUFFT27</td>\n",
       "      <td>2010 - Present</td>\n",
       "      <td>15N</td>\n",
       "      <td>540753.9035</td>\n",
       "      <td>3998691.588</td>\n",
       "      <td>EPSG:32615</td>\n",
       "      <td>-92.547</td>\n",
       "      <td>36.132</td>\n",
       "      <td>EPSG:4326</td>\n",
       "      <td>Event</td>\n",
       "      <td>MachineObservation</td>\n",
       "    </tr>\n",
       "    <tr>\n",
       "      <th>108</th>\n",
       "      <td>Retired</td>\n",
       "      <td>BUFFT29</td>\n",
       "      <td>2010</td>\n",
       "      <td>15N</td>\n",
       "      <td>547354.7112</td>\n",
       "      <td>3992058.809</td>\n",
       "      <td>EPSG:32615</td>\n",
       "      <td>-92.474</td>\n",
       "      <td>36.072</td>\n",
       "      <td>EPSG:4326</td>\n",
       "      <td>Event</td>\n",
       "      <td>MachineObservation</td>\n",
       "    </tr>\n",
       "    <tr>\n",
       "      <th>109</th>\n",
       "      <td>Retired</td>\n",
       "      <td>BUFFT32</td>\n",
       "      <td>2010</td>\n",
       "      <td>15N</td>\n",
       "      <td>551000.4997</td>\n",
       "      <td>3999029.236</td>\n",
       "      <td>EPSG:32615</td>\n",
       "      <td>-92.433</td>\n",
       "      <td>36.135</td>\n",
       "      <td>EPSG:4326</td>\n",
       "      <td>Event</td>\n",
       "      <td>MachineObservation</td>\n",
       "    </tr>\n",
       "  </tbody>\n",
       "</table>\n",
       "<p>110 rows × 12 columns</p>\n",
       "</div>"
      ],
      "text/plain": [
       "      Status    ReachID     ActiveDates startUTMZone    XstartUTM  \\\n",
       "0     Active  HOMELOW01  2004 - Present          14N  684033.9984   \n",
       "1    Retired  HOMEUPP01            2004          14N  683556.2183   \n",
       "2     Active  PIPELOW01  2001 - Present          14N  714317.9134   \n",
       "3    Retired  PIPEMID01     2001 - 2006          14N  714488.4427   \n",
       "4    Retired  PIPEUPP01     2001 - 2006          14N  714726.4025   \n",
       "..       ...        ...             ...          ...          ...   \n",
       "105   Active    BUFFT20  2009 - Present          15N  527094.5304   \n",
       "106   Active    BUFFT23  2009 - Present          15N  537818.3262   \n",
       "107   Active    BUFFT27  2010 - Present          15N  540753.9035   \n",
       "108  Retired    BUFFT29            2010          15N  547354.7112   \n",
       "109  Retired    BUFFT32            2010          15N  551000.4997   \n",
       "\n",
       "       YstartUTM startUTMDatum  XstartDD  YstartDD startDDDatum dwcType  \\\n",
       "0    4462184.586    EPSG:32614   -96.835    40.290    EPSG:4326   Event   \n",
       "1    4461639.216    EPSG:32614   -96.841    40.285    EPSG:4326   Event   \n",
       "2    4877116.472    EPSG:32614   -96.326    44.016    EPSG:4326   Event   \n",
       "3    4876962.659    EPSG:32614   -96.324    44.014    EPSG:4326   Event   \n",
       "4    4877069.000    EPSG:32614   -96.321    44.015    EPSG:4326   Event   \n",
       "..           ...           ...       ...       ...          ...     ...   \n",
       "105  3982824.761    EPSG:32615   -92.699    35.989    EPSG:4326   Event   \n",
       "106  3989678.235    EPSG:32615   -92.580    36.051    EPSG:4326   Event   \n",
       "107  3998691.588    EPSG:32615   -92.547    36.132    EPSG:4326   Event   \n",
       "108  3992058.809    EPSG:32615   -92.474    36.072    EPSG:4326   Event   \n",
       "109  3999029.236    EPSG:32615   -92.433    36.135    EPSG:4326   Event   \n",
       "\n",
       "       dwcBasisOfRecord  \n",
       "0    MachineObservation  \n",
       "1    MachineObservation  \n",
       "2    MachineObservation  \n",
       "3    MachineObservation  \n",
       "4    MachineObservation  \n",
       "..                  ...  \n",
       "105  MachineObservation  \n",
       "106  MachineObservation  \n",
       "107  MachineObservation  \n",
       "108  MachineObservation  \n",
       "109  MachineObservation  \n",
       "\n",
       "[110 rows x 12 columns]"
      ]
     },
     "execution_count": 3,
     "metadata": {},
     "output_type": "execute_result"
    }
   ],
   "source": [
    "df"
   ]
  },
  {
   "cell_type": "code",
   "execution_count": 4,
   "id": "60b00748-e1e6-454d-b762-4ae5fa3ee2c0",
   "metadata": {},
   "outputs": [
    {
     "data": {
      "text/plain": [
       "Status               object\n",
       "ReachID              object\n",
       "ActiveDates          object\n",
       "startUTMZone         object\n",
       "XstartUTM           float64\n",
       "YstartUTM           float64\n",
       "startUTMDatum        object\n",
       "XstartDD            float64\n",
       "YstartDD            float64\n",
       "startDDDatum         object\n",
       "dwcType              object\n",
       "dwcBasisOfRecord     object\n",
       "dtype: object"
      ]
     },
     "execution_count": 4,
     "metadata": {},
     "output_type": "execute_result"
    }
   ],
   "source": [
    "df.dtypes"
   ]
  },
  {
   "cell_type": "code",
   "execution_count": 5,
   "id": "cbdc8492-2f84-42de-91f3-1c4d1d910d22",
   "metadata": {},
   "outputs": [
    {
     "data": {
      "text/plain": [
       "array(['Active', 'Retired'], dtype=object)"
      ]
     },
     "execution_count": 5,
     "metadata": {},
     "output_type": "execute_result"
    }
   ],
   "source": [
    "df['Status'].unique() "
   ]
  },
  {
   "cell_type": "code",
   "execution_count": 6,
   "id": "efbd30e6-13fa-455b-a596-2f0eb7164900",
   "metadata": {},
   "outputs": [
    {
     "data": {
      "text/plain": [
       "array(['HOMELOW01', 'HOMEUPP01', 'PIPELOW01', 'PIPEMID01', 'PIPEUPP01',\n",
       "       'PIPEABV01', 'TAPRMID12', 'TAPRMID10', 'TAPRUPP10', 'TAPRMID05',\n",
       "       'TAPRMID04', 'TAPRLOW24', 'TAPRMID24', 'TAPRLOW02', 'TAPRMID02',\n",
       "       'TAPRMID23', 'TAPRUPP01', 'TAPRMID01', 'TAPRLOW01', 'TAPRLOW22',\n",
       "       'TAPRUPL22', 'TAPRUPR22', 'TAPRMID18', 'TAPRLOW34', 'TAPRUPP36',\n",
       "       'TAPRUPP17', 'TAPRLOW17', 'TAPRMID36', 'TAPRLOW35', 'EFMOUPP01',\n",
       "       'HEHOLOW01', 'HEHOUPP02', 'GWCALOW03', 'GWCALOW02', 'GWCALOW01',\n",
       "       'HOSPLOW02', 'HOSPLOW01', 'WICRLOW03', 'WICRLOW02', 'WICRLOW04',\n",
       "       'CURRM01', 'CURRM02', 'CURRM03', 'CURRM04', 'CURRT08', 'CURRM05',\n",
       "       'CURRT13', 'CURRM06', 'JACKM01', 'JACKM02', 'JACKM03', 'JACKT02',\n",
       "       'CURRT02', 'CURRT07', 'CURRT09', 'CURRT11', 'JACKT01', 'CURRT01',\n",
       "       'CURRT03', 'CURRT04', 'JACKT03', 'CURRT06', 'CURRT12', 'CURRT15',\n",
       "       'CURRT14', 'CURRT16', 'OZARSPRWEL', 'OZARSPRPUL', 'OZARSPRROU',\n",
       "       'OZARSPRALL', 'OZARSPRBLU', 'OZARSPRBIG', 'OZARSPRPHI', 'BUFFM01',\n",
       "       'BUFFM02', 'BUFFT09', 'BUFFM03', 'BUFFM04', 'BUFFM05', 'BUFFT22',\n",
       "       'BUFFM06', 'BUFFT03', 'BUFFT31', 'BUFFT30', 'BUFFT24', 'BUFFT05',\n",
       "       'BUFFT07', 'BUFFT12', 'BUFFT13', 'BUFFT15', 'BUFFT16', 'BUFFT19',\n",
       "       'BUFFT21', 'BUFFT25', 'BUFFT28', 'BUFFT33', 'BUFFT04', 'BUFFT01',\n",
       "       'BUFFT06', 'BUFFT08', 'BUFFT10', 'BUFFT11', 'BUFFT14', 'BUFFT17',\n",
       "       'BUFFT20', 'BUFFT23', 'BUFFT27', 'BUFFT29', 'BUFFT32'],\n",
       "      dtype=object)"
      ]
     },
     "execution_count": 6,
     "metadata": {},
     "output_type": "execute_result"
    }
   ],
   "source": [
    "df['ReachID'].unique() "
   ]
  },
  {
   "cell_type": "code",
   "execution_count": 7,
   "id": "8774df89-f995-4d96-96c7-17b778c06d1a",
   "metadata": {},
   "outputs": [
    {
     "data": {
      "text/plain": [
       "array(['2004 - Present', '2004', '2001 - Present', '2001 - 2006', '2002',\n",
       "       '2001 - 2005', '2002 - Present', '2006 - Present',\n",
       "       '2014 - Present', '2008 - Present', '2021 - Present',\n",
       "       '2005 - Present', '2009 - Present', '2007 - Present', '2006',\n",
       "       '2007', '2008', '2009', '2010', '2010 - Present', '2012 - Present',\n",
       "       '2011 - Present', '2005-2010', '2013 - present'], dtype=object)"
      ]
     },
     "execution_count": 7,
     "metadata": {},
     "output_type": "execute_result"
    }
   ],
   "source": [
    "df['ActiveDates'].unique() "
   ]
  },
  {
   "cell_type": "code",
   "execution_count": 8,
   "id": "9b933f98-55b6-42bc-99f0-98cfede3b30d",
   "metadata": {},
   "outputs": [
    {
     "data": {
      "text/plain": [
       "array([684033.9984, 683556.2183, 714317.9134, 714488.4427, 714726.4025,\n",
       "       714864.1333, 717828.5556, 715113.3555, 715584.9406, 713134.5987,\n",
       "       712782.9535, 710984.8705, 710783.5478, 713259.9285, 712356.9707,\n",
       "       709942.1007, 711575.245 , 712854.1615, 713236.2552, 712420.9492,\n",
       "       711749.0051, 711476.1491, 710058.6258, 709765.5107, 710062.0953,\n",
       "       710455.1183, 710537.0128, 710560.3498, 713915.6602, 645225.6405,\n",
       "       637479.0984, 637116.8642, 379089.4976, 379318.0412, 379401.5086,\n",
       "       489916.9361, 496895.1779, 463235.0373, 464175.9845, 462681.0912,\n",
       "       623494.5755, 637181.0806, 641996.4425, 662429.6441, 661594.1365,\n",
       "       665302.639 , 671989.4005, 684562.4998, 619816.8255, 627511.8508,\n",
       "       633316.3276, 639752.3782, 649050.0301, 662134.44  , 666126.5485,\n",
       "       673281.1965, 627052.8886, 621985.866 , 652268.7679, 654034.4066,\n",
       "       650687.4994, 658937.8445, 672226.0729, 623111.9811, 641264.8283,\n",
       "       648128.6415, 626226.1853, 633749.4692, 641147.0943, 638405.2488,\n",
       "       663158.1435, 678704.0399, 683241.5735, 464230.4217, 490531.4691,\n",
       "       489940.9736, 499451.3649, 520207.7351, 528624.8545, 537130.9511,\n",
       "       545208.7447, 463861.5821, 551559.3495, 551612.6056, 540327.809 ,\n",
       "       480038.5259, 487827.5099, 492469.2143, 495785.1283, 503954.2181,\n",
       "       504349.1571, 520558.9553, 528358.941 , 539898.6072, 544149.9552,\n",
       "       552512.0577, 471964.3642, 464362.8436, 481367.55  , 489480.2196,\n",
       "       491031.748 , 492332.743 , 499773.1745, 509219.8351, 520051.5504,\n",
       "       527094.5304, 537818.3262, 540753.9035, 547354.7112, 551000.4997])"
      ]
     },
     "execution_count": 8,
     "metadata": {},
     "output_type": "execute_result"
    }
   ],
   "source": [
    "df['XstartUTM'].unique() "
   ]
  },
  {
   "cell_type": "code",
   "execution_count": 9,
   "id": "9853c922-a03d-4b2b-96de-93effc74ac3b",
   "metadata": {},
   "outputs": [
    {
     "data": {
      "text/plain": [
       "array([[<Axes: title={'center': 'XstartUTM'}>]], dtype=object)"
      ]
     },
     "execution_count": 9,
     "metadata": {},
     "output_type": "execute_result"
    },
    {
     "data": {
      "image/png": "[encoded data removed]",
      "text/plain": [
       "<Figure size 640x480 with 1 Axes>"
      ]
     },
     "metadata": {},
     "output_type": "display_data"
    }
   ],
   "source": [
    "col = ['XstartUTM']\n",
    "df.hist(column=col)"
   ]
  },
  {
   "cell_type": "code",
   "execution_count": 10,
   "id": "2bafdf5e-ad55-4812-8d70-2a12f61bb59b",
   "metadata": {},
   "outputs": [
    {
     "data": {
      "text/plain": [
       "array([4462184.586, 4461639.216, 4877116.472, 4876962.659, 4877069.   ,\n",
       "       4877045.839, 4255108.882, 4254565.382, 4255016.879, 4254410.277,\n",
       "       4254951.462, 4254233.316, 4255542.609, 4256317.881, 4256345.566,\n",
       "       4257774.032, 4258285.761, 4257459.787, 4257163.323, 4259981.309,\n",
       "       4260196.105, 4259678.701, 4262485.658, 4263504.856, 4263216.844,\n",
       "       4263527.486, 4263231.822, 4263172.229, 4257045.389, 4772312.889,\n",
       "       4614400.074, 4614460.249, 4094607.693, 4094472.159, 4094355.844,\n",
       "       3819517.745, 3820679.132, 4105846.001, 4104715.188, 4103957.123,\n",
       "       4142096.589, 4131048.527, 4126486.925, 4113308.256, 4110837.659,\n",
       "       4111960.813, 4100861.828, 4080539.148, 4101596.289, 4101892.188,\n",
       "       4107888.834, 4114145.71 , 4118652.688, 4117120.853, 4111991.976,\n",
       "       4103745.201, 4101821.908, 4144465.004, 4117741.587, 4116583.499,\n",
       "       4115092.721, 4116464.036, 4102333.032, 4141833.951, 4129873.082,\n",
       "       4123924.295, 4139541.75 , 4133088.923, 4127382.492, 4113069.72 ,\n",
       "       4114876.862, 4091380.656, 4078614.883, 3981180.315, 3988107.449,\n",
       "       3987663.953, 3983911.835, 3981984.401, 3985161.759, 3986206.62 ,\n",
       "       3994672.923, 3983130.922, 3996227.704, 3993466.239, 3991984.759,\n",
       "       3992818.666, 3990728.241, 3983166.504, 3980856.975, 3985110.758,\n",
       "       3985235.684, 3981081.124, 3983921.169, 3993671.913, 3998686.967,\n",
       "       4000971.086, 3990502.705, 3977975.544, 3992848.57 , 3989716.01 ,\n",
       "       3986751.818, 3984111.079, 3983377.902, 3975383.595, 3982119.898,\n",
       "       3982824.761, 3989678.235, 3998691.588, 3992058.809, 3999029.236])"
      ]
     },
     "execution_count": 10,
     "metadata": {},
     "output_type": "execute_result"
    }
   ],
   "source": [
    "df['YstartUTM'].unique() "
   ]
  },
  {
   "cell_type": "code",
   "execution_count": 11,
   "id": "9df040ae-60c3-43aa-979d-7a94c7ef4b79",
   "metadata": {},
   "outputs": [
    {
     "data": {
      "text/plain": [
       "array([[<Axes: title={'center': 'YstartUTM'}>]], dtype=object)"
      ]
     },
     "execution_count": 11,
     "metadata": {},
     "output_type": "execute_result"
    },
    {
     "data": {
      "image/png": "[encoded data removed]",
      "text/plain": [
       "<Figure size 640x480 with 1 Axes>"
      ]
     },
     "metadata": {},
     "output_type": "display_data"
    }
   ],
   "source": [
    "col = ['YstartUTM']\n",
    "df.hist(column=col)"
   ]
  },
  {
   "cell_type": "code",
   "execution_count": 12,
   "id": "343d997d-1809-4be2-a5d9-647c88ea6142",
   "metadata": {},
   "outputs": [
    {
     "data": {
      "text/plain": [
       "array(['EPSG:32614', 'EPSG:32615'], dtype=object)"
      ]
     },
     "execution_count": 12,
     "metadata": {},
     "output_type": "execute_result"
    }
   ],
   "source": [
    "df['startUTMDatum'].unique() "
   ]
  },
  {
   "cell_type": "code",
   "execution_count": 13,
   "id": "2b81e8f0-0179-4cc6-83e1-2a900c49720e",
   "metadata": {},
   "outputs": [
    {
     "data": {
      "text/plain": [
       "array([-96.835, -96.841, -96.326, -96.324, -96.321, -96.319, -96.505,\n",
       "       -96.536, -96.531, -96.559, -96.563, -96.584, -96.585, -96.557,\n",
       "       -96.567, -96.594, -96.576, -96.561, -96.565, -96.573, -96.592,\n",
       "       -96.595, -96.591, -96.587, -96.586, -96.549, -91.216, -91.349,\n",
       "       -91.353, -94.359, -94.356, -94.355, -93.11 , -93.034, -93.414,\n",
       "       -93.403, -93.42 , -91.604, -91.452, -91.398, -91.171, -91.181,\n",
       "       -91.139, -91.066, -90.93 , -91.652, -91.566, -91.5  , -91.426,\n",
       "       -91.32 , -91.173, -91.13 , -91.051, -91.571, -91.621, -91.284,\n",
       "       -91.265, -91.303, -91.21 , -91.063, -91.609, -91.406, -91.33 ,\n",
       "       -91.574, -91.49 , -91.408, -91.441, -91.162, -90.993, -90.945,\n",
       "       -93.397, -93.105, -93.112, -93.006, -92.776, -92.682, -92.588,\n",
       "       -92.498, -93.401, -92.427, -92.552, -93.222, -93.135, -93.084,\n",
       "       -93.047, -92.956, -92.952, -92.772, -92.685, -92.557, -92.509,\n",
       "       -92.416, -93.311, -93.395, -93.207, -93.117, -93.1  , -93.085,\n",
       "       -93.003, -92.898, -92.778, -92.699, -92.58 , -92.547, -92.474,\n",
       "       -92.433])"
      ]
     },
     "execution_count": 13,
     "metadata": {},
     "output_type": "execute_result"
    }
   ],
   "source": [
    "df['XstartDD'].unique() "
   ]
  },
  {
   "cell_type": "code",
   "execution_count": 14,
   "id": "602022e1-7f51-4277-a0d2-72586b58600a",
   "metadata": {},
   "outputs": [
    {
     "data": {
      "text/plain": [
       "array([[<Axes: title={'center': 'XstartDD'}>]], dtype=object)"
      ]
     },
     "execution_count": 14,
     "metadata": {},
     "output_type": "execute_result"
    },
    {
     "data": {
      "image/png": "[encoded data removed]",
      "text/plain": [
       "<Figure size 640x480 with 1 Axes>"
      ]
     },
     "metadata": {},
     "output_type": "display_data"
    }
   ],
   "source": [
    "col = ['XstartDD']\n",
    "df.hist(column=col)"
   ]
  },
  {
   "cell_type": "code",
   "execution_count": 15,
   "id": "d19c5216-99c3-43a2-ba76-9382164aaf9b",
   "metadata": {},
   "outputs": [
    {
     "data": {
      "text/plain": [
       "array([40.29 , 40.285, 44.016, 44.014, 44.015, 38.418, 38.413, 38.417,\n",
       "       38.411, 38.423, 38.43 , 38.444, 38.448, 38.44 , 38.437, 38.463,\n",
       "       38.465, 38.46 , 38.486, 38.495, 38.493, 38.492, 38.436, 43.09 ,\n",
       "       41.67 , 36.99 , 36.989, 36.988, 34.517, 34.528, 37.098, 37.088,\n",
       "       37.081, 37.417, 37.316, 37.274, 37.152, 37.13 , 37.139, 37.038,\n",
       "       36.853, 37.053, 37.055, 37.108, 37.163, 37.202, 37.186, 37.14 ,\n",
       "       37.064, 37.054, 37.439, 37.194, 37.183, 37.17 , 37.181, 37.051,\n",
       "       37.415, 37.305, 37.25 , 37.394, 37.335, 37.282, 37.154, 37.166,\n",
       "       36.952, 36.836, 35.974, 36.037, 36.033, 36.   , 35.982, 36.011,\n",
       "       36.02 , 36.096, 35.992, 36.109, 36.084, 36.072, 36.08 , 36.061,\n",
       "       35.993, 35.972, 36.01 , 36.012, 35.999, 36.087, 36.132, 36.152,\n",
       "       36.059, 35.945, 36.052, 36.025, 36.001, 35.995, 35.923, 35.983,\n",
       "       35.989, 36.051, 36.135])"
      ]
     },
     "execution_count": 15,
     "metadata": {},
     "output_type": "execute_result"
    }
   ],
   "source": [
    "df['YstartDD'].unique() "
   ]
  },
  {
   "cell_type": "code",
   "execution_count": 16,
   "id": "eb8dad78-ce0f-433f-9bdf-6045c3d7c7fb",
   "metadata": {},
   "outputs": [
    {
     "data": {
      "text/plain": [
       "array([[<Axes: title={'center': 'YstartDD'}>]], dtype=object)"
      ]
     },
     "execution_count": 16,
     "metadata": {},
     "output_type": "execute_result"
    },
    {
     "data": {
      "image/png": "[encoded data removed]",
      "text/plain": [
       "<Figure size 640x480 with 1 Axes>"
      ]
     },
     "metadata": {},
     "output_type": "display_data"
    }
   ],
   "source": [
    "col = ['YstartDD']\n",
    "df.hist(column=col)"
   ]
  },
  {
   "cell_type": "code",
   "execution_count": 17,
   "id": "d165dd4d-857e-448e-9cdc-17cf6d578b6e",
   "metadata": {},
   "outputs": [
    {
     "data": {
      "text/plain": [
       "array(['EPSG:4326'], dtype=object)"
      ]
     },
     "execution_count": 17,
     "metadata": {},
     "output_type": "execute_result"
    }
   ],
   "source": [
    "df['startDDDatum'].unique() "
   ]
  },
  {
   "cell_type": "code",
   "execution_count": 18,
   "id": "269db929-bc70-4b93-a0b4-7cac78f8b725",
   "metadata": {},
   "outputs": [
    {
     "data": {
      "text/plain": [
       "array(['Event'], dtype=object)"
      ]
     },
     "execution_count": 18,
     "metadata": {},
     "output_type": "execute_result"
    }
   ],
   "source": [
    "df['dwcType'].unique() "
   ]
  },
  {
   "cell_type": "code",
   "execution_count": 19,
   "id": "294b2301-3def-4d06-8fc5-43b547833e13",
   "metadata": {},
   "outputs": [
    {
     "data": {
      "text/plain": [
       "array(['MachineObservation'], dtype=object)"
      ]
     },
     "execution_count": 19,
     "metadata": {},
     "output_type": "execute_result"
    }
   ],
   "source": [
    "df['dwcBasisOfRecord'].unique() "
   ]
  }
 ],
 "metadata": {
  "kernelspec": {
   "display_name": "Python 3 (ipykernel)",
   "language": "python",
   "name": "python3"
  },
  "language_info": {
   "codemirror_mode": {
    "name": "ipython",
    "version": 3
   },
   "file_extension": ".py",
   "mimetype": "text/x-python",
   "name": "python",
   "nbconvert_exporter": "python",
   "pygments_lexer": "ipython3",
   "version": "3.10.15"
  }
 },
 "nbformat": 4,
 "nbformat_minor": 5
}
