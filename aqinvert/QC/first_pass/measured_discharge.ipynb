{
 "cells": [
  {
   "cell_type": "markdown",
   "id": "1b9f9029-f215-45c1-af6f-c94f98281089",
   "metadata": {},
   "source": [
    "Purpose: to QC Aquatic Invertebrate data file - FieldMeasured_DischargeDetail.csv"
   ]
  },
  {
   "cell_type": "code",
   "execution_count": 1,
   "id": "b72034c7-cb39-4e64-92d6-9aa5ef494d9a",
   "metadata": {},
   "outputs": [],
   "source": [
    "import pandas as pd\n",
    "import matplotlib.pyplot as plt"
   ]
  },
  {
   "cell_type": "code",
   "execution_count": 2,
   "id": "176f2ada-7c7b-44ed-b815-6d71e4ec7ec1",
   "metadata": {},
   "outputs": [],
   "source": [
    "df = pd.read_csv(\"measured_discharge.csv\")"
   ]
  },
  {
   "cell_type": "code",
   "execution_count": 3,
   "id": "09a376c8-e74c-4a57-8404-dc00206d6375",
   "metadata": {},
   "outputs": [
    {
     "data": {
      "text/html": [
       "<div>\n",
       "<style scoped>\n",
       "    .dataframe tbody tr th:only-of-type {\n",
       "        vertical-align: middle;\n",
       "    }\n",
       "\n",
       "    .dataframe tbody tr th {\n",
       "        vertical-align: top;\n",
       "    }\n",
       "\n",
       "    .dataframe thead th {\n",
       "        text-align: right;\n",
       "    }\n",
       "</style>\n",
       "<table border=\"1\" class=\"dataframe\">\n",
       "  <thead>\n",
       "    <tr style=\"text-align: right;\">\n",
       "      <th></th>\n",
       "      <th>ParkName</th>\n",
       "      <th>ParkCode</th>\n",
       "      <th>LocationID</th>\n",
       "      <th>PeriodID</th>\n",
       "      <th>EventID</th>\n",
       "      <th>DischargeNo</th>\n",
       "      <th>DistanceFromBank_m</th>\n",
       "      <th>Depth_cm</th>\n",
       "      <th>Velocity_ms</th>\n",
       "      <th>Comments</th>\n",
       "    </tr>\n",
       "  </thead>\n",
       "  <tbody>\n",
       "    <tr>\n",
       "      <th>0</th>\n",
       "      <td>Buffalo National River</td>\n",
       "      <td>BUFF</td>\n",
       "      <td>BUFFRMINVEBM04</td>\n",
       "      <td>BUFFRMINVE2005NOV29</td>\n",
       "      <td>BUFFRMINVE2005DEC01</td>\n",
       "      <td>1</td>\n",
       "      <td>0.0</td>\n",
       "      <td>8.0</td>\n",
       "      <td>0.00</td>\n",
       "      <td>NaN</td>\n",
       "    </tr>\n",
       "    <tr>\n",
       "      <th>1</th>\n",
       "      <td>Buffalo National River</td>\n",
       "      <td>BUFF</td>\n",
       "      <td>BUFFRMINVEBM04</td>\n",
       "      <td>BUFFRMINVE2005NOV29</td>\n",
       "      <td>BUFFRMINVE2005DEC01</td>\n",
       "      <td>2</td>\n",
       "      <td>2.0</td>\n",
       "      <td>20.0</td>\n",
       "      <td>0.19</td>\n",
       "      <td>NaN</td>\n",
       "    </tr>\n",
       "    <tr>\n",
       "      <th>2</th>\n",
       "      <td>Buffalo National River</td>\n",
       "      <td>BUFF</td>\n",
       "      <td>BUFFRMINVEBM04</td>\n",
       "      <td>BUFFRMINVE2005NOV29</td>\n",
       "      <td>BUFFRMINVE2005DEC01</td>\n",
       "      <td>3</td>\n",
       "      <td>4.0</td>\n",
       "      <td>17.0</td>\n",
       "      <td>0.26</td>\n",
       "      <td>NaN</td>\n",
       "    </tr>\n",
       "    <tr>\n",
       "      <th>3</th>\n",
       "      <td>Buffalo National River</td>\n",
       "      <td>BUFF</td>\n",
       "      <td>BUFFRMINVEBM04</td>\n",
       "      <td>BUFFRMINVE2005NOV29</td>\n",
       "      <td>BUFFRMINVE2005DEC01</td>\n",
       "      <td>4</td>\n",
       "      <td>6.0</td>\n",
       "      <td>16.0</td>\n",
       "      <td>0.22</td>\n",
       "      <td>NaN</td>\n",
       "    </tr>\n",
       "    <tr>\n",
       "      <th>4</th>\n",
       "      <td>Buffalo National River</td>\n",
       "      <td>BUFF</td>\n",
       "      <td>BUFFRMINVEBM04</td>\n",
       "      <td>BUFFRMINVE2005NOV29</td>\n",
       "      <td>BUFFRMINVE2005DEC01</td>\n",
       "      <td>5</td>\n",
       "      <td>8.0</td>\n",
       "      <td>16.0</td>\n",
       "      <td>0.21</td>\n",
       "      <td>NaN</td>\n",
       "    </tr>\n",
       "    <tr>\n",
       "      <th>...</th>\n",
       "      <td>...</td>\n",
       "      <td>...</td>\n",
       "      <td>...</td>\n",
       "      <td>...</td>\n",
       "      <td>...</td>\n",
       "      <td>...</td>\n",
       "      <td>...</td>\n",
       "      <td>...</td>\n",
       "      <td>...</td>\n",
       "      <td>...</td>\n",
       "    </tr>\n",
       "    <tr>\n",
       "      <th>3518</th>\n",
       "      <td>Wilson's Creek National Battlefield</td>\n",
       "      <td>WICR</td>\n",
       "      <td>WICRAquBug02</td>\n",
       "      <td>WICRAquBug2022Jun02</td>\n",
       "      <td>WICRAquBug2022Jun14</td>\n",
       "      <td>11</td>\n",
       "      <td>10.0</td>\n",
       "      <td>21.0</td>\n",
       "      <td>0.12</td>\n",
       "      <td>NaN</td>\n",
       "    </tr>\n",
       "    <tr>\n",
       "      <th>3519</th>\n",
       "      <td>Wilson's Creek National Battlefield</td>\n",
       "      <td>WICR</td>\n",
       "      <td>WICRAquBug02</td>\n",
       "      <td>WICRAquBug2022Jun02</td>\n",
       "      <td>WICRAquBug2022Jun14</td>\n",
       "      <td>12</td>\n",
       "      <td>11.0</td>\n",
       "      <td>19.0</td>\n",
       "      <td>0.05</td>\n",
       "      <td>NaN</td>\n",
       "    </tr>\n",
       "    <tr>\n",
       "      <th>3520</th>\n",
       "      <td>Wilson's Creek National Battlefield</td>\n",
       "      <td>WICR</td>\n",
       "      <td>WICRAquBug02</td>\n",
       "      <td>WICRAquBug2022Jun02</td>\n",
       "      <td>WICRAquBug2022Jun14</td>\n",
       "      <td>13</td>\n",
       "      <td>12.0</td>\n",
       "      <td>14.0</td>\n",
       "      <td>0.01</td>\n",
       "      <td>NaN</td>\n",
       "    </tr>\n",
       "    <tr>\n",
       "      <th>3521</th>\n",
       "      <td>Wilson's Creek National Battlefield</td>\n",
       "      <td>WICR</td>\n",
       "      <td>WICRAquBug02</td>\n",
       "      <td>WICRAquBug2022Jun02</td>\n",
       "      <td>WICRAquBug2022Jun14</td>\n",
       "      <td>14</td>\n",
       "      <td>13.0</td>\n",
       "      <td>12.0</td>\n",
       "      <td>0.00</td>\n",
       "      <td>NaN</td>\n",
       "    </tr>\n",
       "    <tr>\n",
       "      <th>3522</th>\n",
       "      <td>Wilson's Creek National Battlefield</td>\n",
       "      <td>WICR</td>\n",
       "      <td>WICRAquBug02</td>\n",
       "      <td>WICRAquBug2022Jun02</td>\n",
       "      <td>WICRAquBug2022Jun14</td>\n",
       "      <td>15</td>\n",
       "      <td>14.0</td>\n",
       "      <td>0.0</td>\n",
       "      <td>0.00</td>\n",
       "      <td>NaN</td>\n",
       "    </tr>\n",
       "  </tbody>\n",
       "</table>\n",
       "<p>3523 rows × 10 columns</p>\n",
       "</div>"
      ],
      "text/plain": [
       "                                 ParkName ParkCode      LocationID  \\\n",
       "0                  Buffalo National River     BUFF  BUFFRMINVEBM04   \n",
       "1                  Buffalo National River     BUFF  BUFFRMINVEBM04   \n",
       "2                  Buffalo National River     BUFF  BUFFRMINVEBM04   \n",
       "3                  Buffalo National River     BUFF  BUFFRMINVEBM04   \n",
       "4                  Buffalo National River     BUFF  BUFFRMINVEBM04   \n",
       "...                                   ...      ...             ...   \n",
       "3518  Wilson's Creek National Battlefield     WICR    WICRAquBug02   \n",
       "3519  Wilson's Creek National Battlefield     WICR    WICRAquBug02   \n",
       "3520  Wilson's Creek National Battlefield     WICR    WICRAquBug02   \n",
       "3521  Wilson's Creek National Battlefield     WICR    WICRAquBug02   \n",
       "3522  Wilson's Creek National Battlefield     WICR    WICRAquBug02   \n",
       "\n",
       "                 PeriodID              EventID  DischargeNo  \\\n",
       "0     BUFFRMINVE2005NOV29  BUFFRMINVE2005DEC01            1   \n",
       "1     BUFFRMINVE2005NOV29  BUFFRMINVE2005DEC01            2   \n",
       "2     BUFFRMINVE2005NOV29  BUFFRMINVE2005DEC01            3   \n",
       "3     BUFFRMINVE2005NOV29  BUFFRMINVE2005DEC01            4   \n",
       "4     BUFFRMINVE2005NOV29  BUFFRMINVE2005DEC01            5   \n",
       "...                   ...                  ...          ...   \n",
       "3518  WICRAquBug2022Jun02  WICRAquBug2022Jun14           11   \n",
       "3519  WICRAquBug2022Jun02  WICRAquBug2022Jun14           12   \n",
       "3520  WICRAquBug2022Jun02  WICRAquBug2022Jun14           13   \n",
       "3521  WICRAquBug2022Jun02  WICRAquBug2022Jun14           14   \n",
       "3522  WICRAquBug2022Jun02  WICRAquBug2022Jun14           15   \n",
       "\n",
       "      DistanceFromBank_m  Depth_cm  Velocity_ms Comments  \n",
       "0                    0.0       8.0         0.00      NaN  \n",
       "1                    2.0      20.0         0.19      NaN  \n",
       "2                    4.0      17.0         0.26      NaN  \n",
       "3                    6.0      16.0         0.22      NaN  \n",
       "4                    8.0      16.0         0.21      NaN  \n",
       "...                  ...       ...          ...      ...  \n",
       "3518                10.0      21.0         0.12      NaN  \n",
       "3519                11.0      19.0         0.05      NaN  \n",
       "3520                12.0      14.0         0.01      NaN  \n",
       "3521                13.0      12.0         0.00      NaN  \n",
       "3522                14.0       0.0         0.00      NaN  \n",
       "\n",
       "[3523 rows x 10 columns]"
      ]
     },
     "execution_count": 3,
     "metadata": {},
     "output_type": "execute_result"
    }
   ],
   "source": [
    "df"
   ]
  },
  {
   "cell_type": "code",
   "execution_count": 4,
   "id": "60b00748-e1e6-454d-b762-4ae5fa3ee2c0",
   "metadata": {},
   "outputs": [
    {
     "data": {
      "text/plain": [
       "ParkName               object\n",
       "ParkCode               object\n",
       "LocationID             object\n",
       "PeriodID               object\n",
       "EventID                object\n",
       "DischargeNo             int64\n",
       "DistanceFromBank_m    float64\n",
       "Depth_cm              float64\n",
       "Velocity_ms           float64\n",
       "Comments               object\n",
       "dtype: object"
      ]
     },
     "execution_count": 4,
     "metadata": {},
     "output_type": "execute_result"
    }
   ],
   "source": [
    "df.dtypes"
   ]
  },
  {
   "cell_type": "code",
   "execution_count": 5,
   "id": "cbdc8492-2f84-42de-91f3-1c4d1d910d22",
   "metadata": {},
   "outputs": [
    {
     "data": {
      "text/plain": [
       "array(['Buffalo National River', 'Effigy Mounds National Monument',\n",
       "       'George Washington Carver National Monument',\n",
       "       'Herbert Hoover National Historic Site',\n",
       "       'Hot Springs National Park', 'Ozark National Scenic Riverways',\n",
       "       'Pea Ridge National Military Park', 'Pipestone National Monument',\n",
       "       'Tallgrass Prairie National Preserve',\n",
       "       \"Wilson's Creek National Battlefield\"], dtype=object)"
      ]
     },
     "execution_count": 5,
     "metadata": {},
     "output_type": "execute_result"
    }
   ],
   "source": [
    "df['ParkName'].unique() \n"
   ]
  },
  {
   "cell_type": "code",
   "execution_count": 6,
   "id": "16ae220c-15b7-40c2-b1ea-551400ced649",
   "metadata": {},
   "outputs": [
    {
     "data": {
      "text/plain": [
       "array(['BUFF', 'EFMO', 'GWCA', 'HEHO', 'HOSP', 'OZAR', 'PERI', 'PIPE',\n",
       "       'TAPR', 'WICR'], dtype=object)"
      ]
     },
     "execution_count": 6,
     "metadata": {},
     "output_type": "execute_result"
    }
   ],
   "source": [
    "df['ParkCode'].unique() \n"
   ]
  },
  {
   "cell_type": "code",
   "execution_count": 7,
   "id": "d7187bb5-b7ec-4dfc-8466-4ec66682b187",
   "metadata": {},
   "outputs": [
    {
     "data": {
      "text/plain": [
       "array(['BUFFRMINVEBM04', 'BUFFRMINVEBM06', 'BUFFRMINVEBM05',\n",
       "       'BUFFRMINVEBM02', 'BUFFRMINVEBM03', 'BUFFRMINVEBT25',\n",
       "       'BUFFRMINVEBM01', 'BUFFRMINVEBT05', 'BUFFRMINVEBT30',\n",
       "       'BUFFRMINVEBT31', 'BUFFRMINVEBT03', 'BUFFRMINVEBT22',\n",
       "       'BUFFRMINVEBT24', 'BUFFRMINVEBT09', 'BUFFRMINVEBT07',\n",
       "       'BUFFRMINVEBT13', 'BUFFRMINVEBT15', 'BUFFRMINVEBT16',\n",
       "       'BUFFRMINVEBT33', 'BUFFRMINVEBT23', 'BUFFRMINVEBT01',\n",
       "       'BUFFRMINVEBT06', 'BUFFRMINVEBT10', 'BUFFRMINVEBT11',\n",
       "       'BUFFRMINVEBT20', 'BUFFRMINVEBT04', 'BUFFRMINVEBT14',\n",
       "       'BUFFRMINVEBT17', 'BUFFRMINVEBT08', 'BUFFRMINVEBT27',\n",
       "       'BUFFRMINVEBT19', 'BUFFRMINVEBT29', 'EFMOAqubug01', 'GWCAAquBug01',\n",
       "       'GWCAAquBug02', 'GWCAAquBug03', 'HEHOAqubug01', 'HOSPAqubug02',\n",
       "       'HOSPAqubug01', 'OZARRMINVECM01', 'OZARRMINVEJM01',\n",
       "       'OZARRMINVEJT01', 'OZARRMINVEJM03', 'OZARRMINVEJM02',\n",
       "       'OZARRMINVECM03', 'OZARRMINVECM02', 'OZARRMINVECM06',\n",
       "       'OZARRMINVECT08', 'OZARRMINVECT13', 'OZARRMINVECT02',\n",
       "       'OZARRMINVEJT02', 'OZARRMINVECT07', 'OZARRMINVECT09',\n",
       "       'OZARRMINVECT01', 'OZARRMINVECT03', 'OZARRMINVEJT03',\n",
       "       'OZARRMINVECT04', 'OZARRMINVECT12', 'OZARRMINVECT06',\n",
       "       'OZARRMINVECT15', 'OZARRMINVECT14', 'OZARRMINVECT16',\n",
       "       'PERIAqubug01', 'PERIAqubug02', 'PERIAqubug03', 'PERIAQUBUG03',\n",
       "       'PERIAQUBUG01', 'PERIAQUBUG02', 'PIPEAquBug01', 'TAPRAqubug01',\n",
       "       'TAPRAqubug02', 'WICRAquBug01', 'WICRAquBug02', 'WICRAquBug03',\n",
       "       'WICRAQUBUG04', 'WICRAQUBUG02', 'WICRAQUBUG03'], dtype=object)"
      ]
     },
     "execution_count": 7,
     "metadata": {},
     "output_type": "execute_result"
    }
   ],
   "source": [
    "df['LocationID'].unique() "
   ]
  },
  {
   "cell_type": "code",
   "execution_count": 8,
   "id": "31153ef3-552f-491e-af6a-b1cf234b909a",
   "metadata": {},
   "outputs": [
    {
     "data": {
      "text/plain": [
       "array(['BUFFRMINVE2005NOV29', 'BUFFRMINVE2007Nov26',\n",
       "       'BUFFRMINVE2007JAN04', 'BUFFRMINVE2008Dec02',\n",
       "       'BUFFRMINVE2009Dec07', 'BUFFRMINVE2010Nov29',\n",
       "       'BUFFRMINVE2011Dec01', 'BUFFRMINVE2013Nov21',\n",
       "       'BUFFRMINVE2015Nov23', 'BUFFRMINVE2017Nov15',\n",
       "       'BUFFRMINVE2019Nov04', 'BUFFRMINVE2021Nov01',\n",
       "       'BUFFRMINVE2023Nov01', 'EFMOAqubug2008Jul09',\n",
       "       'EFMOAqubug2014Aug13', 'EFMOAquBug2017Jul18',\n",
       "       'GWCAAqubug2006Jun27', 'GWCAAqubug2007Jun26',\n",
       "       'GWCAAqubug2010May05', 'GWCAAqubug2013May01',\n",
       "       'GWCAAquBug2016May02', 'GWCAAquBug2019May06',\n",
       "       'GWCAAquBug2022May02', 'HEHOAquBug2017Jul17',\n",
       "       'HEHOAquBug2021Jul26', 'HEHOAquBug2022Jul05',\n",
       "       'HEHOAquBug2023Jul17', 'HOSPAqubug2009Jun16',\n",
       "       'HOSPAqubug2009Jun17', 'HOSPAqubug2012Jul10',\n",
       "       'HOSPAquabug2015Jul07', 'HOSPAquBug2018Jul09',\n",
       "       'OZARRMINVE2006NOV14', 'OZARRMINVE2006JAN03',\n",
       "       'OZARRMINVE2007Nov01', 'OZARRMINVE2008Nov05',\n",
       "       'OZARRMINVE2009Nov06', 'OZARRMINVE2010Nov03',\n",
       "       'OZARRMINVE2012Nov13', 'OZARRMINVE2014Nov05',\n",
       "       'OZARRMINVE2016Nov01', 'OZARRMINVE2018Nov07',\n",
       "       'OZARRMINVE2020Nov17', 'OZARRMINVE2022Oct25',\n",
       "       'PERIAqubug2009May01', 'PERIAqubug2009May04',\n",
       "       'PERIAqubug2010May12', 'PERIAqubug2012May01',\n",
       "       'PERIAqubug2015May05', 'PERIAquBug2018May07',\n",
       "       'PERIAquBug2021May06', 'PIPEAqubug2007Aug28',\n",
       "       'PIPEAqubug2013Sep12', 'PIPEAquBug2016Sep09',\n",
       "       'PIPEAquBug2021Aug26', 'PIPEAquBug2022Aug18',\n",
       "       'TAPRAqubug2009Sep01', 'TAPRAqubug2009Sep02',\n",
       "       'TAPRAqubug2013Apr23', 'TAPRAqubug2015Apr29',\n",
       "       'TAPRAquBug2018May03', 'WICRAqubug2006Jun13',\n",
       "       'WICRAqubug2006Jun14', 'WICRAqubug2007Jul15',\n",
       "       'WICRAqubug2007Jun22', 'WICRAqubug2010May03',\n",
       "       'WICRAqubug2013May06', 'WICRAquBug2016May04',\n",
       "       'WICRAquBug2019Jun03', 'WICRAquBug2022Jun02'], dtype=object)"
      ]
     },
     "execution_count": 8,
     "metadata": {},
     "output_type": "execute_result"
    }
   ],
   "source": [
    "df['PeriodID'].unique() "
   ]
  },
  {
   "cell_type": "code",
   "execution_count": 9,
   "id": "8c1f5883-7ffa-4ed6-8f18-4c915a6f8e9c",
   "metadata": {},
   "outputs": [
    {
     "data": {
      "text/plain": [
       "array(['BUFFRMINVE2005NOV29', 'BUFFRMINVE2007Nov26',\n",
       "       'BUFFRMINVE2007JAN04', 'BUFFRMINVE2008Dec02',\n",
       "       'BUFFRMINVE2009Dec07', 'BUFFRMINVE2010Nov29',\n",
       "       'BUFFRMINVE2011Dec01', 'BUFFRMINVE2013Nov21',\n",
       "       'BUFFRMINVE2015Nov23', 'BUFFRMINVE2017Nov15',\n",
       "       'BUFFRMINVE2019Nov04', 'BUFFRMINVE2021Nov01',\n",
       "       'BUFFRMINVE2023Nov01', 'EFMOAqubug2008Jul09',\n",
       "       'EFMOAqubug2014Aug13', 'EFMOAquBug2017Jul18',\n",
       "       'GWCAAqubug2006Jun27', 'GWCAAqubug2007Jun26',\n",
       "       'GWCAAqubug2010May05', 'GWCAAqubug2013May01',\n",
       "       'GWCAAquBug2016May02', 'GWCAAquBug2019May06',\n",
       "       'GWCAAquBug2022May02', 'HEHOAquBug2017Jul17',\n",
       "       'HEHOAquBug2021Jul26', 'HEHOAquBug2022Jul05',\n",
       "       'HEHOAquBug2023Jul17', 'HOSPAqubug2009Jun16',\n",
       "       'HOSPAqubug2009Jun17', 'HOSPAqubug2012Jul10',\n",
       "       'HOSPAquabug2015Jul07', 'HOSPAquBug2018Jul09',\n",
       "       'OZARRMINVE2006NOV14', 'OZARRMINVE2006JAN03',\n",
       "       'OZARRMINVE2007Nov01', 'OZARRMINVE2008Nov05',\n",
       "       'OZARRMINVE2009Nov06', 'OZARRMINVE2010Nov03',\n",
       "       'OZARRMINVE2012Nov13', 'OZARRMINVE2014Nov05',\n",
       "       'OZARRMINVE2016Nov01', 'OZARRMINVE2018Nov07',\n",
       "       'OZARRMINVE2020Nov17', 'OZARRMINVE2022Oct25',\n",
       "       'PERIAqubug2009May01', 'PERIAqubug2009May04',\n",
       "       'PERIAqubug2010May12', 'PERIAqubug2012May01',\n",
       "       'PERIAqubug2015May05', 'PERIAquBug2018May07',\n",
       "       'PERIAquBug2021May06', 'PIPEAqubug2007Aug28',\n",
       "       'PIPEAqubug2013Sep12', 'PIPEAquBug2016Sep09',\n",
       "       'PIPEAquBug2021Aug26', 'PIPEAquBug2022Aug18',\n",
       "       'TAPRAqubug2009Sep01', 'TAPRAqubug2009Sep02',\n",
       "       'TAPRAqubug2013Apr23', 'TAPRAqubug2015Apr29',\n",
       "       'TAPRAquBug2018May03', 'WICRAqubug2006Jun13',\n",
       "       'WICRAqubug2006Jun14', 'WICRAqubug2007Jul15',\n",
       "       'WICRAqubug2007Jun22', 'WICRAqubug2010May03',\n",
       "       'WICRAqubug2013May06', 'WICRAquBug2016May04',\n",
       "       'WICRAquBug2019Jun03', 'WICRAquBug2022Jun02'], dtype=object)"
      ]
     },
     "execution_count": 9,
     "metadata": {},
     "output_type": "execute_result"
    }
   ],
   "source": [
    "df['PeriodID'].unique() "
   ]
  },
  {
   "cell_type": "code",
   "execution_count": 10,
   "id": "5ea53881-4694-49b9-805f-c71bec1678be",
   "metadata": {},
   "outputs": [
    {
     "data": {
      "text/plain": [
       "array(['BUFFRMINVE2005DEC01', 'BUFFRMINVE2005DEC14',\n",
       "       'BUFFRMINVE2005DEC20', 'BUFFRMINVE2005NOV29',\n",
       "       'BUFFRMINVE2005NOV30', 'BUFFRMINVE2007Dec03',\n",
       "       'BUFFRMINVE2007Dec04', 'BUFFRMINVE2007FEB09',\n",
       "       'BUFFRMINVE2007FEB20', 'BUFFRMINVE2007FEB21',\n",
       "       'BUFFRMINVE2007JAN04', 'BUFFRMINVE2007JAN05',\n",
       "       'BUFFRMINVE2007JAN08', 'BUFFRMINVE2007JAN09',\n",
       "       'BUFFRMINVE2007Nov26', 'BUFFRMINVE2007Nov27',\n",
       "       'BUFFRMINVE2007Nov28', 'BUFFRMINVE2007Nov29',\n",
       "       'BUFFRMINVE2007Nov30', 'BUFFRMINVE2008Dec02',\n",
       "       'BUFFRMINVE2008Dec03', 'BUFFRMINVE2008Dec04',\n",
       "       'BUFFRMINVE2008Dec05', 'BUFFRMINVE2008Dec10',\n",
       "       'BUFFRMINVE2008Dec11', 'BUFFRMINVE2008Jan22',\n",
       "       'BUFFRMINVE2008Jan23', 'BUFFRMINVE2009Dec07',\n",
       "       'BUFFRMINVE2009Dec08', 'BUFFRMINVE2009Dec14',\n",
       "       'BUFFRMINVE2009Dec15', 'BUFFRMINVE2009Dec16',\n",
       "       'BUFFRMINVE2009Feb18', 'BUFFRMINVE2009Jan08',\n",
       "       'BUFFRMINVE2010Dec01', 'BUFFRMINVE2010Jan11',\n",
       "       'BUFFRMINVE2010Jan12', 'BUFFRMINVE2010Jan14',\n",
       "       'BUFFRMINVE2010Jan15', 'BUFFRMINVE2010Jan21',\n",
       "       'BUFFRMINVE2010Nov29', 'BUFFRMINVE2010Nov30',\n",
       "       'BUFFRMINVE2011Dec01', 'BUFFRMINVE2011Dec07',\n",
       "       'BUFFRMINVE2011Dec28', 'BUFFRMINVE2012Jan04',\n",
       "       'BUFFRMINVE2013Nov21', 'BUFFRMINVE2014Jan23',\n",
       "       'BUFFRMINVE2014Jan24', 'BUFFRMINVE2014Jan30',\n",
       "       'BUFFRMINVE2015Dec07', 'BUFFRMINVE2015Dec08',\n",
       "       'BUFFRMINVE2015Nov23', 'BUFFRMINVE2015Nov24',\n",
       "       'BUFFRMINVE2017Dec04', 'BUFFRMINVE2017Nov15',\n",
       "       'BUFFRMINVE2017Nov29', 'BUFFRMINVE2017Nov30',\n",
       "       'BUFFRMINVE2019Nov04', 'BUFFRMINVE2019Nov05',\n",
       "       'BUFFRMINVE2019Nov06', 'BUFFRMINVE2019Nov19',\n",
       "       'BUFFRMINVE2021Nov02', 'BUFFRMINVE2021Nov03',\n",
       "       'BUFFRMINVE2021Nov04', 'BUFFRMINVE2021Nov09',\n",
       "       'BUFFRMINVE2021Nov10', 'BUFFRMINVE2023Nov01',\n",
       "       'BUFFRMINVE2023Nov03', 'BUFFRMINVE2023Nov06',\n",
       "       'BUFFRMINVE2023Nov14', 'EFMOAqubug2008Jul09',\n",
       "       'EFMOAquBug2014Aug13', 'EFMOAquBug2017Jul18',\n",
       "       'GWCAAqubug2006Jun27', 'GWCAAqubug2007Jun26',\n",
       "       'GWCAAqubug2010May05', 'GWCAAqubug2013May01',\n",
       "       'GWCAAquBug2016May02', 'GWCAAquBug2019May06',\n",
       "       'GWCAAquBug2022May02', 'HEHOAquBug2017Jul17',\n",
       "       'HEHOAquBug2021Jul26', 'HEHOAquBug2022Jul05',\n",
       "       'HEHOAquBug2023Jul17', 'HOSPAqubug2009Jun16',\n",
       "       'HOSPAqubug2009Jun17', 'HOSPAqubug2012Jul10',\n",
       "       'HOSPAquBug2015Jul07', 'HOSPAquBug2018Jul09',\n",
       "       'OZARRMINVE2006DEC12', 'OZARRMINVE2006DEC13',\n",
       "       'OZARRMINVE2006DEC14', 'OZARRMINVE2006DEC18',\n",
       "       'OZARRMINVE2006DEC19', 'OZARRMINVE2006DEC22',\n",
       "       'OZARRMINVE2006JAN03', 'OZARRMINVE2006JAN04',\n",
       "       'OZARRMINVE2006JAN05', 'OZARRMINVE2006JAN10',\n",
       "       'OZARRMINVE2006JAN11', 'OZARRMINVE2006JAN12',\n",
       "       'OZARRMINVE2006JAN20', 'OZARRMINVE2006NOV15',\n",
       "       'OZARRMINVE2007Nov01', 'OZARRMINVE2007Nov06',\n",
       "       'OZARRMINVE2007Nov07', 'OZARRMINVE2007Nov08',\n",
       "       'OZARRMINVE2007Nov09', 'OZARRMINVE2007Nov13',\n",
       "       'OZARRMINVE2007Nov14', 'OZARRMINVE2008Nov06',\n",
       "       'OZARRMINVE2008Nov07', 'OZARRMINVE2008Nov12',\n",
       "       'OZARRMINVE2008Nov13', 'OZARRMINVE2008Nov21',\n",
       "       'OZARRMINVE2009Nov06', 'OZARRMINVE2009Nov09',\n",
       "       'OZARRMINVE2009Nov10', 'OZARRMINVE2009Nov12',\n",
       "       'OZARRMINVE2009Nov24', 'OZARRMINVE2010Nov03',\n",
       "       'OZARRMINVE2010Nov04', 'OZARRMINVE2012Nov13',\n",
       "       'OZARRMINVE2012Nov14', 'OZARRMINVE2012Nov15',\n",
       "       'OZARRMINVE2014Nov06', 'OZARRMINVE2014Nov07',\n",
       "       'OZARRMINVE2014Nov12', 'OZARRMINVE2016Nov02',\n",
       "       'OZARRMINVE2016Nov03', 'OZARRMINVE2016Nov09',\n",
       "       'OZARRMINVE2018Nov08', 'OZARRMINVE2018Nov09',\n",
       "       'OZARRMINVE2018Nov19', 'OZARRMINVE2020Dec01',\n",
       "       'OZARRMINVE2020Nov17', 'OZARRMINVE2021Jan05',\n",
       "       'OZARRMINVE2021Jan14', 'OZARRMINVE2022Oct25',\n",
       "       'OZARRMINVE2022Oct26', 'OZARRMINVE2022Oct28',\n",
       "       'PERIAqubug2009May01', 'PERIAqubug2009May04',\n",
       "       'PERIAqubug2010May12', 'PERIAqubug2012May01',\n",
       "       'PERIAquBug2015May05', 'PERIAquBug2018May07',\n",
       "       'PERIAquBug2021May06', 'PERIAquBug2021May10',\n",
       "       'PIPEAqubug2007Aug28', 'PIPEAquBug2013Sep12',\n",
       "       'PIPEAquBug2016Sep09', 'PIPEAquBug2021Aug26',\n",
       "       'PIPEAquBug2022Aug18', 'TAPRAqubug2009Sep01',\n",
       "       'TAPRAqubug2009Sep02', 'TAPRAqubug2013Apr23',\n",
       "       'TAPRAquBug2015Apr29', 'TAPRAquBug2018May04',\n",
       "       'WICRAqubug2006Jun13', 'WICRAqubug2006Jun14',\n",
       "       'WICRAqubug2007Jul15', 'WICRAqubug2007Jun22',\n",
       "       'WICRAqubug2010May03', 'WICRAqubug2013May06',\n",
       "       'WICRAquBug2016May04', 'WICRAquBug2019Jun03',\n",
       "       'WICRAquBug2019Jun11', 'WICRAquBug2022Jun02',\n",
       "       'WICRAquBug2022Jun09', 'WICRAquBug2022Jun14'], dtype=object)"
      ]
     },
     "execution_count": 10,
     "metadata": {},
     "output_type": "execute_result"
    }
   ],
   "source": [
    "df['EventID'].unique()"
   ]
  },
  {
   "cell_type": "code",
   "execution_count": 11,
   "id": "6aeeb17a-b627-40c9-b94e-6a4cd10791b0",
   "metadata": {},
   "outputs": [
    {
     "data": {
      "text/plain": [
       "array([ 1,  2,  3,  4,  5,  6,  7,  8,  9, 10, 11, 12, 13, 14, 15, 16, 17,\n",
       "       18, 19, 20, 21, 22, 23, 24, 25, 26, 27, 28, 29, 30, 31])"
      ]
     },
     "execution_count": 11,
     "metadata": {},
     "output_type": "execute_result"
    }
   ],
   "source": [
    "df['DischargeNo'].unique()"
   ]
  },
  {
   "cell_type": "code",
   "execution_count": 12,
   "id": "94bac7d1-22ab-48f3-a327-86df2af3ac07",
   "metadata": {},
   "outputs": [],
   "source": [
    "cols = ['DistanceFromBank_m']\n",
    "df2 = df[df[cols] > 0]"
   ]
  },
  {
   "cell_type": "code",
   "execution_count": 13,
   "id": "99086034-e79e-464b-bc1a-95d5d146d639",
   "metadata": {},
   "outputs": [
    {
     "data": {
      "text/plain": [
       "array([[<Axes: title={'center': 'DistanceFromBank_m'}>]], dtype=object)"
      ]
     },
     "execution_count": 13,
     "metadata": {},
     "output_type": "execute_result"
    },
    {
     "data": {
      "image/png": "[encoded data removed]",
      "text/plain": [
       "<Figure size 640x480 with 1 Axes>"
      ]
     },
     "metadata": {},
     "output_type": "display_data"
    }
   ],
   "source": [
    "df2.hist(column='DistanceFromBank_m')"
   ]
  },
  {
   "cell_type": "code",
   "execution_count": 14,
   "id": "95e48eec-a5ae-4c0d-a80d-2e7faea61aae",
   "metadata": {},
   "outputs": [
    {
     "data": {
      "text/plain": [
       "array([[<Axes: title={'center': 'Depth_cm'}>]], dtype=object)"
      ]
     },
     "execution_count": 14,
     "metadata": {},
     "output_type": "execute_result"
    },
    {
     "data": {
      "image/png": "[encoded data removed]",
      "text/plain": [
       "<Figure size 640x480 with 1 Axes>"
      ]
     },
     "metadata": {},
     "output_type": "display_data"
    }
   ],
   "source": [
    "col = ['Depth_cm']\n",
    "df2 = df[df[col] > 0]\n",
    "df2.hist(column=col)"
   ]
  },
  {
   "cell_type": "code",
   "execution_count": 15,
   "id": "a50d0807-9b1a-4093-9dff-1ad636d5282c",
   "metadata": {},
   "outputs": [
    {
     "data": {
      "text/plain": [
       "array([[<Axes: title={'center': 'Velocity_ms'}>]], dtype=object)"
      ]
     },
     "execution_count": 15,
     "metadata": {},
     "output_type": "execute_result"
    },
    {
     "data": {
      "image/png": "[encoded data removed]",
      "text/plain": [
       "<Figure size 640x480 with 1 Axes>"
      ]
     },
     "metadata": {},
     "output_type": "display_data"
    }
   ],
   "source": [
    "col = ['Velocity_ms']\n",
    "df2 = df[df[col] > 0]\n",
    "df2.hist(column=col)"
   ]
  },
  {
   "cell_type": "code",
   "execution_count": 16,
   "id": "68e85426-5bff-44b3-a893-4f11076a3fe8",
   "metadata": {},
   "outputs": [
    {
     "data": {
      "text/plain": [
       "array([nan, 'tree roots creating on bank eddie',\n",
       "       'big boulder moved to left', 'SHORT',\n",
       "       'No discharge taken. too low for meaningful results', '*',\n",
       "       'no discharge - Dead flow meter', 'Boulder',\n",
       "       'boulder in front of first point', '0', 'taken within watercress',\n",
       "       'half meter', 'to shallow', 'short distance', 'veg up',\n",
       "       'very little flow. negative reading',\n",
       "       'moved over due to grass patch', '.5'], dtype=object)"
      ]
     },
     "execution_count": 16,
     "metadata": {},
     "output_type": "execute_result"
    }
   ],
   "source": [
    "df['Comments'].unique()"
   ]
  },
  {
   "cell_type": "code",
   "execution_count": null,
   "id": "d5eca26e-f99c-450f-b578-7eb3b62c8c35",
   "metadata": {},
   "outputs": [],
   "source": []
  }
 ],
 "metadata": {
  "kernelspec": {
   "display_name": "Python 3 (ipykernel)",
   "language": "python",
   "name": "python3"
  },
  "language_info": {
   "codemirror_mode": {
    "name": "ipython",
    "version": 3
   },
   "file_extension": ".py",
   "mimetype": "text/x-python",
   "name": "python",
   "nbconvert_exporter": "python",
   "pygments_lexer": "ipython3",
   "version": "3.10.14"
  }
 },
 "nbformat": 4,
 "nbformat_minor": 5
}
