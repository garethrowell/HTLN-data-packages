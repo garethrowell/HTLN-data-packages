{
 "cells": [
  {
   "cell_type": "code",
   "execution_count": 1,
   "id": "b72034c7-cb39-4e64-92d6-9aa5ef494d9a",
   "metadata": {},
   "outputs": [],
   "source": [
    "import pandas as pd\n",
    "import matplotlib.pyplot as plt"
   ]
  },
  {
   "cell_type": "code",
   "execution_count": 2,
   "id": "176f2ada-7c7b-44ed-b815-6d71e4ec7ec1",
   "metadata": {},
   "outputs": [],
   "source": [
    "df = pd.read_csv(\"location_details.csv\")"
   ]
  },
  {
   "cell_type": "code",
   "execution_count": 3,
   "id": "09a376c8-e74c-4a57-8404-dc00206d6375",
   "metadata": {},
   "outputs": [
    {
     "data": {
      "text/html": [
       "<div>\n",
       "<style scoped>\n",
       "    .dataframe tbody tr th:only-of-type {\n",
       "        vertical-align: middle;\n",
       "    }\n",
       "\n",
       "    .dataframe tbody tr th {\n",
       "        vertical-align: top;\n",
       "    }\n",
       "\n",
       "    .dataframe thead th {\n",
       "        text-align: right;\n",
       "    }\n",
       "</style>\n",
       "<table border=\"1\" class=\"dataframe\">\n",
       "  <thead>\n",
       "    <tr style=\"text-align: right;\">\n",
       "      <th></th>\n",
       "      <th>ParkName</th>\n",
       "      <th>ParkCode</th>\n",
       "      <th>LocationID</th>\n",
       "      <th>LocationNumber</th>\n",
       "      <th>LocationType</th>\n",
       "      <th>LocationDescription</th>\n",
       "      <th>StreamName</th>\n",
       "      <th>TributaryName</th>\n",
       "      <th>County</th>\n",
       "      <th>StretchNumber</th>\n",
       "      <th>ReachID</th>\n",
       "    </tr>\n",
       "  </thead>\n",
       "  <tbody>\n",
       "    <tr>\n",
       "      <th>0</th>\n",
       "      <td>Buffalo National River</td>\n",
       "      <td>BUFF</td>\n",
       "      <td>BUFFRMINVEBM01</td>\n",
       "      <td>1</td>\n",
       "      <td>Mainstem</td>\n",
       "      <td>NaN</td>\n",
       "      <td>Buffalo River</td>\n",
       "      <td>NaN</td>\n",
       "      <td>Newton</td>\n",
       "      <td>24.0</td>\n",
       "      <td>BUFFM01</td>\n",
       "    </tr>\n",
       "    <tr>\n",
       "      <th>1</th>\n",
       "      <td>Buffalo National River</td>\n",
       "      <td>BUFF</td>\n",
       "      <td>BUFFRMINVEBM02</td>\n",
       "      <td>2</td>\n",
       "      <td>Mainstem</td>\n",
       "      <td>NaN</td>\n",
       "      <td>Buffalo River</td>\n",
       "      <td>NaN</td>\n",
       "      <td>Newton</td>\n",
       "      <td>55.0</td>\n",
       "      <td>BUFFM02</td>\n",
       "    </tr>\n",
       "    <tr>\n",
       "      <th>2</th>\n",
       "      <td>Buffalo National River</td>\n",
       "      <td>BUFF</td>\n",
       "      <td>BUFFRMINVEBM03</td>\n",
       "      <td>3</td>\n",
       "      <td>Mainstem</td>\n",
       "      <td>NaN</td>\n",
       "      <td>Buffalo River</td>\n",
       "      <td>NaN</td>\n",
       "      <td>Newton</td>\n",
       "      <td>59.0</td>\n",
       "      <td>BUFFM03</td>\n",
       "    </tr>\n",
       "    <tr>\n",
       "      <th>3</th>\n",
       "      <td>Buffalo National River</td>\n",
       "      <td>BUFF</td>\n",
       "      <td>BUFFRMINVEBM04</td>\n",
       "      <td>4</td>\n",
       "      <td>Mainstem</td>\n",
       "      <td>NaN</td>\n",
       "      <td>Buffalo River</td>\n",
       "      <td>NaN</td>\n",
       "      <td>Searcy</td>\n",
       "      <td>69.0</td>\n",
       "      <td>BUFFM04</td>\n",
       "    </tr>\n",
       "    <tr>\n",
       "      <th>4</th>\n",
       "      <td>Buffalo National River</td>\n",
       "      <td>BUFF</td>\n",
       "      <td>BUFFRMINVEBM05</td>\n",
       "      <td>5</td>\n",
       "      <td>Mainstem</td>\n",
       "      <td>NaN</td>\n",
       "      <td>Buffalo River</td>\n",
       "      <td>NaN</td>\n",
       "      <td>Searcy</td>\n",
       "      <td>73.0</td>\n",
       "      <td>BUFFM05</td>\n",
       "    </tr>\n",
       "    <tr>\n",
       "      <th>...</th>\n",
       "      <td>...</td>\n",
       "      <td>...</td>\n",
       "      <td>...</td>\n",
       "      <td>...</td>\n",
       "      <td>...</td>\n",
       "      <td>...</td>\n",
       "      <td>...</td>\n",
       "      <td>...</td>\n",
       "      <td>...</td>\n",
       "      <td>...</td>\n",
       "      <td>...</td>\n",
       "    </tr>\n",
       "    <tr>\n",
       "      <th>89</th>\n",
       "      <td>Tallgrass Prairie National Preserve</td>\n",
       "      <td>TAPR</td>\n",
       "      <td>TAPRAqubug02</td>\n",
       "      <td>2</td>\n",
       "      <td>Tributary</td>\n",
       "      <td>NaN</td>\n",
       "      <td>Palmer Creek</td>\n",
       "      <td>NaN</td>\n",
       "      <td>Chase</td>\n",
       "      <td>NaN</td>\n",
       "      <td>TAPRMID36</td>\n",
       "    </tr>\n",
       "    <tr>\n",
       "      <th>90</th>\n",
       "      <td>Wilson's Creek National Battlefield</td>\n",
       "      <td>WICR</td>\n",
       "      <td>WICRAquBug01</td>\n",
       "      <td>1</td>\n",
       "      <td>Tributary</td>\n",
       "      <td>Upper Wilson's Creek (WICR 1)</td>\n",
       "      <td>Upper Wilson Creek</td>\n",
       "      <td>NaN</td>\n",
       "      <td>Greene</td>\n",
       "      <td>NaN</td>\n",
       "      <td>WICRUPP01</td>\n",
       "    </tr>\n",
       "    <tr>\n",
       "      <th>91</th>\n",
       "      <td>Wilson's Creek National Battlefield</td>\n",
       "      <td>WICR</td>\n",
       "      <td>WICRAquBug02</td>\n",
       "      <td>2</td>\n",
       "      <td>Tributary</td>\n",
       "      <td>Site 1 2010; Lower Wilson's Creek (WICR 3)</td>\n",
       "      <td>Lower Wilson Creek</td>\n",
       "      <td>NaN</td>\n",
       "      <td>Greene</td>\n",
       "      <td>NaN</td>\n",
       "      <td>WICRLOW02</td>\n",
       "    </tr>\n",
       "    <tr>\n",
       "      <th>92</th>\n",
       "      <td>Wilson's Creek National Battlefield</td>\n",
       "      <td>WICR</td>\n",
       "      <td>WICRAquBug03</td>\n",
       "      <td>3</td>\n",
       "      <td>Tributary</td>\n",
       "      <td>Site 2 2010; Skeggs Branch (WICR 2)</td>\n",
       "      <td>Skegg's Branch</td>\n",
       "      <td>NaN</td>\n",
       "      <td>Greene</td>\n",
       "      <td>NaN</td>\n",
       "      <td>WICRLOW03</td>\n",
       "    </tr>\n",
       "    <tr>\n",
       "      <th>93</th>\n",
       "      <td>Wilson's Creek National Battlefield</td>\n",
       "      <td>WICR</td>\n",
       "      <td>WICRAQUBUG04</td>\n",
       "      <td>4</td>\n",
       "      <td>Tributary</td>\n",
       "      <td>Site 3 2010; Terrel Creek</td>\n",
       "      <td>Terrell Creek</td>\n",
       "      <td>NaN</td>\n",
       "      <td>Christian</td>\n",
       "      <td>NaN</td>\n",
       "      <td>WICRLOW04</td>\n",
       "    </tr>\n",
       "  </tbody>\n",
       "</table>\n",
       "<p>94 rows × 11 columns</p>\n",
       "</div>"
      ],
      "text/plain": [
       "                               ParkName ParkCode      LocationID  \\\n",
       "0                Buffalo National River     BUFF  BUFFRMINVEBM01   \n",
       "1                Buffalo National River     BUFF  BUFFRMINVEBM02   \n",
       "2                Buffalo National River     BUFF  BUFFRMINVEBM03   \n",
       "3                Buffalo National River     BUFF  BUFFRMINVEBM04   \n",
       "4                Buffalo National River     BUFF  BUFFRMINVEBM05   \n",
       "..                                  ...      ...             ...   \n",
       "89  Tallgrass Prairie National Preserve     TAPR    TAPRAqubug02   \n",
       "90  Wilson's Creek National Battlefield     WICR    WICRAquBug01   \n",
       "91  Wilson's Creek National Battlefield     WICR    WICRAquBug02   \n",
       "92  Wilson's Creek National Battlefield     WICR    WICRAquBug03   \n",
       "93  Wilson's Creek National Battlefield     WICR    WICRAQUBUG04   \n",
       "\n",
       "    LocationNumber LocationType                         LocationDescription  \\\n",
       "0                1     Mainstem                                         NaN   \n",
       "1                2     Mainstem                                         NaN   \n",
       "2                3     Mainstem                                         NaN   \n",
       "3                4     Mainstem                                         NaN   \n",
       "4                5     Mainstem                                         NaN   \n",
       "..             ...          ...                                         ...   \n",
       "89               2    Tributary                                         NaN   \n",
       "90               1    Tributary               Upper Wilson's Creek (WICR 1)   \n",
       "91               2    Tributary  Site 1 2010; Lower Wilson's Creek (WICR 3)   \n",
       "92               3    Tributary         Site 2 2010; Skeggs Branch (WICR 2)   \n",
       "93               4    Tributary                   Site 3 2010; Terrel Creek   \n",
       "\n",
       "            StreamName TributaryName     County  StretchNumber    ReachID  \n",
       "0        Buffalo River           NaN     Newton           24.0    BUFFM01  \n",
       "1        Buffalo River           NaN     Newton           55.0    BUFFM02  \n",
       "2        Buffalo River           NaN     Newton           59.0    BUFFM03  \n",
       "3        Buffalo River           NaN     Searcy           69.0    BUFFM04  \n",
       "4        Buffalo River           NaN     Searcy           73.0    BUFFM05  \n",
       "..                 ...           ...        ...            ...        ...  \n",
       "89        Palmer Creek           NaN      Chase            NaN  TAPRMID36  \n",
       "90  Upper Wilson Creek           NaN     Greene            NaN  WICRUPP01  \n",
       "91  Lower Wilson Creek           NaN     Greene            NaN  WICRLOW02  \n",
       "92      Skegg's Branch           NaN     Greene            NaN  WICRLOW03  \n",
       "93       Terrell Creek           NaN  Christian            NaN  WICRLOW04  \n",
       "\n",
       "[94 rows x 11 columns]"
      ]
     },
     "execution_count": 3,
     "metadata": {},
     "output_type": "execute_result"
    }
   ],
   "source": [
    "df"
   ]
  },
  {
   "cell_type": "code",
   "execution_count": 4,
   "id": "60b00748-e1e6-454d-b762-4ae5fa3ee2c0",
   "metadata": {},
   "outputs": [
    {
     "data": {
      "text/plain": [
       "ParkName                object\n",
       "ParkCode                object\n",
       "LocationID              object\n",
       "LocationNumber           int64\n",
       "LocationType            object\n",
       "LocationDescription     object\n",
       "StreamName              object\n",
       "TributaryName           object\n",
       "County                  object\n",
       "StretchNumber          float64\n",
       "ReachID                 object\n",
       "dtype: object"
      ]
     },
     "execution_count": 4,
     "metadata": {},
     "output_type": "execute_result"
    }
   ],
   "source": [
    "df.dtypes"
   ]
  },
  {
   "cell_type": "code",
   "execution_count": 5,
   "id": "cbdc8492-2f84-42de-91f3-1c4d1d910d22",
   "metadata": {},
   "outputs": [
    {
     "data": {
      "text/plain": [
       "array(['Buffalo National River', 'Effigy Mounds National Monument',\n",
       "       'George Washington Carver National Monument',\n",
       "       'Herbert Hoover National Historic Site',\n",
       "       'Homestead National Historic Site', 'Hot Springs National Park',\n",
       "       'Ozark National Scenic Riverways',\n",
       "       'Pea Ridge National Military Park', 'Pipestone National Monument',\n",
       "       'Tallgrass Prairie National Preserve',\n",
       "       \"Wilson's Creek National Battlefield\"], dtype=object)"
      ]
     },
     "execution_count": 5,
     "metadata": {},
     "output_type": "execute_result"
    }
   ],
   "source": [
    "df['ParkName'].unique() "
   ]
  },
  {
   "cell_type": "code",
   "execution_count": 6,
   "id": "efbd30e6-13fa-455b-a596-2f0eb7164900",
   "metadata": {},
   "outputs": [
    {
     "data": {
      "text/plain": [
       "array(['BUFF', 'EFMO', 'GWCA', 'HEHO', 'HOME', 'HOSP', 'OZAR', 'OZRS',\n",
       "       'PERI', 'PIPE', 'TAPR', 'WICR'], dtype=object)"
      ]
     },
     "execution_count": 6,
     "metadata": {},
     "output_type": "execute_result"
    }
   ],
   "source": [
    "df['ParkCode'].unique() "
   ]
  },
  {
   "cell_type": "code",
   "execution_count": 7,
   "id": "8774df89-f995-4d96-96c7-17b778c06d1a",
   "metadata": {},
   "outputs": [
    {
     "data": {
      "text/plain": [
       "array(['BUFFRMINVEBM01', 'BUFFRMINVEBM02', 'BUFFRMINVEBM03',\n",
       "       'BUFFRMINVEBM04', 'BUFFRMINVEBM05', 'BUFFRMINVEBM06',\n",
       "       'BUFFRMINVEBT01', 'BUFFRMINVEBT02', 'BUFFRMINVEBT03',\n",
       "       'BUFFRMINVEBT04', 'BUFFRMINVEBT05', 'BUFFRMINVEBT06',\n",
       "       'BUFFRMINVEBT07', 'BUFFRMINVEBT08', 'BUFFRMINVEBT09',\n",
       "       'BUFFRMINVEBT10', 'BUFFRMINVEBT11', 'BUFFRMINVEBT12',\n",
       "       'BUFFRMINVEBT13', 'BUFFRMINVEBT14', 'BUFFRMINVEBT15',\n",
       "       'BUFFRMINVEBT16', 'BUFFRMINVEBT17', 'BUFFRMINVEBT18',\n",
       "       'BUFFRMINVEBT19', 'BUFFRMINVEBT20', 'BUFFRMINVEBT21',\n",
       "       'BUFFRMINVEBT22', 'BUFFRMINVEBT23', 'BUFFRMINVEBT24',\n",
       "       'BUFFRMINVEBT25', 'BUFFRMINVEBT26', 'BUFFRMINVEBT27',\n",
       "       'BUFFRMINVEBT28', 'BUFFRMINVEBT29', 'BUFFRMINVEBT30',\n",
       "       'BUFFRMINVEBT31', 'BUFFRMINVEBT32', 'BUFFRMINVEBT33',\n",
       "       'EFMOAqubug01', 'GWCAAquBug01', 'GWCAAquBug02', 'GWCAAquBug03',\n",
       "       'HEHOAqubug01', 'HOMEAquBug01', 'HOMEAquBug02', 'HOSPAqubug01',\n",
       "       'HOSPAqubug02', 'OZARRMINVECM01', 'OZARRMINVECM02',\n",
       "       'OZARRMINVECM03', 'OZARRMINVECM04', 'OZARRMINVECM05',\n",
       "       'OZARRMINVECM06', 'OZARRMINVECT01', 'OZARRMINVECT02',\n",
       "       'OZARRMINVECT03', 'OZARRMINVECT04', 'OZARRMINVECT05',\n",
       "       'OZARRMINVECT06', 'OZARRMINVECT07', 'OZARRMINVECT08',\n",
       "       'OZARRMINVECT09', 'OZARRMINVECT10', 'OZARRMINVECT11',\n",
       "       'OZARRMINVECT12', 'OZARRMINVECT13', 'OZARRMINVECT14',\n",
       "       'OZARRMINVECT15', 'OZARRMINVECT16', 'OZARRMINVEJM01',\n",
       "       'OZARRMINVEJM02', 'OZARRMINVEJM03', 'OZARRMINVEJT01',\n",
       "       'OZARRMINVEJT02', 'OZARRMINVEJT03', 'OZRSSPRNGSSITE01',\n",
       "       'OZRSSPRNGSSITE02', 'OZRSSPRNGSSITE03', 'OZRSSPRNGSSITE04',\n",
       "       'OZRSSPRNGSSITE05', 'OZRSSPRNGSSITE06', 'OZRSSPRNGSSITE07',\n",
       "       'PERIAqubug01', 'PERIAqubug02', 'PERIAqubug03', 'PIPEAquBug01',\n",
       "       'PIPEAquBug02', 'TAPRAqubug01', 'TAPRAqubug02', 'WICRAquBug01',\n",
       "       'WICRAquBug02', 'WICRAquBug03', 'WICRAQUBUG04'], dtype=object)"
      ]
     },
     "execution_count": 7,
     "metadata": {},
     "output_type": "execute_result"
    }
   ],
   "source": [
    "df['LocationID'].unique() "
   ]
  },
  {
   "cell_type": "code",
   "execution_count": 8,
   "id": "9b933f98-55b6-42bc-99f0-98cfede3b30d",
   "metadata": {},
   "outputs": [
    {
     "data": {
      "text/plain": [
       "array([ 1,  2,  3,  4,  5,  6,  7,  8,  9, 10, 11, 12, 13, 14, 15, 16, 17,\n",
       "       18, 19, 20, 21, 22, 23, 24, 25, 26, 27, 28, 29, 30, 31, 32, 33])"
      ]
     },
     "execution_count": 8,
     "metadata": {},
     "output_type": "execute_result"
    }
   ],
   "source": [
    "df['LocationNumber'].unique() "
   ]
  },
  {
   "cell_type": "code",
   "execution_count": 9,
   "id": "0ba67130-5c67-4f62-8b4f-70d7d3d3baf0",
   "metadata": {},
   "outputs": [
    {
     "data": {
      "text/plain": [
       "array(['Mainstem', 'Tributary', 'Spring'], dtype=object)"
      ]
     },
     "execution_count": 9,
     "metadata": {},
     "output_type": "execute_result"
    }
   ],
   "source": [
    "df['LocationType'].unique() "
   ]
  },
  {
   "cell_type": "code",
   "execution_count": 10,
   "id": "da18e6c6-e4c1-4ad5-b5b3-890af5d5c9e9",
   "metadata": {},
   "outputs": [
    {
     "data": {
      "text/plain": [
       "array([nan, 'Alternate; Not sampled', 'Dry; Not sampled',\n",
       "       'Dry; not sampled', 'Hester Dendy samplers used',\n",
       "       'Riffles located above bridge crossing on park loop road',\n",
       "       'No true riffles.  Samples collected in successive order. and equally spaced between park loop road and spring source.',\n",
       "       'PPS1', 'PPS2',\n",
       "       'Initial sampling was first three riffles below low water crossing on Creek.',\n",
       "       \"Upper Wilson's Creek (WICR 1)\",\n",
       "       \"Site 1 2010; Lower Wilson's Creek (WICR 3)\",\n",
       "       'Site 2 2010; Skeggs Branch (WICR 2)', 'Site 3 2010; Terrel Creek'],\n",
       "      dtype=object)"
      ]
     },
     "execution_count": 10,
     "metadata": {},
     "output_type": "execute_result"
    }
   ],
   "source": [
    "df['LocationDescription'].unique() "
   ]
  },
  {
   "cell_type": "code",
   "execution_count": 11,
   "id": "0e94b423-d8dc-43c9-bbea-79a30e79f8be",
   "metadata": {},
   "outputs": [
    {
     "data": {
      "text/plain": [
       "array(['Buffalo River', 'Dousman Creek', 'Carver Branch',\n",
       "       'Williams Branch', 'Harkins Branch', 'Hoover Creek',\n",
       "       'North Cub Creek', 'West Cub Creek', 'Bull Bayou', 'Gulpha Creek',\n",
       "       'Current River', 'Jacks Fork', 'Alley Spring', 'Big Spring',\n",
       "       'Blue Spring', 'Pulltite Spring', 'Round Spring', 'Welch Spring',\n",
       "       'Phillips Spring', 'Pratt Creek', 'Winton Spring Branch',\n",
       "       'Lee Creek', 'Upper Pipestone Creek', 'Middle Pipestone Creek',\n",
       "       'Fox Creek', 'Palmer Creek', 'Upper Wilson Creek',\n",
       "       'Lower Wilson Creek', \"Skegg's Branch\", 'Terrell Creek'],\n",
       "      dtype=object)"
      ]
     },
     "execution_count": 11,
     "metadata": {},
     "output_type": "execute_result"
    }
   ],
   "source": [
    "df['StreamName'].unique() "
   ]
  },
  {
   "cell_type": "code",
   "execution_count": 12,
   "id": "7b9735f8-31cd-4d95-8950-db90f1da8741",
   "metadata": {},
   "outputs": [
    {
     "data": {
      "text/plain": [
       "array([nan, 'Smith Creek', 'Moore Creek', 'Whiteley Creek',\n",
       "       'Sneeds Creek', 'Cecil Creek', 'Glade Creek', 'Mill Creek (U)',\n",
       "       'Vanishing Creek', 'Little Buffalo', 'Wells Creek', 'Rock Creek',\n",
       "       'Sheldon Branch', 'Big Creek (U)', 'Lick Creek', 'Davis Creek',\n",
       "       'Mill Branch', 'Richland Creek', 'Slay Branch', 'Calf Creek',\n",
       "       'Bear Creek', 'Brush Creek', 'Spring Creek', 'Water Creek',\n",
       "       'Hickory Creek', 'Panther Creek', 'Rush Creek', 'Clabber Creek',\n",
       "       'Boat Creek', 'Big Creek (L)', 'Middle Creek', 'Leatherwood Creek',\n",
       "       'Cow Creek', 'Stewart Creek', 'Shafer Spring', 'Sutton Creek',\n",
       "       'Thompson Creek', 'Prairie Hollow', 'Thorny Hollow', 'Blair Creek',\n",
       "       'Powdermill Creek', 'Rocky Creek', 'Carr Creek', 'Thorny Creek',\n",
       "       'Chilton Creek', 'Rogers Creek', 'Mill Creek', 'Sinking Creek',\n",
       "       'Big West Creek', 'Big East Creek', 'Flat Rock Hollow',\n",
       "       'Water Branch', 'Shawnee Creek'], dtype=object)"
      ]
     },
     "execution_count": 12,
     "metadata": {},
     "output_type": "execute_result"
    }
   ],
   "source": [
    "df['TributaryName'].unique() "
   ]
  },
  {
   "cell_type": "code",
   "execution_count": 13,
   "id": "47b8d17c-9156-4e95-9d87-ca3a5ef8a2ec",
   "metadata": {},
   "outputs": [
    {
     "data": {
      "text/plain": [
       "array(['Newton', 'Searcy', 'Marion', 'Allamakee', 'Cedar', 'Gage',\n",
       "       'Garland', 'Shannon', 'Carter', 'Dent', 'Benton', 'Pipestone',\n",
       "       'Chase', 'Greene', 'Christian'], dtype=object)"
      ]
     },
     "execution_count": 13,
     "metadata": {},
     "output_type": "execute_result"
    }
   ],
   "source": [
    "df['County'].unique() "
   ]
  },
  {
   "cell_type": "code",
   "execution_count": 14,
   "id": "c0ffb114-43da-4847-9c4e-602da30f398d",
   "metadata": {},
   "outputs": [
    {
     "data": {
      "text/plain": [
       "array([ 24.,  55.,  59.,  69.,  73.,  87., 279., 481., 640., 441., 462.,\n",
       "       403., 646., 229., 420., 638., 317., 242., 244., 367., 383., 225.,\n",
       "       304., 232., 378., 472., 241., 300., 574., 649., 238., 694., 476.,\n",
       "       484., 366., 603., 623., 275., 390.,  nan,  14.,  35.,  46.,  67.,\n",
       "        71.,  97., 819., 850., 576., 920., 473., 917., 494., 657., 695.,\n",
       "       711., 930., 950., 685., 463., 734., 856., 104., 114., 123., 907.,\n",
       "       542., 699.])"
      ]
     },
     "execution_count": 14,
     "metadata": {},
     "output_type": "execute_result"
    }
   ],
   "source": [
    "df['StretchNumber'].unique() "
   ]
  },
  {
   "cell_type": "code",
   "execution_count": 15,
   "id": "e6e57489-718d-4766-8237-ab6966be632b",
   "metadata": {},
   "outputs": [
    {
     "data": {
      "text/plain": [
       "array(['BUFFM01', 'BUFFM02', 'BUFFM03', 'BUFFM04', 'BUFFM05', 'BUFFM06',\n",
       "       'BUFFT01', 'BUFFT02', 'BUFFT03', 'BUFFT04', 'BUFFT05', 'BUFFT06',\n",
       "       'BUFFT07', 'BUFFT08', 'BUFFT09', 'BUFFT10', 'BUFFT11', 'BUFFT12',\n",
       "       'BUFFT13', 'BUFFT14', 'BUFFT15', 'BUFFT16', 'BUFFT17', 'BUFFT18',\n",
       "       'BUFFT19', 'BUFFT20', 'BUFFT21', 'BUFFT22', 'BUFFT23', 'BUFFT24',\n",
       "       'BUFFT25', 'BUFFT26', 'BUFFT27', 'BUFFT28', 'BUFFT29', 'BUFFT30',\n",
       "       'BUFFT31', 'BUFFT32', 'BUFFT33', 'EFMOUPP01', 'GWCALOW01',\n",
       "       'GWCALOW02', 'GWCALOW03', 'HEHOLOW01', 'HOMELOW01', 'HOMEUPP01',\n",
       "       'HOSPLOW02', 'HOSPLOW01', 'CURRM01', 'CURRM02', 'CURRM03',\n",
       "       'CURRM04', 'CURRM05', 'CURRM06', 'CURRT01', 'CURRT02', 'CURRT03',\n",
       "       'CURRT04', 'CURRT05', 'CURRT06', 'CURRT07', 'CURRT08', 'CURRT09',\n",
       "       'CURRT10', 'CURRT11', 'CURRT12', 'CURRT13', 'CURRT14', 'CURRT15',\n",
       "       'CURRT16', 'JACKM01', 'JACKM02', 'JACKM 03', 'JACKT01', 'JACKT02',\n",
       "       'JACKT03', 'OZARSPRALL', 'OZARSPRBIG', 'OZARSPRBLU', 'OZARSPRPUL',\n",
       "       'OZARSPRROU', 'OZARSPRWEL', 'OZARSPRPHI', 'PERILOW01', 'PERILOW02',\n",
       "       'PERILOW03', 'PIPEUPP01', 'PIPEMID01', 'TAPRLOW35', 'TAPRMID36',\n",
       "       'WICRUPP01', 'WICRLOW02', 'WICRLOW03', 'WICRLOW04'], dtype=object)"
      ]
     },
     "execution_count": 15,
     "metadata": {},
     "output_type": "execute_result"
    }
   ],
   "source": [
    "df['ReachID'].unique() "
   ]
  }
 ],
 "metadata": {
  "kernelspec": {
   "display_name": "Python 3 (ipykernel)",
   "language": "python",
   "name": "python3"
  },
  "language_info": {
   "codemirror_mode": {
    "name": "ipython",
    "version": 3
   },
   "file_extension": ".py",
   "mimetype": "text/x-python",
   "name": "python",
   "nbconvert_exporter": "python",
   "pygments_lexer": "ipython3",
   "version": "3.10.14"
  }
 },
 "nbformat": 4,
 "nbformat_minor": 5
}
